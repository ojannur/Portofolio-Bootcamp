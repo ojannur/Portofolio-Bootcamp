{
  "nbformat": 4,
  "nbformat_minor": 0,
  "metadata": {
    "colab": {
      "provenance": [],
      "collapsed_sections": [
        "95T5FlzjlrMw",
        "pBNgOfKxmwu9"
      ]
    },
    "kernelspec": {
      "name": "python3",
      "display_name": "Python 3"
    },
    "language_info": {
      "name": "python"
    }
  },
  "cells": [
    {
      "cell_type": "markdown",
      "source": [
        "# Graded Challange 2\n",
        "\n",
        "Hi, my name Fauzan Nurachman a.k.a Ojan from class Full Time Data Science Batch 003"
      ],
      "metadata": {
        "id": "5QPvzBqT22Te"
      }
    },
    {
      "cell_type": "markdown",
      "source": [
        "## Description\n",
        "\n",
        "### Objective\n",
        "\n",
        "Analyze Austin Smart City's project on waste disposal and management work and recommend to the government what the next action will be in the disposal and waste management system.\n",
        "\n",
        "### Problem Statement\n",
        "\n",
        "By knowing with data processed using mathematical systems such as statistics and calculus, we will be able to recommend to the government what system we add or do to the disposal and management of waste in the city."
      ],
      "metadata": {
        "id": "KQynNx3T4-p3"
      }
    },
    {
      "cell_type": "markdown",
      "source": [
        "# Working Area\n",
        "\n",
        "Importing Library\n",
        "\n",
        "For the first time, we have to import pandas, matplotlib, scipy, seaborn and numpy library for processing, manipulating and visual the data that we are going to do."
      ],
      "metadata": {
        "id": "IOEgEA4V-oKF"
      }
    },
    {
      "cell_type": "code",
      "execution_count": null,
      "metadata": {
        "id": "pRI9BU3QxaP8"
      },
      "outputs": [],
      "source": [
        "import pandas as pd\n",
        "import matplotlib.pyplot as plt\n",
        "import scipy.stats as stats\n",
        "import seaborn as sns\n",
        "import numpy as np"
      ]
    },
    {
      "cell_type": "markdown",
      "source": [
        "Data Loading\n",
        "\n",
        "After we imported the library, we're looking for the data we need in the Big Query Google Cloud Platform. Then we look for the dataset from the database available in bigquery-public-data.austin_waste.waste_and_diversion. After that we take the dataset we need with a query like this:\n",
        "\n",
        "SELECT report_date, load_type, load_time, load_weight, dropoff_site \n",
        "FROM bigquery-public-data.austin_waste.waste_and_diversion\n",
        "WHERE report_date between '2021-01-01' and '2021-07-09'\n",
        "ORDER BY report_date\n",
        "\n",
        "From this data, we will take data report_date, load_time, load_type, load_weight, dropoff_site.\n",
        "\n",
        "After that, we import the data into .csv file by downloading on Google Cloud Platform to this notebook. After that we assign the variable to the DataFrame or df to continue processing the data."
      ],
      "metadata": {
        "id": "8DegD-L4A0IT"
      }
    },
    {
      "cell_type": "code",
      "source": [
        "df=pd.read_csv('/content/h8dsft_P0GC2_Fauzan_Nurachman.csv')\n",
        "df"
      ],
      "metadata": {
        "id": "rRAZdkcNC3az",
        "colab": {
          "base_uri": "https://localhost:8080/",
          "height": 633
        },
        "outputId": "2ad4863f-baed-4cda-9ac2-5d01ea0b1545"
      },
      "execution_count": null,
      "outputs": [
        {
          "output_type": "execute_result",
          "data": {
            "text/plain": [
              "      report_date load_type                       load_time  load_weight  \\\n",
              "0      2021-01-01  SWEEPING  2021-01-01 12:00:00.000000 UTC          NaN   \n",
              "1      2021-01-01  SWEEPING  2021-01-01 12:00:00.000000 UTC          NaN   \n",
              "2      2021-01-01  SWEEPING  2021-01-01 12:00:00.000000 UTC          NaN   \n",
              "3      2021-01-01  SWEEPING  2021-01-01 12:00:00.000000 UTC          NaN   \n",
              "4      2021-01-02     TIRES  2021-01-02 09:24:00.000000 UTC       1640.0   \n",
              "...           ...       ...                             ...          ...   \n",
              "26152  2021-07-09     BRUSH  2021-07-09 09:48:00.000000 UTC       8240.0   \n",
              "26153  2021-07-09     BRUSH  2021-07-09 12:02:00.000000 UTC       4160.0   \n",
              "26154  2021-07-09     BRUSH  2021-07-09 11:55:00.000000 UTC       4340.0   \n",
              "26155  2021-07-09    LITTER  2021-07-09 12:00:00.000000 UTC       1900.0   \n",
              "26156  2021-07-09    LITTER  2021-07-09 12:00:00.000000 UTC       3040.0   \n",
              "\n",
              "       dropoff_site  \n",
              "0       ONION CREEK  \n",
              "1       ONION CREEK  \n",
              "2       ONION CREEK  \n",
              "3       ONION CREEK  \n",
              "4               MRF  \n",
              "...             ...  \n",
              "26152  HORNSBY BEND  \n",
              "26153  HORNSBY BEND  \n",
              "26154  HORNSBY BEND  \n",
              "26155  TDS LANDFILL  \n",
              "26156  TDS LANDFILL  \n",
              "\n",
              "[26157 rows x 5 columns]"
            ],
            "text/html": [
              "\n",
              "  <div id=\"df-1702eaec-3d8b-4c71-ad73-be2ce8a78a6e\">\n",
              "    <div class=\"colab-df-container\">\n",
              "      <div>\n",
              "<style scoped>\n",
              "    .dataframe tbody tr th:only-of-type {\n",
              "        vertical-align: middle;\n",
              "    }\n",
              "\n",
              "    .dataframe tbody tr th {\n",
              "        vertical-align: top;\n",
              "    }\n",
              "\n",
              "    .dataframe thead th {\n",
              "        text-align: right;\n",
              "    }\n",
              "</style>\n",
              "<table border=\"1\" class=\"dataframe\">\n",
              "  <thead>\n",
              "    <tr style=\"text-align: right;\">\n",
              "      <th></th>\n",
              "      <th>report_date</th>\n",
              "      <th>load_type</th>\n",
              "      <th>load_time</th>\n",
              "      <th>load_weight</th>\n",
              "      <th>dropoff_site</th>\n",
              "    </tr>\n",
              "  </thead>\n",
              "  <tbody>\n",
              "    <tr>\n",
              "      <th>0</th>\n",
              "      <td>2021-01-01</td>\n",
              "      <td>SWEEPING</td>\n",
              "      <td>2021-01-01 12:00:00.000000 UTC</td>\n",
              "      <td>NaN</td>\n",
              "      <td>ONION CREEK</td>\n",
              "    </tr>\n",
              "    <tr>\n",
              "      <th>1</th>\n",
              "      <td>2021-01-01</td>\n",
              "      <td>SWEEPING</td>\n",
              "      <td>2021-01-01 12:00:00.000000 UTC</td>\n",
              "      <td>NaN</td>\n",
              "      <td>ONION CREEK</td>\n",
              "    </tr>\n",
              "    <tr>\n",
              "      <th>2</th>\n",
              "      <td>2021-01-01</td>\n",
              "      <td>SWEEPING</td>\n",
              "      <td>2021-01-01 12:00:00.000000 UTC</td>\n",
              "      <td>NaN</td>\n",
              "      <td>ONION CREEK</td>\n",
              "    </tr>\n",
              "    <tr>\n",
              "      <th>3</th>\n",
              "      <td>2021-01-01</td>\n",
              "      <td>SWEEPING</td>\n",
              "      <td>2021-01-01 12:00:00.000000 UTC</td>\n",
              "      <td>NaN</td>\n",
              "      <td>ONION CREEK</td>\n",
              "    </tr>\n",
              "    <tr>\n",
              "      <th>4</th>\n",
              "      <td>2021-01-02</td>\n",
              "      <td>TIRES</td>\n",
              "      <td>2021-01-02 09:24:00.000000 UTC</td>\n",
              "      <td>1640.0</td>\n",
              "      <td>MRF</td>\n",
              "    </tr>\n",
              "    <tr>\n",
              "      <th>...</th>\n",
              "      <td>...</td>\n",
              "      <td>...</td>\n",
              "      <td>...</td>\n",
              "      <td>...</td>\n",
              "      <td>...</td>\n",
              "    </tr>\n",
              "    <tr>\n",
              "      <th>26152</th>\n",
              "      <td>2021-07-09</td>\n",
              "      <td>BRUSH</td>\n",
              "      <td>2021-07-09 09:48:00.000000 UTC</td>\n",
              "      <td>8240.0</td>\n",
              "      <td>HORNSBY BEND</td>\n",
              "    </tr>\n",
              "    <tr>\n",
              "      <th>26153</th>\n",
              "      <td>2021-07-09</td>\n",
              "      <td>BRUSH</td>\n",
              "      <td>2021-07-09 12:02:00.000000 UTC</td>\n",
              "      <td>4160.0</td>\n",
              "      <td>HORNSBY BEND</td>\n",
              "    </tr>\n",
              "    <tr>\n",
              "      <th>26154</th>\n",
              "      <td>2021-07-09</td>\n",
              "      <td>BRUSH</td>\n",
              "      <td>2021-07-09 11:55:00.000000 UTC</td>\n",
              "      <td>4340.0</td>\n",
              "      <td>HORNSBY BEND</td>\n",
              "    </tr>\n",
              "    <tr>\n",
              "      <th>26155</th>\n",
              "      <td>2021-07-09</td>\n",
              "      <td>LITTER</td>\n",
              "      <td>2021-07-09 12:00:00.000000 UTC</td>\n",
              "      <td>1900.0</td>\n",
              "      <td>TDS LANDFILL</td>\n",
              "    </tr>\n",
              "    <tr>\n",
              "      <th>26156</th>\n",
              "      <td>2021-07-09</td>\n",
              "      <td>LITTER</td>\n",
              "      <td>2021-07-09 12:00:00.000000 UTC</td>\n",
              "      <td>3040.0</td>\n",
              "      <td>TDS LANDFILL</td>\n",
              "    </tr>\n",
              "  </tbody>\n",
              "</table>\n",
              "<p>26157 rows × 5 columns</p>\n",
              "</div>\n",
              "      <button class=\"colab-df-convert\" onclick=\"convertToInteractive('df-1702eaec-3d8b-4c71-ad73-be2ce8a78a6e')\"\n",
              "              title=\"Convert this dataframe to an interactive table.\"\n",
              "              style=\"display:none;\">\n",
              "        \n",
              "  <svg xmlns=\"http://www.w3.org/2000/svg\" height=\"24px\"viewBox=\"0 0 24 24\"\n",
              "       width=\"24px\">\n",
              "    <path d=\"M0 0h24v24H0V0z\" fill=\"none\"/>\n",
              "    <path d=\"M18.56 5.44l.94 2.06.94-2.06 2.06-.94-2.06-.94-.94-2.06-.94 2.06-2.06.94zm-11 1L8.5 8.5l.94-2.06 2.06-.94-2.06-.94L8.5 2.5l-.94 2.06-2.06.94zm10 10l.94 2.06.94-2.06 2.06-.94-2.06-.94-.94-2.06-.94 2.06-2.06.94z\"/><path d=\"M17.41 7.96l-1.37-1.37c-.4-.4-.92-.59-1.43-.59-.52 0-1.04.2-1.43.59L10.3 9.45l-7.72 7.72c-.78.78-.78 2.05 0 2.83L4 21.41c.39.39.9.59 1.41.59.51 0 1.02-.2 1.41-.59l7.78-7.78 2.81-2.81c.8-.78.8-2.07 0-2.86zM5.41 20L4 18.59l7.72-7.72 1.47 1.35L5.41 20z\"/>\n",
              "  </svg>\n",
              "      </button>\n",
              "      \n",
              "  <style>\n",
              "    .colab-df-container {\n",
              "      display:flex;\n",
              "      flex-wrap:wrap;\n",
              "      gap: 12px;\n",
              "    }\n",
              "\n",
              "    .colab-df-convert {\n",
              "      background-color: #E8F0FE;\n",
              "      border: none;\n",
              "      border-radius: 50%;\n",
              "      cursor: pointer;\n",
              "      display: none;\n",
              "      fill: #1967D2;\n",
              "      height: 32px;\n",
              "      padding: 0 0 0 0;\n",
              "      width: 32px;\n",
              "    }\n",
              "\n",
              "    .colab-df-convert:hover {\n",
              "      background-color: #E2EBFA;\n",
              "      box-shadow: 0px 1px 2px rgba(60, 64, 67, 0.3), 0px 1px 3px 1px rgba(60, 64, 67, 0.15);\n",
              "      fill: #174EA6;\n",
              "    }\n",
              "\n",
              "    [theme=dark] .colab-df-convert {\n",
              "      background-color: #3B4455;\n",
              "      fill: #D2E3FC;\n",
              "    }\n",
              "\n",
              "    [theme=dark] .colab-df-convert:hover {\n",
              "      background-color: #434B5C;\n",
              "      box-shadow: 0px 1px 3px 1px rgba(0, 0, 0, 0.15);\n",
              "      filter: drop-shadow(0px 1px 2px rgba(0, 0, 0, 0.3));\n",
              "      fill: #FFFFFF;\n",
              "    }\n",
              "  </style>\n",
              "\n",
              "      <script>\n",
              "        const buttonEl =\n",
              "          document.querySelector('#df-1702eaec-3d8b-4c71-ad73-be2ce8a78a6e button.colab-df-convert');\n",
              "        buttonEl.style.display =\n",
              "          google.colab.kernel.accessAllowed ? 'block' : 'none';\n",
              "\n",
              "        async function convertToInteractive(key) {\n",
              "          const element = document.querySelector('#df-1702eaec-3d8b-4c71-ad73-be2ce8a78a6e');\n",
              "          const dataTable =\n",
              "            await google.colab.kernel.invokeFunction('convertToInteractive',\n",
              "                                                     [key], {});\n",
              "          if (!dataTable) return;\n",
              "\n",
              "          const docLinkHtml = 'Like what you see? Visit the ' +\n",
              "            '<a target=\"_blank\" href=https://colab.research.google.com/notebooks/data_table.ipynb>data table notebook</a>'\n",
              "            + ' to learn more about interactive tables.';\n",
              "          element.innerHTML = '';\n",
              "          dataTable['output_type'] = 'display_data';\n",
              "          await google.colab.output.renderOutput(dataTable, element);\n",
              "          const docLink = document.createElement('div');\n",
              "          docLink.innerHTML = docLinkHtml;\n",
              "          element.appendChild(docLink);\n",
              "        }\n",
              "      </script>\n",
              "    </div>\n",
              "  </div>\n",
              "  "
            ]
          },
          "metadata": {},
          "execution_count": 2
        }
      ]
    },
    {
      "cell_type": "markdown",
      "source": [
        "From this data, we can see that there are 5 columns of data, namely report_date, load_time, load_time, load_weight, and dropoff_site\n",
        "\n",
        "Let's see how many rows (index) there are with the .shape function."
      ],
      "metadata": {
        "id": "nAQr53-Daibc"
      }
    },
    {
      "cell_type": "code",
      "source": [
        "df.shape"
      ],
      "metadata": {
        "colab": {
          "base_uri": "https://localhost:8080/"
        },
        "id": "HvyRT6V7BMH4",
        "outputId": "d5f91f38-fbdf-4810-cdc0-503243275a78"
      },
      "execution_count": null,
      "outputs": [
        {
          "output_type": "execute_result",
          "data": {
            "text/plain": [
              "(26157, 5)"
            ]
          },
          "metadata": {},
          "execution_count": 3
        }
      ]
    },
    {
      "cell_type": "markdown",
      "source": [
        "It turns out that there are 26157 rows and 5 columns. Then we check the data type with the .info() function. Its function is to find out what data types are in the existing row."
      ],
      "metadata": {
        "id": "qb7cSxLna_QT"
      }
    },
    {
      "cell_type": "code",
      "source": [
        "df.info()"
      ],
      "metadata": {
        "colab": {
          "base_uri": "https://localhost:8080/"
        },
        "id": "ev-f_i_MBP6b",
        "outputId": "290a314d-3e4a-443c-8f1a-df3e7d26cdb1"
      },
      "execution_count": null,
      "outputs": [
        {
          "output_type": "stream",
          "name": "stdout",
          "text": [
            "<class 'pandas.core.frame.DataFrame'>\n",
            "RangeIndex: 26157 entries, 0 to 26156\n",
            "Data columns (total 5 columns):\n",
            " #   Column        Non-Null Count  Dtype  \n",
            "---  ------        --------------  -----  \n",
            " 0   report_date   26157 non-null  object \n",
            " 1   load_type     26157 non-null  object \n",
            " 2   load_time     26157 non-null  object \n",
            " 3   load_weight   25109 non-null  float64\n",
            " 4   dropoff_site  26157 non-null  object \n",
            "dtypes: float64(1), object(4)\n",
            "memory usage: 1021.9+ KB\n"
          ]
        }
      ]
    },
    {
      "cell_type": "markdown",
      "source": [
        "After we look at the info, it turns out that for load_weight data, there is missing data. Therefore, we will check how much data is missing in load_weight. We use the .isna().sum() function."
      ],
      "metadata": {
        "id": "kov91VtzbYPw"
      }
    },
    {
      "cell_type": "code",
      "source": [
        "df.isna().sum()"
      ],
      "metadata": {
        "colab": {
          "base_uri": "https://localhost:8080/"
        },
        "id": "99JZJBOhBSP7",
        "outputId": "7cd30c38-3a03-4cf3-eaad-b7afb3c9e73d"
      },
      "execution_count": null,
      "outputs": [
        {
          "output_type": "execute_result",
          "data": {
            "text/plain": [
              "report_date        0\n",
              "load_type          0\n",
              "load_time          0\n",
              "load_weight     1048\n",
              "dropoff_site       0\n",
              "dtype: int64"
            ]
          },
          "metadata": {},
          "execution_count": 5
        }
      ]
    },
    {
      "cell_type": "markdown",
      "source": [
        "From the above function, it can be seen that there are 1048 missing data in the load_weight. We will fill in the missing data with the fillna() function, we do this to fill the data into 0 so that it is easy later in the calculation."
      ],
      "metadata": {
        "id": "mqP63Gy5c3RX"
      }
    },
    {
      "cell_type": "code",
      "source": [
        "df.fillna(0, inplace=True)\n",
        "df"
      ],
      "metadata": {
        "colab": {
          "base_uri": "https://localhost:8080/",
          "height": 633
        },
        "id": "Qu5p3PPxBlI4",
        "outputId": "69c16655-eacd-453f-8a02-64a47b0238ac"
      },
      "execution_count": null,
      "outputs": [
        {
          "output_type": "execute_result",
          "data": {
            "text/plain": [
              "      report_date load_type                       load_time  load_weight  \\\n",
              "0      2021-01-01  SWEEPING  2021-01-01 12:00:00.000000 UTC          0.0   \n",
              "1      2021-01-01  SWEEPING  2021-01-01 12:00:00.000000 UTC          0.0   \n",
              "2      2021-01-01  SWEEPING  2021-01-01 12:00:00.000000 UTC          0.0   \n",
              "3      2021-01-01  SWEEPING  2021-01-01 12:00:00.000000 UTC          0.0   \n",
              "4      2021-01-02     TIRES  2021-01-02 09:24:00.000000 UTC       1640.0   \n",
              "...           ...       ...                             ...          ...   \n",
              "26152  2021-07-09     BRUSH  2021-07-09 09:48:00.000000 UTC       8240.0   \n",
              "26153  2021-07-09     BRUSH  2021-07-09 12:02:00.000000 UTC       4160.0   \n",
              "26154  2021-07-09     BRUSH  2021-07-09 11:55:00.000000 UTC       4340.0   \n",
              "26155  2021-07-09    LITTER  2021-07-09 12:00:00.000000 UTC       1900.0   \n",
              "26156  2021-07-09    LITTER  2021-07-09 12:00:00.000000 UTC       3040.0   \n",
              "\n",
              "       dropoff_site  \n",
              "0       ONION CREEK  \n",
              "1       ONION CREEK  \n",
              "2       ONION CREEK  \n",
              "3       ONION CREEK  \n",
              "4               MRF  \n",
              "...             ...  \n",
              "26152  HORNSBY BEND  \n",
              "26153  HORNSBY BEND  \n",
              "26154  HORNSBY BEND  \n",
              "26155  TDS LANDFILL  \n",
              "26156  TDS LANDFILL  \n",
              "\n",
              "[26157 rows x 5 columns]"
            ],
            "text/html": [
              "\n",
              "  <div id=\"df-ee579c65-11fb-41af-baf3-afae60cee0b1\">\n",
              "    <div class=\"colab-df-container\">\n",
              "      <div>\n",
              "<style scoped>\n",
              "    .dataframe tbody tr th:only-of-type {\n",
              "        vertical-align: middle;\n",
              "    }\n",
              "\n",
              "    .dataframe tbody tr th {\n",
              "        vertical-align: top;\n",
              "    }\n",
              "\n",
              "    .dataframe thead th {\n",
              "        text-align: right;\n",
              "    }\n",
              "</style>\n",
              "<table border=\"1\" class=\"dataframe\">\n",
              "  <thead>\n",
              "    <tr style=\"text-align: right;\">\n",
              "      <th></th>\n",
              "      <th>report_date</th>\n",
              "      <th>load_type</th>\n",
              "      <th>load_time</th>\n",
              "      <th>load_weight</th>\n",
              "      <th>dropoff_site</th>\n",
              "    </tr>\n",
              "  </thead>\n",
              "  <tbody>\n",
              "    <tr>\n",
              "      <th>0</th>\n",
              "      <td>2021-01-01</td>\n",
              "      <td>SWEEPING</td>\n",
              "      <td>2021-01-01 12:00:00.000000 UTC</td>\n",
              "      <td>0.0</td>\n",
              "      <td>ONION CREEK</td>\n",
              "    </tr>\n",
              "    <tr>\n",
              "      <th>1</th>\n",
              "      <td>2021-01-01</td>\n",
              "      <td>SWEEPING</td>\n",
              "      <td>2021-01-01 12:00:00.000000 UTC</td>\n",
              "      <td>0.0</td>\n",
              "      <td>ONION CREEK</td>\n",
              "    </tr>\n",
              "    <tr>\n",
              "      <th>2</th>\n",
              "      <td>2021-01-01</td>\n",
              "      <td>SWEEPING</td>\n",
              "      <td>2021-01-01 12:00:00.000000 UTC</td>\n",
              "      <td>0.0</td>\n",
              "      <td>ONION CREEK</td>\n",
              "    </tr>\n",
              "    <tr>\n",
              "      <th>3</th>\n",
              "      <td>2021-01-01</td>\n",
              "      <td>SWEEPING</td>\n",
              "      <td>2021-01-01 12:00:00.000000 UTC</td>\n",
              "      <td>0.0</td>\n",
              "      <td>ONION CREEK</td>\n",
              "    </tr>\n",
              "    <tr>\n",
              "      <th>4</th>\n",
              "      <td>2021-01-02</td>\n",
              "      <td>TIRES</td>\n",
              "      <td>2021-01-02 09:24:00.000000 UTC</td>\n",
              "      <td>1640.0</td>\n",
              "      <td>MRF</td>\n",
              "    </tr>\n",
              "    <tr>\n",
              "      <th>...</th>\n",
              "      <td>...</td>\n",
              "      <td>...</td>\n",
              "      <td>...</td>\n",
              "      <td>...</td>\n",
              "      <td>...</td>\n",
              "    </tr>\n",
              "    <tr>\n",
              "      <th>26152</th>\n",
              "      <td>2021-07-09</td>\n",
              "      <td>BRUSH</td>\n",
              "      <td>2021-07-09 09:48:00.000000 UTC</td>\n",
              "      <td>8240.0</td>\n",
              "      <td>HORNSBY BEND</td>\n",
              "    </tr>\n",
              "    <tr>\n",
              "      <th>26153</th>\n",
              "      <td>2021-07-09</td>\n",
              "      <td>BRUSH</td>\n",
              "      <td>2021-07-09 12:02:00.000000 UTC</td>\n",
              "      <td>4160.0</td>\n",
              "      <td>HORNSBY BEND</td>\n",
              "    </tr>\n",
              "    <tr>\n",
              "      <th>26154</th>\n",
              "      <td>2021-07-09</td>\n",
              "      <td>BRUSH</td>\n",
              "      <td>2021-07-09 11:55:00.000000 UTC</td>\n",
              "      <td>4340.0</td>\n",
              "      <td>HORNSBY BEND</td>\n",
              "    </tr>\n",
              "    <tr>\n",
              "      <th>26155</th>\n",
              "      <td>2021-07-09</td>\n",
              "      <td>LITTER</td>\n",
              "      <td>2021-07-09 12:00:00.000000 UTC</td>\n",
              "      <td>1900.0</td>\n",
              "      <td>TDS LANDFILL</td>\n",
              "    </tr>\n",
              "    <tr>\n",
              "      <th>26156</th>\n",
              "      <td>2021-07-09</td>\n",
              "      <td>LITTER</td>\n",
              "      <td>2021-07-09 12:00:00.000000 UTC</td>\n",
              "      <td>3040.0</td>\n",
              "      <td>TDS LANDFILL</td>\n",
              "    </tr>\n",
              "  </tbody>\n",
              "</table>\n",
              "<p>26157 rows × 5 columns</p>\n",
              "</div>\n",
              "      <button class=\"colab-df-convert\" onclick=\"convertToInteractive('df-ee579c65-11fb-41af-baf3-afae60cee0b1')\"\n",
              "              title=\"Convert this dataframe to an interactive table.\"\n",
              "              style=\"display:none;\">\n",
              "        \n",
              "  <svg xmlns=\"http://www.w3.org/2000/svg\" height=\"24px\"viewBox=\"0 0 24 24\"\n",
              "       width=\"24px\">\n",
              "    <path d=\"M0 0h24v24H0V0z\" fill=\"none\"/>\n",
              "    <path d=\"M18.56 5.44l.94 2.06.94-2.06 2.06-.94-2.06-.94-.94-2.06-.94 2.06-2.06.94zm-11 1L8.5 8.5l.94-2.06 2.06-.94-2.06-.94L8.5 2.5l-.94 2.06-2.06.94zm10 10l.94 2.06.94-2.06 2.06-.94-2.06-.94-.94-2.06-.94 2.06-2.06.94z\"/><path d=\"M17.41 7.96l-1.37-1.37c-.4-.4-.92-.59-1.43-.59-.52 0-1.04.2-1.43.59L10.3 9.45l-7.72 7.72c-.78.78-.78 2.05 0 2.83L4 21.41c.39.39.9.59 1.41.59.51 0 1.02-.2 1.41-.59l7.78-7.78 2.81-2.81c.8-.78.8-2.07 0-2.86zM5.41 20L4 18.59l7.72-7.72 1.47 1.35L5.41 20z\"/>\n",
              "  </svg>\n",
              "      </button>\n",
              "      \n",
              "  <style>\n",
              "    .colab-df-container {\n",
              "      display:flex;\n",
              "      flex-wrap:wrap;\n",
              "      gap: 12px;\n",
              "    }\n",
              "\n",
              "    .colab-df-convert {\n",
              "      background-color: #E8F0FE;\n",
              "      border: none;\n",
              "      border-radius: 50%;\n",
              "      cursor: pointer;\n",
              "      display: none;\n",
              "      fill: #1967D2;\n",
              "      height: 32px;\n",
              "      padding: 0 0 0 0;\n",
              "      width: 32px;\n",
              "    }\n",
              "\n",
              "    .colab-df-convert:hover {\n",
              "      background-color: #E2EBFA;\n",
              "      box-shadow: 0px 1px 2px rgba(60, 64, 67, 0.3), 0px 1px 3px 1px rgba(60, 64, 67, 0.15);\n",
              "      fill: #174EA6;\n",
              "    }\n",
              "\n",
              "    [theme=dark] .colab-df-convert {\n",
              "      background-color: #3B4455;\n",
              "      fill: #D2E3FC;\n",
              "    }\n",
              "\n",
              "    [theme=dark] .colab-df-convert:hover {\n",
              "      background-color: #434B5C;\n",
              "      box-shadow: 0px 1px 3px 1px rgba(0, 0, 0, 0.15);\n",
              "      filter: drop-shadow(0px 1px 2px rgba(0, 0, 0, 0.3));\n",
              "      fill: #FFFFFF;\n",
              "    }\n",
              "  </style>\n",
              "\n",
              "      <script>\n",
              "        const buttonEl =\n",
              "          document.querySelector('#df-ee579c65-11fb-41af-baf3-afae60cee0b1 button.colab-df-convert');\n",
              "        buttonEl.style.display =\n",
              "          google.colab.kernel.accessAllowed ? 'block' : 'none';\n",
              "\n",
              "        async function convertToInteractive(key) {\n",
              "          const element = document.querySelector('#df-ee579c65-11fb-41af-baf3-afae60cee0b1');\n",
              "          const dataTable =\n",
              "            await google.colab.kernel.invokeFunction('convertToInteractive',\n",
              "                                                     [key], {});\n",
              "          if (!dataTable) return;\n",
              "\n",
              "          const docLinkHtml = 'Like what you see? Visit the ' +\n",
              "            '<a target=\"_blank\" href=https://colab.research.google.com/notebooks/data_table.ipynb>data table notebook</a>'\n",
              "            + ' to learn more about interactive tables.';\n",
              "          element.innerHTML = '';\n",
              "          dataTable['output_type'] = 'display_data';\n",
              "          await google.colab.output.renderOutput(dataTable, element);\n",
              "          const docLink = document.createElement('div');\n",
              "          docLink.innerHTML = docLinkHtml;\n",
              "          element.appendChild(docLink);\n",
              "        }\n",
              "      </script>\n",
              "    </div>\n",
              "  </div>\n",
              "  "
            ]
          },
          "metadata": {},
          "execution_count": 6
        }
      ]
    },
    {
      "cell_type": "markdown",
      "source": [
        "After we fill in the missing data, we check again to make sure whether there is still missing data or not."
      ],
      "metadata": {
        "id": "wKsNwfMTdMZk"
      }
    },
    {
      "cell_type": "code",
      "source": [
        "df.isna().sum()"
      ],
      "metadata": {
        "colab": {
          "base_uri": "https://localhost:8080/"
        },
        "id": "a7HdWoLDSMBC",
        "outputId": "6c3f7963-f324-4bc1-aa19-0b6bf0ca4a99"
      },
      "execution_count": null,
      "outputs": [
        {
          "output_type": "execute_result",
          "data": {
            "text/plain": [
              "report_date     0\n",
              "load_type       0\n",
              "load_time       0\n",
              "load_weight     0\n",
              "dropoff_site    0\n",
              "dtype: int64"
            ]
          },
          "metadata": {},
          "execution_count": 7
        }
      ]
    },
    {
      "cell_type": "markdown",
      "source": [
        "After we check, the missing data is no longer there, so we can proceed to the next stage. The next step we will find the number of values in each column. We use the looping (for) function to make it easier for us to find the data we want to search."
      ],
      "metadata": {
        "id": "GfsoD3Hvd3Th"
      }
    },
    {
      "cell_type": "code",
      "source": [
        "for i in ['report_date', 'load_type', 'load_weight', 'dropoff_site']:\n",
        "    print(i, ':')\n",
        "    print(df[i].value_counts())\n",
        "    print('-'*50)"
      ],
      "metadata": {
        "colab": {
          "base_uri": "https://localhost:8080/"
        },
        "id": "HWOXA_XlLjFy",
        "outputId": "e4c8d796-877d-406c-ed60-dc7b9ff9e7e7"
      },
      "execution_count": null,
      "outputs": [
        {
          "output_type": "stream",
          "name": "stdout",
          "text": [
            "report_date :\n",
            "2021-02-25    277\n",
            "2021-03-08    273\n",
            "2021-03-22    258\n",
            "2021-02-24    257\n",
            "2021-03-09    256\n",
            "             ... \n",
            "2021-01-30      5\n",
            "2021-01-01      4\n",
            "2021-04-18      1\n",
            "2021-05-30      1\n",
            "2021-02-07      1\n",
            "Name: report_date, Length: 166, dtype: int64\n",
            "--------------------------------------------------\n",
            "load_type :\n",
            "GARBAGE COLLECTIONS          8242\n",
            "RECYCLING - SINGLE STREAM    6760\n",
            "ORGANICS                     5763\n",
            "BULK                         1594\n",
            "BRUSH                        1517\n",
            "SWEEPING                     1390\n",
            "MIXED LITTER                  329\n",
            "TIRES                         175\n",
            "DEAD ANIMAL                   150\n",
            "YARD TRIMMING                 137\n",
            "RECYCLED METAL                 57\n",
            "LITTER                         41\n",
            "CONTAMINATED RECYCLING          1\n",
            "CONTAMINATED ORGANICS           1\n",
            "Name: load_type, dtype: int64\n",
            "--------------------------------------------------\n",
            "load_weight :\n",
            "0.0        1051\n",
            "5500.0       65\n",
            "10420.0      49\n",
            "11420.0      45\n",
            "12460.0      45\n",
            "           ... \n",
            "12850.0       1\n",
            "5130.0        1\n",
            "12278.0       1\n",
            "13890.0       1\n",
            "9470.0        1\n",
            "Name: load_weight, Length: 1781, dtype: int64\n",
            "--------------------------------------------------\n",
            "dropoff_site :\n",
            "TDS LANDFILL             10694\n",
            "ORGANICS BY GOSH          5755\n",
            "BALCONES RECYCLING        3837\n",
            "TDS - MRF                 2948\n",
            "HORNSBY BEND              1655\n",
            "ONION CREEK                813\n",
            "MRF                        168\n",
            "ON ROUTE HIGH DUMP          81\n",
            "PARK CENTER                 75\n",
            "GREAT NORTHERN              70\n",
            "AUSTIN IRON AND METAL       50\n",
            "PARK BEND                    4\n",
            "AUSTIN WOOD RECYCLING        2\n",
            "WILCAB                       1\n",
            "BALCONES WOODS               1\n",
            "STEINER LANDFILL             1\n",
            "WESTFIELD                    1\n",
            "ST. EDWARDS                  1\n",
            "Name: dropoff_site, dtype: int64\n",
            "--------------------------------------------------\n"
          ]
        }
      ]
    },
    {
      "cell_type": "markdown",
      "source": [
        "Once we've seen, we focus on dropoff_site. We can see that TDS LANDFILL is the most dropoff_site with 10694 data.\n",
        "\n",
        "Then we focus on the dropoff_site, we look for the average, middle value, and value that often appears on all dropoff_site."
      ],
      "metadata": {
        "id": "rAqlnqwseLz2"
      }
    },
    {
      "cell_type": "code",
      "source": [
        "df.groupby(by = 'dropoff_site', sort = True)['load_weight'].mean()"
      ],
      "metadata": {
        "colab": {
          "base_uri": "https://localhost:8080/"
        },
        "id": "nZLcC9dJWkLX",
        "outputId": "a6b28e5d-cf75-46f8-e2fa-e702c92ce0cb"
      },
      "execution_count": null,
      "outputs": [
        {
          "output_type": "execute_result",
          "data": {
            "text/plain": [
              "dropoff_site\n",
              "AUSTIN IRON AND METAL      451.200000\n",
              "AUSTIN WOOD RECYCLING     4050.000000\n",
              "BALCONES RECYCLING        9464.652072\n",
              "BALCONES WOODS            8460.000000\n",
              "GREAT NORTHERN            1641.714286\n",
              "HORNSBY BEND              6616.628399\n",
              "MRF                       1799.982143\n",
              "ON ROUTE HIGH DUMP        1082.469136\n",
              "ONION CREEK                  0.000000\n",
              "ORGANICS BY GOSH         11789.731712\n",
              "PARK BEND                13385.000000\n",
              "PARK CENTER                  0.000000\n",
              "ST. EDWARDS                  0.000000\n",
              "STEINER LANDFILL           780.000000\n",
              "TDS - MRF                 9872.550882\n",
              "TDS LANDFILL             15165.151724\n",
              "WESTFIELD                16020.000000\n",
              "WILCAB                       0.000000\n",
              "Name: load_weight, dtype: float64"
            ]
          },
          "metadata": {},
          "execution_count": 9
        }
      ]
    },
    {
      "cell_type": "code",
      "source": [
        "df.groupby(by = 'dropoff_site', sort = True)['load_weight'].median()"
      ],
      "metadata": {
        "id": "t_R4VZHJXL6D",
        "colab": {
          "base_uri": "https://localhost:8080/"
        },
        "outputId": "b06aaada-e8a5-4720-9eb7-28b5ba2af606"
      },
      "execution_count": null,
      "outputs": [
        {
          "output_type": "execute_result",
          "data": {
            "text/plain": [
              "dropoff_site\n",
              "AUSTIN IRON AND METAL      400.0\n",
              "AUSTIN WOOD RECYCLING     4050.0\n",
              "BALCONES RECYCLING        9840.0\n",
              "BALCONES WOODS            8460.0\n",
              "GREAT NORTHERN               0.0\n",
              "HORNSBY BEND              6380.0\n",
              "MRF                       1360.0\n",
              "ON ROUTE HIGH DUMP           0.0\n",
              "ONION CREEK                  0.0\n",
              "ORGANICS BY GOSH         11900.0\n",
              "PARK BEND                12330.0\n",
              "PARK CENTER                  0.0\n",
              "ST. EDWARDS                  0.0\n",
              "STEINER LANDFILL           780.0\n",
              "TDS - MRF                10330.0\n",
              "TDS LANDFILL             14920.0\n",
              "WESTFIELD                16020.0\n",
              "WILCAB                       0.0\n",
              "Name: load_weight, dtype: float64"
            ]
          },
          "metadata": {},
          "execution_count": 10
        }
      ]
    },
    {
      "cell_type": "code",
      "source": [
        "df.groupby(by = 'dropoff_site', sort = True)['load_weight'].apply(pd.Series.mode).to_frame()"
      ],
      "metadata": {
        "colab": {
          "base_uri": "https://localhost:8080/",
          "height": 886
        },
        "id": "WZCAcDfwZDgD",
        "outputId": "19931cc6-6056-4336-e02f-1136ac9f97d2"
      },
      "execution_count": null,
      "outputs": [
        {
          "output_type": "execute_result",
          "data": {
            "text/plain": [
              "                         load_weight\n",
              "dropoff_site                        \n",
              "AUSTIN IRON AND METAL 0        260.0\n",
              "                      1        320.0\n",
              "                      2        520.0\n",
              "AUSTIN WOOD RECYCLING 0       2340.0\n",
              "                      1       5760.0\n",
              "BALCONES RECYCLING    0      11880.0\n",
              "BALCONES WOODS        0       8460.0\n",
              "GREAT NORTHERN        0          0.0\n",
              "HORNSBY BEND          0       5500.0\n",
              "MRF                   0        960.0\n",
              "ON ROUTE HIGH DUMP    0          0.0\n",
              "ONION CREEK           0          0.0\n",
              "ORGANICS BY GOSH      0      14580.0\n",
              "PARK BEND             0       8480.0\n",
              "                      1       8960.0\n",
              "                      2      15700.0\n",
              "                      3      20400.0\n",
              "PARK CENTER           0          0.0\n",
              "ST. EDWARDS           0          0.0\n",
              "STEINER LANDFILL      0        780.0\n",
              "TDS - MRF             0      10360.0\n",
              "TDS LANDFILL          0         20.0\n",
              "                      1         60.0\n",
              "                      2      12020.0\n",
              "WESTFIELD             0      16020.0\n",
              "WILCAB                0          0.0"
            ],
            "text/html": [
              "\n",
              "  <div id=\"df-d6b2750b-5843-4067-803d-55ca68cd42e5\">\n",
              "    <div class=\"colab-df-container\">\n",
              "      <div>\n",
              "<style scoped>\n",
              "    .dataframe tbody tr th:only-of-type {\n",
              "        vertical-align: middle;\n",
              "    }\n",
              "\n",
              "    .dataframe tbody tr th {\n",
              "        vertical-align: top;\n",
              "    }\n",
              "\n",
              "    .dataframe thead th {\n",
              "        text-align: right;\n",
              "    }\n",
              "</style>\n",
              "<table border=\"1\" class=\"dataframe\">\n",
              "  <thead>\n",
              "    <tr style=\"text-align: right;\">\n",
              "      <th></th>\n",
              "      <th></th>\n",
              "      <th>load_weight</th>\n",
              "    </tr>\n",
              "    <tr>\n",
              "      <th>dropoff_site</th>\n",
              "      <th></th>\n",
              "      <th></th>\n",
              "    </tr>\n",
              "  </thead>\n",
              "  <tbody>\n",
              "    <tr>\n",
              "      <th rowspan=\"3\" valign=\"top\">AUSTIN IRON AND METAL</th>\n",
              "      <th>0</th>\n",
              "      <td>260.0</td>\n",
              "    </tr>\n",
              "    <tr>\n",
              "      <th>1</th>\n",
              "      <td>320.0</td>\n",
              "    </tr>\n",
              "    <tr>\n",
              "      <th>2</th>\n",
              "      <td>520.0</td>\n",
              "    </tr>\n",
              "    <tr>\n",
              "      <th rowspan=\"2\" valign=\"top\">AUSTIN WOOD RECYCLING</th>\n",
              "      <th>0</th>\n",
              "      <td>2340.0</td>\n",
              "    </tr>\n",
              "    <tr>\n",
              "      <th>1</th>\n",
              "      <td>5760.0</td>\n",
              "    </tr>\n",
              "    <tr>\n",
              "      <th>BALCONES RECYCLING</th>\n",
              "      <th>0</th>\n",
              "      <td>11880.0</td>\n",
              "    </tr>\n",
              "    <tr>\n",
              "      <th>BALCONES WOODS</th>\n",
              "      <th>0</th>\n",
              "      <td>8460.0</td>\n",
              "    </tr>\n",
              "    <tr>\n",
              "      <th>GREAT NORTHERN</th>\n",
              "      <th>0</th>\n",
              "      <td>0.0</td>\n",
              "    </tr>\n",
              "    <tr>\n",
              "      <th>HORNSBY BEND</th>\n",
              "      <th>0</th>\n",
              "      <td>5500.0</td>\n",
              "    </tr>\n",
              "    <tr>\n",
              "      <th>MRF</th>\n",
              "      <th>0</th>\n",
              "      <td>960.0</td>\n",
              "    </tr>\n",
              "    <tr>\n",
              "      <th>ON ROUTE HIGH DUMP</th>\n",
              "      <th>0</th>\n",
              "      <td>0.0</td>\n",
              "    </tr>\n",
              "    <tr>\n",
              "      <th>ONION CREEK</th>\n",
              "      <th>0</th>\n",
              "      <td>0.0</td>\n",
              "    </tr>\n",
              "    <tr>\n",
              "      <th>ORGANICS BY GOSH</th>\n",
              "      <th>0</th>\n",
              "      <td>14580.0</td>\n",
              "    </tr>\n",
              "    <tr>\n",
              "      <th rowspan=\"4\" valign=\"top\">PARK BEND</th>\n",
              "      <th>0</th>\n",
              "      <td>8480.0</td>\n",
              "    </tr>\n",
              "    <tr>\n",
              "      <th>1</th>\n",
              "      <td>8960.0</td>\n",
              "    </tr>\n",
              "    <tr>\n",
              "      <th>2</th>\n",
              "      <td>15700.0</td>\n",
              "    </tr>\n",
              "    <tr>\n",
              "      <th>3</th>\n",
              "      <td>20400.0</td>\n",
              "    </tr>\n",
              "    <tr>\n",
              "      <th>PARK CENTER</th>\n",
              "      <th>0</th>\n",
              "      <td>0.0</td>\n",
              "    </tr>\n",
              "    <tr>\n",
              "      <th>ST. EDWARDS</th>\n",
              "      <th>0</th>\n",
              "      <td>0.0</td>\n",
              "    </tr>\n",
              "    <tr>\n",
              "      <th>STEINER LANDFILL</th>\n",
              "      <th>0</th>\n",
              "      <td>780.0</td>\n",
              "    </tr>\n",
              "    <tr>\n",
              "      <th>TDS - MRF</th>\n",
              "      <th>0</th>\n",
              "      <td>10360.0</td>\n",
              "    </tr>\n",
              "    <tr>\n",
              "      <th rowspan=\"3\" valign=\"top\">TDS LANDFILL</th>\n",
              "      <th>0</th>\n",
              "      <td>20.0</td>\n",
              "    </tr>\n",
              "    <tr>\n",
              "      <th>1</th>\n",
              "      <td>60.0</td>\n",
              "    </tr>\n",
              "    <tr>\n",
              "      <th>2</th>\n",
              "      <td>12020.0</td>\n",
              "    </tr>\n",
              "    <tr>\n",
              "      <th>WESTFIELD</th>\n",
              "      <th>0</th>\n",
              "      <td>16020.0</td>\n",
              "    </tr>\n",
              "    <tr>\n",
              "      <th>WILCAB</th>\n",
              "      <th>0</th>\n",
              "      <td>0.0</td>\n",
              "    </tr>\n",
              "  </tbody>\n",
              "</table>\n",
              "</div>\n",
              "      <button class=\"colab-df-convert\" onclick=\"convertToInteractive('df-d6b2750b-5843-4067-803d-55ca68cd42e5')\"\n",
              "              title=\"Convert this dataframe to an interactive table.\"\n",
              "              style=\"display:none;\">\n",
              "        \n",
              "  <svg xmlns=\"http://www.w3.org/2000/svg\" height=\"24px\"viewBox=\"0 0 24 24\"\n",
              "       width=\"24px\">\n",
              "    <path d=\"M0 0h24v24H0V0z\" fill=\"none\"/>\n",
              "    <path d=\"M18.56 5.44l.94 2.06.94-2.06 2.06-.94-2.06-.94-.94-2.06-.94 2.06-2.06.94zm-11 1L8.5 8.5l.94-2.06 2.06-.94-2.06-.94L8.5 2.5l-.94 2.06-2.06.94zm10 10l.94 2.06.94-2.06 2.06-.94-2.06-.94-.94-2.06-.94 2.06-2.06.94z\"/><path d=\"M17.41 7.96l-1.37-1.37c-.4-.4-.92-.59-1.43-.59-.52 0-1.04.2-1.43.59L10.3 9.45l-7.72 7.72c-.78.78-.78 2.05 0 2.83L4 21.41c.39.39.9.59 1.41.59.51 0 1.02-.2 1.41-.59l7.78-7.78 2.81-2.81c.8-.78.8-2.07 0-2.86zM5.41 20L4 18.59l7.72-7.72 1.47 1.35L5.41 20z\"/>\n",
              "  </svg>\n",
              "      </button>\n",
              "      \n",
              "  <style>\n",
              "    .colab-df-container {\n",
              "      display:flex;\n",
              "      flex-wrap:wrap;\n",
              "      gap: 12px;\n",
              "    }\n",
              "\n",
              "    .colab-df-convert {\n",
              "      background-color: #E8F0FE;\n",
              "      border: none;\n",
              "      border-radius: 50%;\n",
              "      cursor: pointer;\n",
              "      display: none;\n",
              "      fill: #1967D2;\n",
              "      height: 32px;\n",
              "      padding: 0 0 0 0;\n",
              "      width: 32px;\n",
              "    }\n",
              "\n",
              "    .colab-df-convert:hover {\n",
              "      background-color: #E2EBFA;\n",
              "      box-shadow: 0px 1px 2px rgba(60, 64, 67, 0.3), 0px 1px 3px 1px rgba(60, 64, 67, 0.15);\n",
              "      fill: #174EA6;\n",
              "    }\n",
              "\n",
              "    [theme=dark] .colab-df-convert {\n",
              "      background-color: #3B4455;\n",
              "      fill: #D2E3FC;\n",
              "    }\n",
              "\n",
              "    [theme=dark] .colab-df-convert:hover {\n",
              "      background-color: #434B5C;\n",
              "      box-shadow: 0px 1px 3px 1px rgba(0, 0, 0, 0.15);\n",
              "      filter: drop-shadow(0px 1px 2px rgba(0, 0, 0, 0.3));\n",
              "      fill: #FFFFFF;\n",
              "    }\n",
              "  </style>\n",
              "\n",
              "      <script>\n",
              "        const buttonEl =\n",
              "          document.querySelector('#df-d6b2750b-5843-4067-803d-55ca68cd42e5 button.colab-df-convert');\n",
              "        buttonEl.style.display =\n",
              "          google.colab.kernel.accessAllowed ? 'block' : 'none';\n",
              "\n",
              "        async function convertToInteractive(key) {\n",
              "          const element = document.querySelector('#df-d6b2750b-5843-4067-803d-55ca68cd42e5');\n",
              "          const dataTable =\n",
              "            await google.colab.kernel.invokeFunction('convertToInteractive',\n",
              "                                                     [key], {});\n",
              "          if (!dataTable) return;\n",
              "\n",
              "          const docLinkHtml = 'Like what you see? Visit the ' +\n",
              "            '<a target=\"_blank\" href=https://colab.research.google.com/notebooks/data_table.ipynb>data table notebook</a>'\n",
              "            + ' to learn more about interactive tables.';\n",
              "          element.innerHTML = '';\n",
              "          dataTable['output_type'] = 'display_data';\n",
              "          await google.colab.output.renderOutput(dataTable, element);\n",
              "          const docLink = document.createElement('div');\n",
              "          docLink.innerHTML = docLinkHtml;\n",
              "          element.appendChild(docLink);\n",
              "        }\n",
              "      </script>\n",
              "    </div>\n",
              "  </div>\n",
              "  "
            ]
          },
          "metadata": {},
          "execution_count": 11
        }
      ]
    },
    {
      "cell_type": "markdown",
      "source": [
        "In the data above, there are several drop off sites for which there is no data, in the sense that the site is not used properly. All sites should be used so that the distribution of disposal and waste management can be spread properly. So we can see waste piled up in TDS LANDFILL because the site has about 10,000 more data which means that TDS LANDFILL is an integrated landfill and waste management."
      ],
      "metadata": {
        "id": "dDizfpSyeBwz"
      }
    },
    {
      "cell_type": "markdown",
      "source": [
        "In this section, we will explore the site we chose. But before that we will look at the LOAD TYPE to determine what type of transport we will take."
      ],
      "metadata": {
        "id": "QWuKyYfSoc5b"
      }
    },
    {
      "cell_type": "code",
      "source": [
        "df['load_type'].value_counts()"
      ],
      "metadata": {
        "id": "EMNMStJhZHv9",
        "colab": {
          "base_uri": "https://localhost:8080/"
        },
        "outputId": "94694108-e905-4b72-acbe-6469f2d71d03"
      },
      "execution_count": null,
      "outputs": [
        {
          "output_type": "execute_result",
          "data": {
            "text/plain": [
              "GARBAGE COLLECTIONS          8242\n",
              "RECYCLING - SINGLE STREAM    6760\n",
              "ORGANICS                     5763\n",
              "BULK                         1594\n",
              "BRUSH                        1517\n",
              "SWEEPING                     1390\n",
              "MIXED LITTER                  329\n",
              "TIRES                         175\n",
              "DEAD ANIMAL                   150\n",
              "YARD TRIMMING                 137\n",
              "RECYCLED METAL                 57\n",
              "LITTER                         41\n",
              "CONTAMINATED RECYCLING          1\n",
              "CONTAMINATED ORGANICS           1\n",
              "Name: load_type, dtype: int64"
            ]
          },
          "metadata": {},
          "execution_count": 12
        }
      ]
    },
    {
      "cell_type": "markdown",
      "source": [
        "I am interested in load type ORGANICS, because in the future we will develop it into more so that organic waste can be transported properly."
      ],
      "metadata": {
        "id": "2iHA00NO8uB-"
      }
    },
    {
      "cell_type": "code",
      "source": [
        "organics = df.loc[df['load_type']=='ORGANICS']"
      ],
      "metadata": {
        "id": "JJzINyRi5hfo"
      },
      "execution_count": null,
      "outputs": []
    },
    {
      "cell_type": "code",
      "source": [
        "total_organics = organics.groupby(by = 'dropoff_site', sort = True)['load_weight'].sum() \n",
        "total_organics"
      ],
      "metadata": {
        "colab": {
          "base_uri": "https://localhost:8080/"
        },
        "id": "taPYQqgc56jF",
        "outputId": "1a62a5ed-6351-4e71-9d49-38aad0b41491"
      },
      "execution_count": null,
      "outputs": [
        {
          "output_type": "execute_result",
          "data": {
            "text/plain": [
              "dropoff_site\n",
              "HORNSBY BEND             16160.0\n",
              "ON ROUTE HIGH DUMP       87680.0\n",
              "ORGANICS BY GOSH      67744966.0\n",
              "PARK BEND                53540.0\n",
              "TDS LANDFILL             28020.0\n",
              "Name: load_weight, dtype: float64"
            ]
          },
          "metadata": {},
          "execution_count": 18
        }
      ]
    },
    {
      "cell_type": "markdown",
      "source": [
        "We can know that organic waste is the most in ORGANICS BY GOSH. That way we will find out more about the site ORGANICS BY GOSH."
      ],
      "metadata": {
        "id": "bgESi2mh9uwY"
      }
    },
    {
      "cell_type": "markdown",
      "source": [
        "First of all, we see how much data there is on ORGANICS BY GOSH. We'll find out by using the df.loc[] function."
      ],
      "metadata": {
        "id": "AIBfJCZz-CiS"
      }
    },
    {
      "cell_type": "code",
      "source": [
        "organics_by_gosh = df.loc[df['dropoff_site']=='ORGANICS BY GOSH']\n",
        "organics_by_gosh"
      ],
      "metadata": {
        "colab": {
          "base_uri": "https://localhost:8080/",
          "height": 633
        },
        "id": "nA_0IVK79SKH",
        "outputId": "9f87b9de-8349-4d94-c254-b3190e854f0b"
      },
      "execution_count": null,
      "outputs": [
        {
          "output_type": "execute_result",
          "data": {
            "text/plain": [
              "      report_date load_type                       load_time  load_weight  \\\n",
              "75     2021-01-02  ORGANICS  2021-01-04 07:37:00.000000 UTC      15800.0   \n",
              "76     2021-01-02  ORGANICS  2021-01-02 07:40:00.000000 UTC      20760.0   \n",
              "77     2021-01-02  ORGANICS  2021-01-02 04:46:00.000000 UTC      14450.0   \n",
              "78     2021-01-02  ORGANICS  2021-01-04 08:48:00.000000 UTC       5980.0   \n",
              "79     2021-01-02  ORGANICS  2021-01-02 01:30:00.000000 UTC      19540.0   \n",
              "...           ...       ...                             ...          ...   \n",
              "26125  2021-07-08  ORGANICS  2021-07-08 04:39:00.000000 UTC      13760.0   \n",
              "26126  2021-07-08  ORGANICS  2021-07-08 03:47:00.000000 UTC       6180.0   \n",
              "26127  2021-07-08  ORGANICS  2021-07-08 03:49:00.000000 UTC      10140.0   \n",
              "26128  2021-07-08  ORGANICS  2021-07-08 04:24:00.000000 UTC      10640.0   \n",
              "26129  2021-07-08  ORGANICS  2021-07-08 04:38:00.000000 UTC       5000.0   \n",
              "\n",
              "           dropoff_site  \n",
              "75     ORGANICS BY GOSH  \n",
              "76     ORGANICS BY GOSH  \n",
              "77     ORGANICS BY GOSH  \n",
              "78     ORGANICS BY GOSH  \n",
              "79     ORGANICS BY GOSH  \n",
              "...                 ...  \n",
              "26125  ORGANICS BY GOSH  \n",
              "26126  ORGANICS BY GOSH  \n",
              "26127  ORGANICS BY GOSH  \n",
              "26128  ORGANICS BY GOSH  \n",
              "26129  ORGANICS BY GOSH  \n",
              "\n",
              "[5755 rows x 5 columns]"
            ],
            "text/html": [
              "\n",
              "  <div id=\"df-a1a5bf09-6c61-47d1-b35a-8b995d299b28\">\n",
              "    <div class=\"colab-df-container\">\n",
              "      <div>\n",
              "<style scoped>\n",
              "    .dataframe tbody tr th:only-of-type {\n",
              "        vertical-align: middle;\n",
              "    }\n",
              "\n",
              "    .dataframe tbody tr th {\n",
              "        vertical-align: top;\n",
              "    }\n",
              "\n",
              "    .dataframe thead th {\n",
              "        text-align: right;\n",
              "    }\n",
              "</style>\n",
              "<table border=\"1\" class=\"dataframe\">\n",
              "  <thead>\n",
              "    <tr style=\"text-align: right;\">\n",
              "      <th></th>\n",
              "      <th>report_date</th>\n",
              "      <th>load_type</th>\n",
              "      <th>load_time</th>\n",
              "      <th>load_weight</th>\n",
              "      <th>dropoff_site</th>\n",
              "    </tr>\n",
              "  </thead>\n",
              "  <tbody>\n",
              "    <tr>\n",
              "      <th>75</th>\n",
              "      <td>2021-01-02</td>\n",
              "      <td>ORGANICS</td>\n",
              "      <td>2021-01-04 07:37:00.000000 UTC</td>\n",
              "      <td>15800.0</td>\n",
              "      <td>ORGANICS BY GOSH</td>\n",
              "    </tr>\n",
              "    <tr>\n",
              "      <th>76</th>\n",
              "      <td>2021-01-02</td>\n",
              "      <td>ORGANICS</td>\n",
              "      <td>2021-01-02 07:40:00.000000 UTC</td>\n",
              "      <td>20760.0</td>\n",
              "      <td>ORGANICS BY GOSH</td>\n",
              "    </tr>\n",
              "    <tr>\n",
              "      <th>77</th>\n",
              "      <td>2021-01-02</td>\n",
              "      <td>ORGANICS</td>\n",
              "      <td>2021-01-02 04:46:00.000000 UTC</td>\n",
              "      <td>14450.0</td>\n",
              "      <td>ORGANICS BY GOSH</td>\n",
              "    </tr>\n",
              "    <tr>\n",
              "      <th>78</th>\n",
              "      <td>2021-01-02</td>\n",
              "      <td>ORGANICS</td>\n",
              "      <td>2021-01-04 08:48:00.000000 UTC</td>\n",
              "      <td>5980.0</td>\n",
              "      <td>ORGANICS BY GOSH</td>\n",
              "    </tr>\n",
              "    <tr>\n",
              "      <th>79</th>\n",
              "      <td>2021-01-02</td>\n",
              "      <td>ORGANICS</td>\n",
              "      <td>2021-01-02 01:30:00.000000 UTC</td>\n",
              "      <td>19540.0</td>\n",
              "      <td>ORGANICS BY GOSH</td>\n",
              "    </tr>\n",
              "    <tr>\n",
              "      <th>...</th>\n",
              "      <td>...</td>\n",
              "      <td>...</td>\n",
              "      <td>...</td>\n",
              "      <td>...</td>\n",
              "      <td>...</td>\n",
              "    </tr>\n",
              "    <tr>\n",
              "      <th>26125</th>\n",
              "      <td>2021-07-08</td>\n",
              "      <td>ORGANICS</td>\n",
              "      <td>2021-07-08 04:39:00.000000 UTC</td>\n",
              "      <td>13760.0</td>\n",
              "      <td>ORGANICS BY GOSH</td>\n",
              "    </tr>\n",
              "    <tr>\n",
              "      <th>26126</th>\n",
              "      <td>2021-07-08</td>\n",
              "      <td>ORGANICS</td>\n",
              "      <td>2021-07-08 03:47:00.000000 UTC</td>\n",
              "      <td>6180.0</td>\n",
              "      <td>ORGANICS BY GOSH</td>\n",
              "    </tr>\n",
              "    <tr>\n",
              "      <th>26127</th>\n",
              "      <td>2021-07-08</td>\n",
              "      <td>ORGANICS</td>\n",
              "      <td>2021-07-08 03:49:00.000000 UTC</td>\n",
              "      <td>10140.0</td>\n",
              "      <td>ORGANICS BY GOSH</td>\n",
              "    </tr>\n",
              "    <tr>\n",
              "      <th>26128</th>\n",
              "      <td>2021-07-08</td>\n",
              "      <td>ORGANICS</td>\n",
              "      <td>2021-07-08 04:24:00.000000 UTC</td>\n",
              "      <td>10640.0</td>\n",
              "      <td>ORGANICS BY GOSH</td>\n",
              "    </tr>\n",
              "    <tr>\n",
              "      <th>26129</th>\n",
              "      <td>2021-07-08</td>\n",
              "      <td>ORGANICS</td>\n",
              "      <td>2021-07-08 04:38:00.000000 UTC</td>\n",
              "      <td>5000.0</td>\n",
              "      <td>ORGANICS BY GOSH</td>\n",
              "    </tr>\n",
              "  </tbody>\n",
              "</table>\n",
              "<p>5755 rows × 5 columns</p>\n",
              "</div>\n",
              "      <button class=\"colab-df-convert\" onclick=\"convertToInteractive('df-a1a5bf09-6c61-47d1-b35a-8b995d299b28')\"\n",
              "              title=\"Convert this dataframe to an interactive table.\"\n",
              "              style=\"display:none;\">\n",
              "        \n",
              "  <svg xmlns=\"http://www.w3.org/2000/svg\" height=\"24px\"viewBox=\"0 0 24 24\"\n",
              "       width=\"24px\">\n",
              "    <path d=\"M0 0h24v24H0V0z\" fill=\"none\"/>\n",
              "    <path d=\"M18.56 5.44l.94 2.06.94-2.06 2.06-.94-2.06-.94-.94-2.06-.94 2.06-2.06.94zm-11 1L8.5 8.5l.94-2.06 2.06-.94-2.06-.94L8.5 2.5l-.94 2.06-2.06.94zm10 10l.94 2.06.94-2.06 2.06-.94-2.06-.94-.94-2.06-.94 2.06-2.06.94z\"/><path d=\"M17.41 7.96l-1.37-1.37c-.4-.4-.92-.59-1.43-.59-.52 0-1.04.2-1.43.59L10.3 9.45l-7.72 7.72c-.78.78-.78 2.05 0 2.83L4 21.41c.39.39.9.59 1.41.59.51 0 1.02-.2 1.41-.59l7.78-7.78 2.81-2.81c.8-.78.8-2.07 0-2.86zM5.41 20L4 18.59l7.72-7.72 1.47 1.35L5.41 20z\"/>\n",
              "  </svg>\n",
              "      </button>\n",
              "      \n",
              "  <style>\n",
              "    .colab-df-container {\n",
              "      display:flex;\n",
              "      flex-wrap:wrap;\n",
              "      gap: 12px;\n",
              "    }\n",
              "\n",
              "    .colab-df-convert {\n",
              "      background-color: #E8F0FE;\n",
              "      border: none;\n",
              "      border-radius: 50%;\n",
              "      cursor: pointer;\n",
              "      display: none;\n",
              "      fill: #1967D2;\n",
              "      height: 32px;\n",
              "      padding: 0 0 0 0;\n",
              "      width: 32px;\n",
              "    }\n",
              "\n",
              "    .colab-df-convert:hover {\n",
              "      background-color: #E2EBFA;\n",
              "      box-shadow: 0px 1px 2px rgba(60, 64, 67, 0.3), 0px 1px 3px 1px rgba(60, 64, 67, 0.15);\n",
              "      fill: #174EA6;\n",
              "    }\n",
              "\n",
              "    [theme=dark] .colab-df-convert {\n",
              "      background-color: #3B4455;\n",
              "      fill: #D2E3FC;\n",
              "    }\n",
              "\n",
              "    [theme=dark] .colab-df-convert:hover {\n",
              "      background-color: #434B5C;\n",
              "      box-shadow: 0px 1px 3px 1px rgba(0, 0, 0, 0.15);\n",
              "      filter: drop-shadow(0px 1px 2px rgba(0, 0, 0, 0.3));\n",
              "      fill: #FFFFFF;\n",
              "    }\n",
              "  </style>\n",
              "\n",
              "      <script>\n",
              "        const buttonEl =\n",
              "          document.querySelector('#df-a1a5bf09-6c61-47d1-b35a-8b995d299b28 button.colab-df-convert');\n",
              "        buttonEl.style.display =\n",
              "          google.colab.kernel.accessAllowed ? 'block' : 'none';\n",
              "\n",
              "        async function convertToInteractive(key) {\n",
              "          const element = document.querySelector('#df-a1a5bf09-6c61-47d1-b35a-8b995d299b28');\n",
              "          const dataTable =\n",
              "            await google.colab.kernel.invokeFunction('convertToInteractive',\n",
              "                                                     [key], {});\n",
              "          if (!dataTable) return;\n",
              "\n",
              "          const docLinkHtml = 'Like what you see? Visit the ' +\n",
              "            '<a target=\"_blank\" href=https://colab.research.google.com/notebooks/data_table.ipynb>data table notebook</a>'\n",
              "            + ' to learn more about interactive tables.';\n",
              "          element.innerHTML = '';\n",
              "          dataTable['output_type'] = 'display_data';\n",
              "          await google.colab.output.renderOutput(dataTable, element);\n",
              "          const docLink = document.createElement('div');\n",
              "          docLink.innerHTML = docLinkHtml;\n",
              "          element.appendChild(docLink);\n",
              "        }\n",
              "      </script>\n",
              "    </div>\n",
              "  </div>\n",
              "  "
            ]
          },
          "metadata": {},
          "execution_count": 19
        }
      ]
    },
    {
      "cell_type": "markdown",
      "source": [
        "We will find out what percentage of this site stores organic waste with the entire population."
      ],
      "metadata": {
        "id": "K1AedTsh_-IW"
      }
    },
    {
      "cell_type": "code",
      "source": [
        "organics_by_gosh_percent = organics_by_gosh.value_counts().sum()\n",
        "organics_by_gosh_percent"
      ],
      "metadata": {
        "colab": {
          "base_uri": "https://localhost:8080/"
        },
        "id": "yYcUqZmD-noE",
        "outputId": "36c67f70-7b24-424c-d114-fa6308962980"
      },
      "execution_count": null,
      "outputs": [
        {
          "output_type": "execute_result",
          "data": {
            "text/plain": [
              "5755"
            ]
          },
          "metadata": {},
          "execution_count": 20
        }
      ]
    },
    {
      "cell_type": "markdown",
      "source": [
        "There are 5755 organics type data.\n",
        "\n",
        "Then we compare it with the population, before the population data we will sum them all."
      ],
      "metadata": {
        "id": "lP3z25uxBLVr"
      }
    },
    {
      "cell_type": "code",
      "source": [
        "organics.value_counts().sum()"
      ],
      "metadata": {
        "colab": {
          "base_uri": "https://localhost:8080/"
        },
        "id": "kpebqkrQBAoY",
        "outputId": "fd36bbaf-fcf6-4957-e8a4-458cca637d4a"
      },
      "execution_count": null,
      "outputs": [
        {
          "output_type": "execute_result",
          "data": {
            "text/plain": [
              "5763"
            ]
          },
          "metadata": {},
          "execution_count": 21
        }
      ]
    },
    {
      "cell_type": "markdown",
      "source": [
        "After that we will enter the code to find a percentage comparison between ORGANICS BY GOSH and its population."
      ],
      "metadata": {
        "id": "CycZ0mpWDDPj"
      }
    },
    {
      "cell_type": "code",
      "source": [
        "total = organics_by_gosh_percent/organics.value_counts().sum()*100\n",
        "print(total,'%')"
      ],
      "metadata": {
        "colab": {
          "base_uri": "https://localhost:8080/"
        },
        "id": "jpoW7kUwBE0V",
        "outputId": "fcbf20a8-6c3b-4b92-d976-ec823a5d1cef"
      },
      "execution_count": null,
      "outputs": [
        {
          "output_type": "stream",
          "name": "stdout",
          "text": [
            "99.86118341141767 %\n"
          ]
        }
      ]
    },
    {
      "cell_type": "markdown",
      "source": [
        "We can see that the ORGANICS BY GOSH site contributes 99.86% of the total weight of organic waste. In a sense ORGANICS BY GOSH plays a huge role in landfills and waste management in all populations.\n",
        "\n",
        "We'll see if there's missing data on ORGANICS BY GOSH by using df.isnull().sum()."
      ],
      "metadata": {
        "id": "ddBUPXCfED7e"
      }
    },
    {
      "cell_type": "code",
      "source": [
        "organics_by_gosh.isnull().sum()"
      ],
      "metadata": {
        "colab": {
          "base_uri": "https://localhost:8080/"
        },
        "id": "WiLdiG5oDYxS",
        "outputId": "ea8bdec6-a3ed-4831-bcd3-8415fb9ea658"
      },
      "execution_count": null,
      "outputs": [
        {
          "output_type": "execute_result",
          "data": {
            "text/plain": [
              "report_date     0\n",
              "load_type       0\n",
              "load_time       0\n",
              "load_weight     0\n",
              "dropoff_site    0\n",
              "dtype: int64"
            ]
          },
          "metadata": {},
          "execution_count": 23
        }
      ]
    },
    {
      "cell_type": "markdown",
      "source": [
        "We see that there is no missing data, then we will see the distribution of data using visualizations."
      ],
      "metadata": {
        "id": "VNFv-wOME3Es"
      }
    },
    {
      "cell_type": "code",
      "source": [
        "organics_by_gosh.plot.hist(title='ORGANICS BY GOSH', color='lightblue', bins=25)  \n",
        "plt.axvline(organics_by_gosh['load_weight'].mean(), color='red', linestyle='dashed', linewidth=2)\n",
        "plt.axvline(organics_by_gosh['load_weight'].median(), color='green', linestyle='dashed', linewidth=2)\n",
        "plt.show()"
      ],
      "metadata": {
        "colab": {
          "base_uri": "https://localhost:8080/",
          "height": 281
        },
        "id": "GksfTPzhEvKy",
        "outputId": "cd4cf7a0-787d-47ef-c121-05c6bde65dd9"
      },
      "execution_count": null,
      "outputs": [
        {
          "output_type": "display_data",
          "data": {
            "text/plain": [
              "<Figure size 432x288 with 1 Axes>"
            ],
            "image/png": "[encoded data removed]"
          },
          "metadata": {
            "needs_background": "light"
          }
        }
      ]
    },
    {
      "cell_type": "markdown",
      "source": [
        "From this data, we see that the data is well distributed. We \n",
        "\n",
        "will see the skewed distribution by using the .skew() function."
      ],
      "metadata": {
        "id": "_ZFO0e7iGUrh"
      }
    },
    {
      "cell_type": "code",
      "source": [
        "organics_by_gosh['load_weight'].skew()"
      ],
      "metadata": {
        "colab": {
          "base_uri": "https://localhost:8080/"
        },
        "id": "JsyiLq9QFGWF",
        "outputId": "b852a211-ef8e-450f-c1a5-839967859cbe"
      },
      "execution_count": null,
      "outputs": [
        {
          "output_type": "execute_result",
          "data": {
            "text/plain": [
              "0.04408867950621049"
            ]
          },
          "metadata": {},
          "execution_count": 25
        }
      ]
    },
    {
      "cell_type": "markdown",
      "source": [
        "In the data above, we can see that the skew distribution is 0.04 where the data is normal. But we still want to see if there are data outliers or not, then we will look at it with a boxplot."
      ],
      "metadata": {
        "id": "xAomjMdwIZnn"
      }
    },
    {
      "cell_type": "code",
      "source": [
        "sns.boxplot(data=organics_by_gosh, y = 'load_weight');"
      ],
      "metadata": {
        "colab": {
          "base_uri": "https://localhost:8080/",
          "height": 252
        },
        "id": "wIsUxNRoGwv_",
        "outputId": "b5d99583-baef-4fca-f892-8df88976a048"
      },
      "execution_count": null,
      "outputs": [
        {
          "output_type": "display_data",
          "data": {
            "text/plain": [
              "<Figure size 432x288 with 1 Axes>"
            ],
            "image/png": "[encoded data removed]"
          },
          "metadata": {
            "needs_background": "light"
          }
        }
      ]
    },
    {
      "cell_type": "markdown",
      "source": [
        "We can see that in the boxplot there is a black dot above which means that there is no data outliers, in other words, there is still extreme data outside of the distribution data of the total data. If there are still data outliers we must first eliminate it so that the analysis is good.\n",
        "\n",
        "Previously we started by looking for the mean, median and mode on the data."
      ],
      "metadata": {
        "id": "lU8VbsACI58k"
      }
    },
    {
      "cell_type": "code",
      "source": [
        "organics_by_gosh_mean = organics_by_gosh['load_weight'].mean()\n",
        "organics_by_gosh_mean"
      ],
      "metadata": {
        "colab": {
          "base_uri": "https://localhost:8080/"
        },
        "id": "QXaQ3AT1G2r2",
        "outputId": "8ff74f8b-c633-4be1-e8fa-4160a6b3d218"
      },
      "execution_count": null,
      "outputs": [
        {
          "output_type": "execute_result",
          "data": {
            "text/plain": [
              "11789.731711555169"
            ]
          },
          "metadata": {},
          "execution_count": 27
        }
      ]
    },
    {
      "cell_type": "code",
      "source": [
        "organics_by_gosh_median = organics_by_gosh['load_weight'].median()\n",
        "organics_by_gosh_median"
      ],
      "metadata": {
        "colab": {
          "base_uri": "https://localhost:8080/"
        },
        "id": "5QwmaQoaJjWD",
        "outputId": "95844347-b502-42f3-eb5b-c73a6b0a5227"
      },
      "execution_count": null,
      "outputs": [
        {
          "output_type": "execute_result",
          "data": {
            "text/plain": [
              "11900.0"
            ]
          },
          "metadata": {},
          "execution_count": 28
        }
      ]
    },
    {
      "cell_type": "code",
      "source": [
        "organics_by_gosh_mode = organics_by_gosh['load_weight'].mode()\n",
        "organics_by_gosh_mode"
      ],
      "metadata": {
        "colab": {
          "base_uri": "https://localhost:8080/"
        },
        "id": "ul7RPzJSJnWp",
        "outputId": "5d21c5f0-1dac-47ad-f21f-7011943698f3"
      },
      "execution_count": null,
      "outputs": [
        {
          "output_type": "execute_result",
          "data": {
            "text/plain": [
              "0    14580.0\n",
              "dtype: float64"
            ]
          },
          "metadata": {},
          "execution_count": 29
        }
      ]
    },
    {
      "cell_type": "markdown",
      "source": [
        "After that we will look for variants of this data for more data distribution between total data."
      ],
      "metadata": {
        "id": "KnI_IRTgJ0kf"
      }
    },
    {
      "cell_type": "code",
      "source": [
        "organics_by_gosh['load_weight'].var()"
      ],
      "metadata": {
        "colab": {
          "base_uri": "https://localhost:8080/"
        },
        "id": "XHH09GhkJu1g",
        "outputId": "213778bc-f2b2-4e21-a7b0-f9a3468f3df1"
      },
      "execution_count": null,
      "outputs": [
        {
          "output_type": "execute_result",
          "data": {
            "text/plain": [
              "25989104.34371961"
            ]
          },
          "metadata": {},
          "execution_count": 30
        }
      ]
    },
    {
      "cell_type": "markdown",
      "source": [
        "After that we look for the standard deviation to see the dispersion of the data relative to the mean."
      ],
      "metadata": {
        "id": "s1ZIk32IL8EO"
      }
    },
    {
      "cell_type": "code",
      "source": [
        "organics_by_gosh_std = organics_by_gosh['load_weight'].std()\n",
        "organics_by_gosh_std"
      ],
      "metadata": {
        "colab": {
          "base_uri": "https://localhost:8080/"
        },
        "id": "F3ylyqbOKBra",
        "outputId": "64557b23-878a-4ec7-a9b1-958bf8b15dce"
      },
      "execution_count": null,
      "outputs": [
        {
          "output_type": "execute_result",
          "data": {
            "text/plain": [
              "5097.950994636924"
            ]
          },
          "metadata": {},
          "execution_count": 31
        }
      ]
    },
    {
      "cell_type": "markdown",
      "source": [
        "Once we get the standard deviation, we create an upper bound and lower limit formula to find out the uppermost and lowermost outliers."
      ],
      "metadata": {
        "id": "NOcSajHmgNLP"
      }
    },
    {
      "cell_type": "code",
      "source": [
        "outliers_plus = organics_by_gosh_mean + 3*organics_by_gosh_std\n",
        "outliers_plus"
      ],
      "metadata": {
        "colab": {
          "base_uri": "https://localhost:8080/"
        },
        "id": "5itD1oX2McJH",
        "outputId": "bf70120a-1a38-43ca-e374-3388ff5535b7"
      },
      "execution_count": null,
      "outputs": [
        {
          "output_type": "execute_result",
          "data": {
            "text/plain": [
              "27083.584695465943"
            ]
          },
          "metadata": {},
          "execution_count": 32
        }
      ]
    },
    {
      "cell_type": "code",
      "source": [
        "outliers_minus = organics_by_gosh_mean - 3*organics_by_gosh_std\n",
        "outliers_minus"
      ],
      "metadata": {
        "colab": {
          "base_uri": "https://localhost:8080/"
        },
        "id": "87yKpMHTPhHg",
        "outputId": "2bb44d8b-b46a-4f81-fc1f-1a3a3912afdd"
      },
      "execution_count": null,
      "outputs": [
        {
          "output_type": "execute_result",
          "data": {
            "text/plain": [
              "-3504.1212723556037"
            ]
          },
          "metadata": {},
          "execution_count": 33
        }
      ]
    },
    {
      "cell_type": "markdown",
      "source": [
        "Once we get the upper limit and the lower limit, we look for outliers data based on that data."
      ],
      "metadata": {
        "id": "FiHPA2wDgsv1"
      }
    },
    {
      "cell_type": "code",
      "source": [
        "organics_by_gosh.loc[organics_by_gosh['load_weight'] > 27083.58]"
      ],
      "metadata": {
        "colab": {
          "base_uri": "https://localhost:8080/",
          "height": 477
        },
        "id": "LmfjGLvyPlfw",
        "outputId": "eee6c224-efb1-40e6-dcf8-4bc6813b384a"
      },
      "execution_count": null,
      "outputs": [
        {
          "output_type": "execute_result",
          "data": {
            "text/plain": [
              "      report_date load_type                       load_time  load_weight  \\\n",
              "6903   2021-02-26  ORGANICS  2021-02-26 05:12:00.000000 UTC      27620.0   \n",
              "7275   2021-03-01  ORGANICS  2021-03-01 05:36:00.000000 UTC      27300.0   \n",
              "9814   2021-03-15  ORGANICS  2021-03-15 12:00:00.000000 UTC      27240.0   \n",
              "21339  2021-06-02  ORGANICS  2021-06-02 05:39:00.000000 UTC      28120.0   \n",
              "21504  2021-06-03  ORGANICS  2021-06-03 07:05:00.000000 UTC      29660.0   \n",
              "21945  2021-06-07  ORGANICS  2021-06-07 12:00:00.000000 UTC      29000.0   \n",
              "22937  2021-06-14  ORGANICS  2021-06-14 06:15:00.000000 UTC      29160.0   \n",
              "23116  2021-06-15  ORGANICS  2021-06-15 02:07:00.000000 UTC      27120.0   \n",
              "\n",
              "           dropoff_site  \n",
              "6903   ORGANICS BY GOSH  \n",
              "7275   ORGANICS BY GOSH  \n",
              "9814   ORGANICS BY GOSH  \n",
              "21339  ORGANICS BY GOSH  \n",
              "21504  ORGANICS BY GOSH  \n",
              "21945  ORGANICS BY GOSH  \n",
              "22937  ORGANICS BY GOSH  \n",
              "23116  ORGANICS BY GOSH  "
            ],
            "text/html": [
              "\n",
              "  <div id=\"df-59330d06-cd86-4817-add3-90d5c5b1bba9\">\n",
              "    <div class=\"colab-df-container\">\n",
              "      <div>\n",
              "<style scoped>\n",
              "    .dataframe tbody tr th:only-of-type {\n",
              "        vertical-align: middle;\n",
              "    }\n",
              "\n",
              "    .dataframe tbody tr th {\n",
              "        vertical-align: top;\n",
              "    }\n",
              "\n",
              "    .dataframe thead th {\n",
              "        text-align: right;\n",
              "    }\n",
              "</style>\n",
              "<table border=\"1\" class=\"dataframe\">\n",
              "  <thead>\n",
              "    <tr style=\"text-align: right;\">\n",
              "      <th></th>\n",
              "      <th>report_date</th>\n",
              "      <th>load_type</th>\n",
              "      <th>load_time</th>\n",
              "      <th>load_weight</th>\n",
              "      <th>dropoff_site</th>\n",
              "    </tr>\n",
              "  </thead>\n",
              "  <tbody>\n",
              "    <tr>\n",
              "      <th>6903</th>\n",
              "      <td>2021-02-26</td>\n",
              "      <td>ORGANICS</td>\n",
              "      <td>2021-02-26 05:12:00.000000 UTC</td>\n",
              "      <td>27620.0</td>\n",
              "      <td>ORGANICS BY GOSH</td>\n",
              "    </tr>\n",
              "    <tr>\n",
              "      <th>7275</th>\n",
              "      <td>2021-03-01</td>\n",
              "      <td>ORGANICS</td>\n",
              "      <td>2021-03-01 05:36:00.000000 UTC</td>\n",
              "      <td>27300.0</td>\n",
              "      <td>ORGANICS BY GOSH</td>\n",
              "    </tr>\n",
              "    <tr>\n",
              "      <th>9814</th>\n",
              "      <td>2021-03-15</td>\n",
              "      <td>ORGANICS</td>\n",
              "      <td>2021-03-15 12:00:00.000000 UTC</td>\n",
              "      <td>27240.0</td>\n",
              "      <td>ORGANICS BY GOSH</td>\n",
              "    </tr>\n",
              "    <tr>\n",
              "      <th>21339</th>\n",
              "      <td>2021-06-02</td>\n",
              "      <td>ORGANICS</td>\n",
              "      <td>2021-06-02 05:39:00.000000 UTC</td>\n",
              "      <td>28120.0</td>\n",
              "      <td>ORGANICS BY GOSH</td>\n",
              "    </tr>\n",
              "    <tr>\n",
              "      <th>21504</th>\n",
              "      <td>2021-06-03</td>\n",
              "      <td>ORGANICS</td>\n",
              "      <td>2021-06-03 07:05:00.000000 UTC</td>\n",
              "      <td>29660.0</td>\n",
              "      <td>ORGANICS BY GOSH</td>\n",
              "    </tr>\n",
              "    <tr>\n",
              "      <th>21945</th>\n",
              "      <td>2021-06-07</td>\n",
              "      <td>ORGANICS</td>\n",
              "      <td>2021-06-07 12:00:00.000000 UTC</td>\n",
              "      <td>29000.0</td>\n",
              "      <td>ORGANICS BY GOSH</td>\n",
              "    </tr>\n",
              "    <tr>\n",
              "      <th>22937</th>\n",
              "      <td>2021-06-14</td>\n",
              "      <td>ORGANICS</td>\n",
              "      <td>2021-06-14 06:15:00.000000 UTC</td>\n",
              "      <td>29160.0</td>\n",
              "      <td>ORGANICS BY GOSH</td>\n",
              "    </tr>\n",
              "    <tr>\n",
              "      <th>23116</th>\n",
              "      <td>2021-06-15</td>\n",
              "      <td>ORGANICS</td>\n",
              "      <td>2021-06-15 02:07:00.000000 UTC</td>\n",
              "      <td>27120.0</td>\n",
              "      <td>ORGANICS BY GOSH</td>\n",
              "    </tr>\n",
              "  </tbody>\n",
              "</table>\n",
              "</div>\n",
              "      <button class=\"colab-df-convert\" onclick=\"convertToInteractive('df-59330d06-cd86-4817-add3-90d5c5b1bba9')\"\n",
              "              title=\"Convert this dataframe to an interactive table.\"\n",
              "              style=\"display:none;\">\n",
              "        \n",
              "  <svg xmlns=\"http://www.w3.org/2000/svg\" height=\"24px\"viewBox=\"0 0 24 24\"\n",
              "       width=\"24px\">\n",
              "    <path d=\"M0 0h24v24H0V0z\" fill=\"none\"/>\n",
              "    <path d=\"M18.56 5.44l.94 2.06.94-2.06 2.06-.94-2.06-.94-.94-2.06-.94 2.06-2.06.94zm-11 1L8.5 8.5l.94-2.06 2.06-.94-2.06-.94L8.5 2.5l-.94 2.06-2.06.94zm10 10l.94 2.06.94-2.06 2.06-.94-2.06-.94-.94-2.06-.94 2.06-2.06.94z\"/><path d=\"M17.41 7.96l-1.37-1.37c-.4-.4-.92-.59-1.43-.59-.52 0-1.04.2-1.43.59L10.3 9.45l-7.72 7.72c-.78.78-.78 2.05 0 2.83L4 21.41c.39.39.9.59 1.41.59.51 0 1.02-.2 1.41-.59l7.78-7.78 2.81-2.81c.8-.78.8-2.07 0-2.86zM5.41 20L4 18.59l7.72-7.72 1.47 1.35L5.41 20z\"/>\n",
              "  </svg>\n",
              "      </button>\n",
              "      \n",
              "  <style>\n",
              "    .colab-df-container {\n",
              "      display:flex;\n",
              "      flex-wrap:wrap;\n",
              "      gap: 12px;\n",
              "    }\n",
              "\n",
              "    .colab-df-convert {\n",
              "      background-color: #E8F0FE;\n",
              "      border: none;\n",
              "      border-radius: 50%;\n",
              "      cursor: pointer;\n",
              "      display: none;\n",
              "      fill: #1967D2;\n",
              "      height: 32px;\n",
              "      padding: 0 0 0 0;\n",
              "      width: 32px;\n",
              "    }\n",
              "\n",
              "    .colab-df-convert:hover {\n",
              "      background-color: #E2EBFA;\n",
              "      box-shadow: 0px 1px 2px rgba(60, 64, 67, 0.3), 0px 1px 3px 1px rgba(60, 64, 67, 0.15);\n",
              "      fill: #174EA6;\n",
              "    }\n",
              "\n",
              "    [theme=dark] .colab-df-convert {\n",
              "      background-color: #3B4455;\n",
              "      fill: #D2E3FC;\n",
              "    }\n",
              "\n",
              "    [theme=dark] .colab-df-convert:hover {\n",
              "      background-color: #434B5C;\n",
              "      box-shadow: 0px 1px 3px 1px rgba(0, 0, 0, 0.15);\n",
              "      filter: drop-shadow(0px 1px 2px rgba(0, 0, 0, 0.3));\n",
              "      fill: #FFFFFF;\n",
              "    }\n",
              "  </style>\n",
              "\n",
              "      <script>\n",
              "        const buttonEl =\n",
              "          document.querySelector('#df-59330d06-cd86-4817-add3-90d5c5b1bba9 button.colab-df-convert');\n",
              "        buttonEl.style.display =\n",
              "          google.colab.kernel.accessAllowed ? 'block' : 'none';\n",
              "\n",
              "        async function convertToInteractive(key) {\n",
              "          const element = document.querySelector('#df-59330d06-cd86-4817-add3-90d5c5b1bba9');\n",
              "          const dataTable =\n",
              "            await google.colab.kernel.invokeFunction('convertToInteractive',\n",
              "                                                     [key], {});\n",
              "          if (!dataTable) return;\n",
              "\n",
              "          const docLinkHtml = 'Like what you see? Visit the ' +\n",
              "            '<a target=\"_blank\" href=https://colab.research.google.com/notebooks/data_table.ipynb>data table notebook</a>'\n",
              "            + ' to learn more about interactive tables.';\n",
              "          element.innerHTML = '';\n",
              "          dataTable['output_type'] = 'display_data';\n",
              "          await google.colab.output.renderOutput(dataTable, element);\n",
              "          const docLink = document.createElement('div');\n",
              "          docLink.innerHTML = docLinkHtml;\n",
              "          element.appendChild(docLink);\n",
              "        }\n",
              "      </script>\n",
              "    </div>\n",
              "  </div>\n",
              "  "
            ]
          },
          "metadata": {},
          "execution_count": 34
        }
      ]
    },
    {
      "cell_type": "markdown",
      "source": [
        "And it turns out that there are 8 data outliers in the top data search."
      ],
      "metadata": {
        "id": "jCG3B2VWhqoa"
      }
    },
    {
      "cell_type": "code",
      "source": [
        "organics_by_gosh.loc[organics_by_gosh['load_weight'] < -3504.12]"
      ],
      "metadata": {
        "colab": {
          "base_uri": "https://localhost:8080/",
          "height": 49
        },
        "id": "1kemSbM5PyZ4",
        "outputId": "4cfd5e53-be10-404e-a3af-ddeaf6133faf"
      },
      "execution_count": null,
      "outputs": [
        {
          "output_type": "execute_result",
          "data": {
            "text/plain": [
              "Empty DataFrame\n",
              "Columns: [report_date, load_type, load_time, load_weight, dropoff_site]\n",
              "Index: []"
            ],
            "text/html": [
              "\n",
              "  <div id=\"df-7d3af43b-e005-4c8a-b8c1-41742547ec1e\">\n",
              "    <div class=\"colab-df-container\">\n",
              "      <div>\n",
              "<style scoped>\n",
              "    .dataframe tbody tr th:only-of-type {\n",
              "        vertical-align: middle;\n",
              "    }\n",
              "\n",
              "    .dataframe tbody tr th {\n",
              "        vertical-align: top;\n",
              "    }\n",
              "\n",
              "    .dataframe thead th {\n",
              "        text-align: right;\n",
              "    }\n",
              "</style>\n",
              "<table border=\"1\" class=\"dataframe\">\n",
              "  <thead>\n",
              "    <tr style=\"text-align: right;\">\n",
              "      <th></th>\n",
              "      <th>report_date</th>\n",
              "      <th>load_type</th>\n",
              "      <th>load_time</th>\n",
              "      <th>load_weight</th>\n",
              "      <th>dropoff_site</th>\n",
              "    </tr>\n",
              "  </thead>\n",
              "  <tbody>\n",
              "  </tbody>\n",
              "</table>\n",
              "</div>\n",
              "      <button class=\"colab-df-convert\" onclick=\"convertToInteractive('df-7d3af43b-e005-4c8a-b8c1-41742547ec1e')\"\n",
              "              title=\"Convert this dataframe to an interactive table.\"\n",
              "              style=\"display:none;\">\n",
              "        \n",
              "  <svg xmlns=\"http://www.w3.org/2000/svg\" height=\"24px\"viewBox=\"0 0 24 24\"\n",
              "       width=\"24px\">\n",
              "    <path d=\"M0 0h24v24H0V0z\" fill=\"none\"/>\n",
              "    <path d=\"M18.56 5.44l.94 2.06.94-2.06 2.06-.94-2.06-.94-.94-2.06-.94 2.06-2.06.94zm-11 1L8.5 8.5l.94-2.06 2.06-.94-2.06-.94L8.5 2.5l-.94 2.06-2.06.94zm10 10l.94 2.06.94-2.06 2.06-.94-2.06-.94-.94-2.06-.94 2.06-2.06.94z\"/><path d=\"M17.41 7.96l-1.37-1.37c-.4-.4-.92-.59-1.43-.59-.52 0-1.04.2-1.43.59L10.3 9.45l-7.72 7.72c-.78.78-.78 2.05 0 2.83L4 21.41c.39.39.9.59 1.41.59.51 0 1.02-.2 1.41-.59l7.78-7.78 2.81-2.81c.8-.78.8-2.07 0-2.86zM5.41 20L4 18.59l7.72-7.72 1.47 1.35L5.41 20z\"/>\n",
              "  </svg>\n",
              "      </button>\n",
              "      \n",
              "  <style>\n",
              "    .colab-df-container {\n",
              "      display:flex;\n",
              "      flex-wrap:wrap;\n",
              "      gap: 12px;\n",
              "    }\n",
              "\n",
              "    .colab-df-convert {\n",
              "      background-color: #E8F0FE;\n",
              "      border: none;\n",
              "      border-radius: 50%;\n",
              "      cursor: pointer;\n",
              "      display: none;\n",
              "      fill: #1967D2;\n",
              "      height: 32px;\n",
              "      padding: 0 0 0 0;\n",
              "      width: 32px;\n",
              "    }\n",
              "\n",
              "    .colab-df-convert:hover {\n",
              "      background-color: #E2EBFA;\n",
              "      box-shadow: 0px 1px 2px rgba(60, 64, 67, 0.3), 0px 1px 3px 1px rgba(60, 64, 67, 0.15);\n",
              "      fill: #174EA6;\n",
              "    }\n",
              "\n",
              "    [theme=dark] .colab-df-convert {\n",
              "      background-color: #3B4455;\n",
              "      fill: #D2E3FC;\n",
              "    }\n",
              "\n",
              "    [theme=dark] .colab-df-convert:hover {\n",
              "      background-color: #434B5C;\n",
              "      box-shadow: 0px 1px 3px 1px rgba(0, 0, 0, 0.15);\n",
              "      filter: drop-shadow(0px 1px 2px rgba(0, 0, 0, 0.3));\n",
              "      fill: #FFFFFF;\n",
              "    }\n",
              "  </style>\n",
              "\n",
              "      <script>\n",
              "        const buttonEl =\n",
              "          document.querySelector('#df-7d3af43b-e005-4c8a-b8c1-41742547ec1e button.colab-df-convert');\n",
              "        buttonEl.style.display =\n",
              "          google.colab.kernel.accessAllowed ? 'block' : 'none';\n",
              "\n",
              "        async function convertToInteractive(key) {\n",
              "          const element = document.querySelector('#df-7d3af43b-e005-4c8a-b8c1-41742547ec1e');\n",
              "          const dataTable =\n",
              "            await google.colab.kernel.invokeFunction('convertToInteractive',\n",
              "                                                     [key], {});\n",
              "          if (!dataTable) return;\n",
              "\n",
              "          const docLinkHtml = 'Like what you see? Visit the ' +\n",
              "            '<a target=\"_blank\" href=https://colab.research.google.com/notebooks/data_table.ipynb>data table notebook</a>'\n",
              "            + ' to learn more about interactive tables.';\n",
              "          element.innerHTML = '';\n",
              "          dataTable['output_type'] = 'display_data';\n",
              "          await google.colab.output.renderOutput(dataTable, element);\n",
              "          const docLink = document.createElement('div');\n",
              "          docLink.innerHTML = docLinkHtml;\n",
              "          element.appendChild(docLink);\n",
              "        }\n",
              "      </script>\n",
              "    </div>\n",
              "  </div>\n",
              "  "
            ]
          },
          "metadata": {},
          "execution_count": 35
        }
      ]
    },
    {
      "cell_type": "markdown",
      "source": [
        "For the lower bound no data outliers were found.\n",
        "\n",
        "After that, we are looking for what percentage of data outliers on the data site ORGANICS BY GOSH."
      ],
      "metadata": {
        "id": "1NpVgii3h0xc"
      }
    },
    {
      "cell_type": "code",
      "source": [
        "organics_by_gosh_outliers_percent = organics_by_gosh.loc[organics_by_gosh['load_weight'] > 27083.58].value_counts().sum()\n",
        "organics_by_gosh_outliers_percent"
      ],
      "metadata": {
        "colab": {
          "base_uri": "https://localhost:8080/"
        },
        "id": "5Z51Es73P7eW",
        "outputId": "ca83689e-d5ef-40c5-b3cd-9d2a0b711a41"
      },
      "execution_count": null,
      "outputs": [
        {
          "output_type": "execute_result",
          "data": {
            "text/plain": [
              "8"
            ]
          },
          "metadata": {},
          "execution_count": 36
        }
      ]
    },
    {
      "cell_type": "code",
      "source": [
        "organics_by_gosh_o_total = organics_by_gosh_outliers_percent/organics_by_gosh_percent*100\n",
        "print(organics_by_gosh_o_total, '%')"
      ],
      "metadata": {
        "colab": {
          "base_uri": "https://localhost:8080/"
        },
        "id": "mRokIlszRK0i",
        "outputId": "702c717d-8292-4669-c57a-577517c7f3a5"
      },
      "execution_count": null,
      "outputs": [
        {
          "output_type": "stream",
          "name": "stdout",
          "text": [
            "0.13900955690703737 %\n"
          ]
        }
      ]
    },
    {
      "cell_type": "markdown",
      "source": [
        "And we can know, the outliers data on the ORGANICS BY GOSH data site is 13.9%. But still we have to take out the outliers data so that the data is not unequal far away.\n",
        "\n",
        "We do a drop index that refers to the outliers data."
      ],
      "metadata": {
        "id": "g4iri-IriGNS"
      }
    },
    {
      "cell_type": "code",
      "source": [
        "organics_by_gosh.drop(index = [6903,7275,9814,21339,21504,21945,22937,23116], inplace=True)"
      ],
      "metadata": {
        "colab": {
          "base_uri": "https://localhost:8080/"
        },
        "id": "80dBEyUaRn8G",
        "outputId": "e9405721-9a60-47b6-e390-2dab1f9925d0"
      },
      "execution_count": null,
      "outputs": [
        {
          "output_type": "stream",
          "name": "stderr",
          "text": [
            "/usr/local/lib/python3.8/dist-packages/pandas/core/frame.py:4906: SettingWithCopyWarning: \n",
            "A value is trying to be set on a copy of a slice from a DataFrame\n",
            "\n",
            "See the caveats in the documentation: https://pandas.pydata.org/pandas-docs/stable/user_guide/indexing.html#returning-a-view-versus-a-copy\n",
            "  return super().drop(\n"
          ]
        }
      ]
    },
    {
      "cell_type": "markdown",
      "source": [
        "Then we check whether the outliers data has been lost."
      ],
      "metadata": {
        "id": "AQSeWhDEizTl"
      }
    },
    {
      "cell_type": "code",
      "source": [
        "organics_by_gosh.count()"
      ],
      "metadata": {
        "colab": {
          "base_uri": "https://localhost:8080/"
        },
        "id": "LViuFT_7SK_P",
        "outputId": "0b4ac08a-891e-4c24-bd08-dc58a083afd1"
      },
      "execution_count": null,
      "outputs": [
        {
          "output_type": "execute_result",
          "data": {
            "text/plain": [
              "report_date     5747\n",
              "load_type       5747\n",
              "load_time       5747\n",
              "load_weight     5747\n",
              "dropoff_site    5747\n",
              "dtype: int64"
            ]
          },
          "metadata": {},
          "execution_count": 39
        }
      ]
    },
    {
      "cell_type": "markdown",
      "source": [
        "From the total data above, we can know that the data no longer exists. Then we continue back by creating a boxplot."
      ],
      "metadata": {
        "id": "Xkbl-2UNjNjy"
      }
    },
    {
      "cell_type": "code",
      "source": [
        "sns.boxplot(data=organics_by_gosh, y = 'load_weight');"
      ],
      "metadata": {
        "colab": {
          "base_uri": "https://localhost:8080/",
          "height": 252
        },
        "id": "Jpbbjv4sSQ4Y",
        "outputId": "11715acd-d50f-4471-d56a-d6233dd477ba"
      },
      "execution_count": null,
      "outputs": [
        {
          "output_type": "display_data",
          "data": {
            "text/plain": [
              "<Figure size 432x288 with 1 Axes>"
            ],
            "image/png": "[encoded data removed]"
          },
          "metadata": {
            "needs_background": "light"
          }
        }
      ]
    },
    {
      "cell_type": "markdown",
      "source": [
        "We can see that in the new boxplot there is no longer a black dot above as before, because the black dot has been removed.\n",
        "\n",
        "From the boxplot, we want to see the data removed after the outliers are removed."
      ],
      "metadata": {
        "id": "UPbtfp2-jYSm"
      }
    },
    {
      "cell_type": "code",
      "source": [
        "organics_by_gosh.plot.hist(title='ORGANICS BY GOSH', color='lightblue', bins=25)  \n",
        "plt.axvline(organics_by_gosh['load_weight'].mean(), color='red', linestyle='dashed', linewidth=2)\n",
        "plt.axvline(organics_by_gosh['load_weight'].median(), color='green', linestyle='dashed', linewidth=2)\n",
        "plt.show()"
      ],
      "metadata": {
        "colab": {
          "base_uri": "https://localhost:8080/",
          "height": 281
        },
        "id": "GuOx0IJNSfaN",
        "outputId": "edd5935b-204c-421b-eff4-5e54773d1705"
      },
      "execution_count": null,
      "outputs": [
        {
          "output_type": "display_data",
          "data": {
            "text/plain": [
              "<Figure size 432x288 with 1 Axes>"
            ],
            "image/png": "[encoded data removed]"
          },
          "metadata": {
            "needs_background": "light"
          }
        }
      ]
    },
    {
      "cell_type": "markdown",
      "source": [
        "From the distribution data above, we can see that the distribution of data falls into the normal (Gaussian) category.\n",
        "\n",
        "Then we want to see the distribution of data that is already clear with the .skew() function."
      ],
      "metadata": {
        "id": "jZG-37q2kL-n"
      }
    },
    {
      "cell_type": "code",
      "source": [
        "organics_by_gosh['load_weight'].skew()"
      ],
      "metadata": {
        "colab": {
          "base_uri": "https://localhost:8080/"
        },
        "id": "a4j_RraRSuV8",
        "outputId": "b9e8174b-b5cd-45c0-cfac-6ea1d2a4a3a9"
      },
      "execution_count": null,
      "outputs": [
        {
          "output_type": "execute_result",
          "data": {
            "text/plain": [
              "0.011097796711244147"
            ]
          },
          "metadata": {},
          "execution_count": 42
        }
      ]
    },
    {
      "cell_type": "markdown",
      "source": [
        "Then we check again Central Tendecy (mean, median, mode)."
      ],
      "metadata": {
        "id": "yByj81WLlLt2"
      }
    },
    {
      "cell_type": "code",
      "source": [
        "organics_by_gosh['load_weight'].mean()"
      ],
      "metadata": {
        "colab": {
          "base_uri": "https://localhost:8080/"
        },
        "id": "mTOIsdbVS3Vo",
        "outputId": "a8b5f0f5-ed4e-4649-da49-0177cf984b4a"
      },
      "execution_count": null,
      "outputs": [
        {
          "output_type": "execute_result",
          "data": {
            "text/plain": [
              "11766.954236993213"
            ]
          },
          "metadata": {},
          "execution_count": 43
        }
      ]
    },
    {
      "cell_type": "code",
      "source": [
        "organics_by_gosh['load_weight'].median()"
      ],
      "metadata": {
        "colab": {
          "base_uri": "https://localhost:8080/"
        },
        "id": "nqDxaDGcS57I",
        "outputId": "e4ae4721-6aba-4155-933c-763733a297b0"
      },
      "execution_count": null,
      "outputs": [
        {
          "output_type": "execute_result",
          "data": {
            "text/plain": [
              "11880.0"
            ]
          },
          "metadata": {},
          "execution_count": 44
        }
      ]
    },
    {
      "cell_type": "code",
      "source": [
        "organics_by_gosh.apply(pd.Series.mode)"
      ],
      "metadata": {
        "colab": {
          "base_uri": "https://localhost:8080/",
          "height": 141
        },
        "id": "alm6EkSsS7tU",
        "outputId": "4168a196-2e88-43f4-85b3-e45055d55437"
      },
      "execution_count": null,
      "outputs": [
        {
          "output_type": "execute_result",
          "data": {
            "text/plain": [
              "  report_date load_type                       load_time  load_weight  \\\n",
              "0  2021-04-01  ORGANICS  2021-03-09 12:00:00.000000 UTC      14580.0   \n",
              "\n",
              "       dropoff_site  \n",
              "0  ORGANICS BY GOSH  "
            ],
            "text/html": [
              "\n",
              "  <div id=\"df-4b58bef1-70a7-46ac-9caa-bf6053f3d814\">\n",
              "    <div class=\"colab-df-container\">\n",
              "      <div>\n",
              "<style scoped>\n",
              "    .dataframe tbody tr th:only-of-type {\n",
              "        vertical-align: middle;\n",
              "    }\n",
              "\n",
              "    .dataframe tbody tr th {\n",
              "        vertical-align: top;\n",
              "    }\n",
              "\n",
              "    .dataframe thead th {\n",
              "        text-align: right;\n",
              "    }\n",
              "</style>\n",
              "<table border=\"1\" class=\"dataframe\">\n",
              "  <thead>\n",
              "    <tr style=\"text-align: right;\">\n",
              "      <th></th>\n",
              "      <th>report_date</th>\n",
              "      <th>load_type</th>\n",
              "      <th>load_time</th>\n",
              "      <th>load_weight</th>\n",
              "      <th>dropoff_site</th>\n",
              "    </tr>\n",
              "  </thead>\n",
              "  <tbody>\n",
              "    <tr>\n",
              "      <th>0</th>\n",
              "      <td>2021-04-01</td>\n",
              "      <td>ORGANICS</td>\n",
              "      <td>2021-03-09 12:00:00.000000 UTC</td>\n",
              "      <td>14580.0</td>\n",
              "      <td>ORGANICS BY GOSH</td>\n",
              "    </tr>\n",
              "  </tbody>\n",
              "</table>\n",
              "</div>\n",
              "      <button class=\"colab-df-convert\" onclick=\"convertToInteractive('df-4b58bef1-70a7-46ac-9caa-bf6053f3d814')\"\n",
              "              title=\"Convert this dataframe to an interactive table.\"\n",
              "              style=\"display:none;\">\n",
              "        \n",
              "  <svg xmlns=\"http://www.w3.org/2000/svg\" height=\"24px\"viewBox=\"0 0 24 24\"\n",
              "       width=\"24px\">\n",
              "    <path d=\"M0 0h24v24H0V0z\" fill=\"none\"/>\n",
              "    <path d=\"M18.56 5.44l.94 2.06.94-2.06 2.06-.94-2.06-.94-.94-2.06-.94 2.06-2.06.94zm-11 1L8.5 8.5l.94-2.06 2.06-.94-2.06-.94L8.5 2.5l-.94 2.06-2.06.94zm10 10l.94 2.06.94-2.06 2.06-.94-2.06-.94-.94-2.06-.94 2.06-2.06.94z\"/><path d=\"M17.41 7.96l-1.37-1.37c-.4-.4-.92-.59-1.43-.59-.52 0-1.04.2-1.43.59L10.3 9.45l-7.72 7.72c-.78.78-.78 2.05 0 2.83L4 21.41c.39.39.9.59 1.41.59.51 0 1.02-.2 1.41-.59l7.78-7.78 2.81-2.81c.8-.78.8-2.07 0-2.86zM5.41 20L4 18.59l7.72-7.72 1.47 1.35L5.41 20z\"/>\n",
              "  </svg>\n",
              "      </button>\n",
              "      \n",
              "  <style>\n",
              "    .colab-df-container {\n",
              "      display:flex;\n",
              "      flex-wrap:wrap;\n",
              "      gap: 12px;\n",
              "    }\n",
              "\n",
              "    .colab-df-convert {\n",
              "      background-color: #E8F0FE;\n",
              "      border: none;\n",
              "      border-radius: 50%;\n",
              "      cursor: pointer;\n",
              "      display: none;\n",
              "      fill: #1967D2;\n",
              "      height: 32px;\n",
              "      padding: 0 0 0 0;\n",
              "      width: 32px;\n",
              "    }\n",
              "\n",
              "    .colab-df-convert:hover {\n",
              "      background-color: #E2EBFA;\n",
              "      box-shadow: 0px 1px 2px rgba(60, 64, 67, 0.3), 0px 1px 3px 1px rgba(60, 64, 67, 0.15);\n",
              "      fill: #174EA6;\n",
              "    }\n",
              "\n",
              "    [theme=dark] .colab-df-convert {\n",
              "      background-color: #3B4455;\n",
              "      fill: #D2E3FC;\n",
              "    }\n",
              "\n",
              "    [theme=dark] .colab-df-convert:hover {\n",
              "      background-color: #434B5C;\n",
              "      box-shadow: 0px 1px 3px 1px rgba(0, 0, 0, 0.15);\n",
              "      filter: drop-shadow(0px 1px 2px rgba(0, 0, 0, 0.3));\n",
              "      fill: #FFFFFF;\n",
              "    }\n",
              "  </style>\n",
              "\n",
              "      <script>\n",
              "        const buttonEl =\n",
              "          document.querySelector('#df-4b58bef1-70a7-46ac-9caa-bf6053f3d814 button.colab-df-convert');\n",
              "        buttonEl.style.display =\n",
              "          google.colab.kernel.accessAllowed ? 'block' : 'none';\n",
              "\n",
              "        async function convertToInteractive(key) {\n",
              "          const element = document.querySelector('#df-4b58bef1-70a7-46ac-9caa-bf6053f3d814');\n",
              "          const dataTable =\n",
              "            await google.colab.kernel.invokeFunction('convertToInteractive',\n",
              "                                                     [key], {});\n",
              "          if (!dataTable) return;\n",
              "\n",
              "          const docLinkHtml = 'Like what you see? Visit the ' +\n",
              "            '<a target=\"_blank\" href=https://colab.research.google.com/notebooks/data_table.ipynb>data table notebook</a>'\n",
              "            + ' to learn more about interactive tables.';\n",
              "          element.innerHTML = '';\n",
              "          dataTable['output_type'] = 'display_data';\n",
              "          await google.colab.output.renderOutput(dataTable, element);\n",
              "          const docLink = document.createElement('div');\n",
              "          docLink.innerHTML = docLinkHtml;\n",
              "          element.appendChild(docLink);\n",
              "        }\n",
              "      </script>\n",
              "    </div>\n",
              "  </div>\n",
              "  "
            ]
          },
          "metadata": {},
          "execution_count": 45
        }
      ]
    },
    {
      "cell_type": "markdown",
      "source": [
        "We can see the new value after the outliers are issued."
      ],
      "metadata": {
        "id": "Tftab_PhlUnz"
      }
    },
    {
      "cell_type": "markdown",
      "source": [
        "#### New Site\n",
        "\n",
        "The government plans to build a new site, then they ask us to analyze and provide a nest regarding the new site that wants to be built to have what capacity.\n",
        "\n",
        "Previously we wanted to find out in advance whether the government needed a new site for ORGANICS type waste.\n",
        "\n",
        "The first step is to find the confidence interval, the point of the confidence interval is the range between two values which is a sample of the average values located between them.\n",
        "\n"
      ],
      "metadata": {
        "id": "4NVvvcSnbM25"
      }
    },
    {
      "cell_type": "code",
      "source": [
        "daily_input = organics_by_gosh[[\"report_date\",\"load_weight\"]].groupby(organics_by_gosh[\"report_date\"]).sum().sort_values(\"report_date\")\n",
        "confidence_interval = stats.norm.interval(0.90, daily_input.load_weight.mean(), daily_input.load_weight.std())\n",
        "confidence_interval"
      ],
      "metadata": {
        "colab": {
          "base_uri": "https://localhost:8080/"
        },
        "id": "A1zBrf6GS_P9",
        "outputId": "3b7804cf-8751-475f-9b25-b56972d23f60"
      },
      "execution_count": null,
      "outputs": [
        {
          "output_type": "execute_result",
          "data": {
            "text/plain": [
              "(32424.10534724529, 875289.800693023)"
            ]
          },
          "metadata": {},
          "execution_count": 46
        }
      ]
    },
    {
      "cell_type": "markdown",
      "source": [
        "After we have looked for confidence intervals on the ORGANICS BY GOSH site in a span of 6 months, if the government wants to build a new site for the ORGANICS library it is still in the safe category but at least the new site must have a capacity between 32424.10 - 875289.80 kg to get maximum efficiency results."
      ],
      "metadata": {
        "id": "i4YzPXdhflGZ"
      }
    },
    {
      "cell_type": "markdown",
      "source": [
        "### HYPOTHESIS TESTING\n",
        "\n",
        "Before we do the hypothesis test, we will take a new site that contributes also to the comparison. The site is ON ROUTE HIGH DUMP. Let's do the data cleaning first."
      ],
      "metadata": {
        "id": "ok8b-7gYEtZ8"
      }
    },
    {
      "cell_type": "markdown",
      "source": [
        "#### ON ROUTE HIGH DUMP\n",
        "\n",
        "We'll create a new variable on this site to our dataframe."
      ],
      "metadata": {
        "id": "eZaTna1zFbHM"
      }
    },
    {
      "cell_type": "code",
      "source": [
        "orhd = df.loc[df['dropoff_site']=='ON ROUTE HIGH DUMP']\n",
        "orhd"
      ],
      "metadata": {
        "id": "CxCo8QYEpa7v",
        "colab": {
          "base_uri": "https://localhost:8080/",
          "height": 633
        },
        "outputId": "4e5cd46a-f538-4bf4-a8c5-96b8e4ae5079"
      },
      "execution_count": null,
      "outputs": [
        {
          "output_type": "execute_result",
          "data": {
            "text/plain": [
              "      report_date load_type                       load_time  load_weight  \\\n",
              "1856   2021-01-14  SWEEPING  2021-01-14 10:35:00.000000 UTC          0.0   \n",
              "1857   2021-01-14  SWEEPING  2021-01-14 09:40:00.000000 UTC          0.0   \n",
              "2019   2021-01-15  SWEEPING  2021-01-15 10:00:00.000000 UTC          0.0   \n",
              "2228   2021-01-18  SWEEPING  2021-01-18 10:30:00.000000 UTC          0.0   \n",
              "2229   2021-01-18  SWEEPING  2021-01-18 09:00:00.000000 UTC          0.0   \n",
              "...           ...       ...                             ...          ...   \n",
              "24832  2021-06-28  SWEEPING  2021-06-28 10:10:00.000000 UTC          0.0   \n",
              "25004  2021-06-29  SWEEPING  2021-06-29 10:35:00.000000 UTC          0.0   \n",
              "25005  2021-06-29  SWEEPING  2021-06-29 09:45:00.000000 UTC          0.0   \n",
              "25359  2021-07-01  SWEEPING  2021-07-01 09:20:00.000000 UTC          0.0   \n",
              "25515  2021-07-02  SWEEPING  2021-07-02 10:45:00.000000 UTC          0.0   \n",
              "\n",
              "             dropoff_site  \n",
              "1856   ON ROUTE HIGH DUMP  \n",
              "1857   ON ROUTE HIGH DUMP  \n",
              "2019   ON ROUTE HIGH DUMP  \n",
              "2228   ON ROUTE HIGH DUMP  \n",
              "2229   ON ROUTE HIGH DUMP  \n",
              "...                   ...  \n",
              "24832  ON ROUTE HIGH DUMP  \n",
              "25004  ON ROUTE HIGH DUMP  \n",
              "25005  ON ROUTE HIGH DUMP  \n",
              "25359  ON ROUTE HIGH DUMP  \n",
              "25515  ON ROUTE HIGH DUMP  \n",
              "\n",
              "[81 rows x 5 columns]"
            ],
            "text/html": [
              "\n",
              "  <div id=\"df-21e176b0-0ec7-496f-a04d-b4a73b282df6\">\n",
              "    <div class=\"colab-df-container\">\n",
              "      <div>\n",
              "<style scoped>\n",
              "    .dataframe tbody tr th:only-of-type {\n",
              "        vertical-align: middle;\n",
              "    }\n",
              "\n",
              "    .dataframe tbody tr th {\n",
              "        vertical-align: top;\n",
              "    }\n",
              "\n",
              "    .dataframe thead th {\n",
              "        text-align: right;\n",
              "    }\n",
              "</style>\n",
              "<table border=\"1\" class=\"dataframe\">\n",
              "  <thead>\n",
              "    <tr style=\"text-align: right;\">\n",
              "      <th></th>\n",
              "      <th>report_date</th>\n",
              "      <th>load_type</th>\n",
              "      <th>load_time</th>\n",
              "      <th>load_weight</th>\n",
              "      <th>dropoff_site</th>\n",
              "    </tr>\n",
              "  </thead>\n",
              "  <tbody>\n",
              "    <tr>\n",
              "      <th>1856</th>\n",
              "      <td>2021-01-14</td>\n",
              "      <td>SWEEPING</td>\n",
              "      <td>2021-01-14 10:35:00.000000 UTC</td>\n",
              "      <td>0.0</td>\n",
              "      <td>ON ROUTE HIGH DUMP</td>\n",
              "    </tr>\n",
              "    <tr>\n",
              "      <th>1857</th>\n",
              "      <td>2021-01-14</td>\n",
              "      <td>SWEEPING</td>\n",
              "      <td>2021-01-14 09:40:00.000000 UTC</td>\n",
              "      <td>0.0</td>\n",
              "      <td>ON ROUTE HIGH DUMP</td>\n",
              "    </tr>\n",
              "    <tr>\n",
              "      <th>2019</th>\n",
              "      <td>2021-01-15</td>\n",
              "      <td>SWEEPING</td>\n",
              "      <td>2021-01-15 10:00:00.000000 UTC</td>\n",
              "      <td>0.0</td>\n",
              "      <td>ON ROUTE HIGH DUMP</td>\n",
              "    </tr>\n",
              "    <tr>\n",
              "      <th>2228</th>\n",
              "      <td>2021-01-18</td>\n",
              "      <td>SWEEPING</td>\n",
              "      <td>2021-01-18 10:30:00.000000 UTC</td>\n",
              "      <td>0.0</td>\n",
              "      <td>ON ROUTE HIGH DUMP</td>\n",
              "    </tr>\n",
              "    <tr>\n",
              "      <th>2229</th>\n",
              "      <td>2021-01-18</td>\n",
              "      <td>SWEEPING</td>\n",
              "      <td>2021-01-18 09:00:00.000000 UTC</td>\n",
              "      <td>0.0</td>\n",
              "      <td>ON ROUTE HIGH DUMP</td>\n",
              "    </tr>\n",
              "    <tr>\n",
              "      <th>...</th>\n",
              "      <td>...</td>\n",
              "      <td>...</td>\n",
              "      <td>...</td>\n",
              "      <td>...</td>\n",
              "      <td>...</td>\n",
              "    </tr>\n",
              "    <tr>\n",
              "      <th>24832</th>\n",
              "      <td>2021-06-28</td>\n",
              "      <td>SWEEPING</td>\n",
              "      <td>2021-06-28 10:10:00.000000 UTC</td>\n",
              "      <td>0.0</td>\n",
              "      <td>ON ROUTE HIGH DUMP</td>\n",
              "    </tr>\n",
              "    <tr>\n",
              "      <th>25004</th>\n",
              "      <td>2021-06-29</td>\n",
              "      <td>SWEEPING</td>\n",
              "      <td>2021-06-29 10:35:00.000000 UTC</td>\n",
              "      <td>0.0</td>\n",
              "      <td>ON ROUTE HIGH DUMP</td>\n",
              "    </tr>\n",
              "    <tr>\n",
              "      <th>25005</th>\n",
              "      <td>2021-06-29</td>\n",
              "      <td>SWEEPING</td>\n",
              "      <td>2021-06-29 09:45:00.000000 UTC</td>\n",
              "      <td>0.0</td>\n",
              "      <td>ON ROUTE HIGH DUMP</td>\n",
              "    </tr>\n",
              "    <tr>\n",
              "      <th>25359</th>\n",
              "      <td>2021-07-01</td>\n",
              "      <td>SWEEPING</td>\n",
              "      <td>2021-07-01 09:20:00.000000 UTC</td>\n",
              "      <td>0.0</td>\n",
              "      <td>ON ROUTE HIGH DUMP</td>\n",
              "    </tr>\n",
              "    <tr>\n",
              "      <th>25515</th>\n",
              "      <td>2021-07-02</td>\n",
              "      <td>SWEEPING</td>\n",
              "      <td>2021-07-02 10:45:00.000000 UTC</td>\n",
              "      <td>0.0</td>\n",
              "      <td>ON ROUTE HIGH DUMP</td>\n",
              "    </tr>\n",
              "  </tbody>\n",
              "</table>\n",
              "<p>81 rows × 5 columns</p>\n",
              "</div>\n",
              "      <button class=\"colab-df-convert\" onclick=\"convertToInteractive('df-21e176b0-0ec7-496f-a04d-b4a73b282df6')\"\n",
              "              title=\"Convert this dataframe to an interactive table.\"\n",
              "              style=\"display:none;\">\n",
              "        \n",
              "  <svg xmlns=\"http://www.w3.org/2000/svg\" height=\"24px\"viewBox=\"0 0 24 24\"\n",
              "       width=\"24px\">\n",
              "    <path d=\"M0 0h24v24H0V0z\" fill=\"none\"/>\n",
              "    <path d=\"M18.56 5.44l.94 2.06.94-2.06 2.06-.94-2.06-.94-.94-2.06-.94 2.06-2.06.94zm-11 1L8.5 8.5l.94-2.06 2.06-.94-2.06-.94L8.5 2.5l-.94 2.06-2.06.94zm10 10l.94 2.06.94-2.06 2.06-.94-2.06-.94-.94-2.06-.94 2.06-2.06.94z\"/><path d=\"M17.41 7.96l-1.37-1.37c-.4-.4-.92-.59-1.43-.59-.52 0-1.04.2-1.43.59L10.3 9.45l-7.72 7.72c-.78.78-.78 2.05 0 2.83L4 21.41c.39.39.9.59 1.41.59.51 0 1.02-.2 1.41-.59l7.78-7.78 2.81-2.81c.8-.78.8-2.07 0-2.86zM5.41 20L4 18.59l7.72-7.72 1.47 1.35L5.41 20z\"/>\n",
              "  </svg>\n",
              "      </button>\n",
              "      \n",
              "  <style>\n",
              "    .colab-df-container {\n",
              "      display:flex;\n",
              "      flex-wrap:wrap;\n",
              "      gap: 12px;\n",
              "    }\n",
              "\n",
              "    .colab-df-convert {\n",
              "      background-color: #E8F0FE;\n",
              "      border: none;\n",
              "      border-radius: 50%;\n",
              "      cursor: pointer;\n",
              "      display: none;\n",
              "      fill: #1967D2;\n",
              "      height: 32px;\n",
              "      padding: 0 0 0 0;\n",
              "      width: 32px;\n",
              "    }\n",
              "\n",
              "    .colab-df-convert:hover {\n",
              "      background-color: #E2EBFA;\n",
              "      box-shadow: 0px 1px 2px rgba(60, 64, 67, 0.3), 0px 1px 3px 1px rgba(60, 64, 67, 0.15);\n",
              "      fill: #174EA6;\n",
              "    }\n",
              "\n",
              "    [theme=dark] .colab-df-convert {\n",
              "      background-color: #3B4455;\n",
              "      fill: #D2E3FC;\n",
              "    }\n",
              "\n",
              "    [theme=dark] .colab-df-convert:hover {\n",
              "      background-color: #434B5C;\n",
              "      box-shadow: 0px 1px 3px 1px rgba(0, 0, 0, 0.15);\n",
              "      filter: drop-shadow(0px 1px 2px rgba(0, 0, 0, 0.3));\n",
              "      fill: #FFFFFF;\n",
              "    }\n",
              "  </style>\n",
              "\n",
              "      <script>\n",
              "        const buttonEl =\n",
              "          document.querySelector('#df-21e176b0-0ec7-496f-a04d-b4a73b282df6 button.colab-df-convert');\n",
              "        buttonEl.style.display =\n",
              "          google.colab.kernel.accessAllowed ? 'block' : 'none';\n",
              "\n",
              "        async function convertToInteractive(key) {\n",
              "          const element = document.querySelector('#df-21e176b0-0ec7-496f-a04d-b4a73b282df6');\n",
              "          const dataTable =\n",
              "            await google.colab.kernel.invokeFunction('convertToInteractive',\n",
              "                                                     [key], {});\n",
              "          if (!dataTable) return;\n",
              "\n",
              "          const docLinkHtml = 'Like what you see? Visit the ' +\n",
              "            '<a target=\"_blank\" href=https://colab.research.google.com/notebooks/data_table.ipynb>data table notebook</a>'\n",
              "            + ' to learn more about interactive tables.';\n",
              "          element.innerHTML = '';\n",
              "          dataTable['output_type'] = 'display_data';\n",
              "          await google.colab.output.renderOutput(dataTable, element);\n",
              "          const docLink = document.createElement('div');\n",
              "          docLink.innerHTML = docLinkHtml;\n",
              "          element.appendChild(docLink);\n",
              "        }\n",
              "      </script>\n",
              "    </div>\n",
              "  </div>\n",
              "  "
            ]
          },
          "metadata": {},
          "execution_count": 47
        }
      ]
    },
    {
      "cell_type": "markdown",
      "source": [
        "Let's see what type of garbage is on the ON ROUTE HIGH DUMP site."
      ],
      "metadata": {
        "id": "nUUroQqfln3C"
      }
    },
    {
      "cell_type": "code",
      "source": [
        "orhd['load_type'].value_counts()"
      ],
      "metadata": {
        "colab": {
          "base_uri": "https://localhost:8080/"
        },
        "id": "duWcC8hQF2bx",
        "outputId": "1762f5c5-764d-48a7-c7f0-8dd3469bd595"
      },
      "execution_count": null,
      "outputs": [
        {
          "output_type": "execute_result",
          "data": {
            "text/plain": [
              "SWEEPING    74\n",
              "ORGANICS     7\n",
              "Name: load_type, dtype: int64"
            ]
          },
          "metadata": {},
          "execution_count": 48
        }
      ]
    },
    {
      "cell_type": "markdown",
      "source": [
        "After we see, there is a type of ORGANICS waste, so we will choose ORGANICS waste for us to do further analysis. \n",
        "\n",
        "Then we check how much the total ORGANICS garbage data is on the ON ROUTE HIGH DUMP site."
      ],
      "metadata": {
        "id": "ELuiWRwal0fe"
      }
    },
    {
      "cell_type": "code",
      "source": [
        "orhd_organics = orhd.loc[orhd['load_type']== 'ORGANICS']"
      ],
      "metadata": {
        "id": "QxyhNeqsF-XF"
      },
      "execution_count": null,
      "outputs": []
    },
    {
      "cell_type": "code",
      "source": [
        "orhd_organics.value_counts().sum()"
      ],
      "metadata": {
        "colab": {
          "base_uri": "https://localhost:8080/"
        },
        "id": "X-ZzfoIgGIWs",
        "outputId": "2de008f8-b3f0-4413-b82a-d7fcffd6cd54"
      },
      "execution_count": null,
      "outputs": [
        {
          "output_type": "execute_result",
          "data": {
            "text/plain": [
              "7"
            ]
          },
          "metadata": {},
          "execution_count": 50
        }
      ]
    },
    {
      "cell_type": "markdown",
      "source": [
        "See there are 7 data on ON ROUTE HIGH DUMP. Then we look for Central Tendency (mean, median, mode) on this site."
      ],
      "metadata": {
        "id": "J6zV0q4emKXe"
      }
    },
    {
      "cell_type": "code",
      "source": [
        "orhd_organics_mean = orhd_organics['load_weight'].mean()\n",
        "orhd_organics_mean"
      ],
      "metadata": {
        "colab": {
          "base_uri": "https://localhost:8080/"
        },
        "id": "xv1Kh8mFGe5z",
        "outputId": "9a1ee9df-0810-4c4b-e9f1-8cfff82b2591"
      },
      "execution_count": null,
      "outputs": [
        {
          "output_type": "execute_result",
          "data": {
            "text/plain": [
              "12525.714285714286"
            ]
          },
          "metadata": {},
          "execution_count": 51
        }
      ]
    },
    {
      "cell_type": "code",
      "source": [
        "orhd_organics_median = orhd_organics['load_weight'].median()\n",
        "orhd_organics_median"
      ],
      "metadata": {
        "colab": {
          "base_uri": "https://localhost:8080/"
        },
        "id": "MdCRiuHeHQhg",
        "outputId": "efc57755-1186-44eb-b38f-8422ef3f60c6"
      },
      "execution_count": null,
      "outputs": [
        {
          "output_type": "execute_result",
          "data": {
            "text/plain": [
              "14940.0"
            ]
          },
          "metadata": {},
          "execution_count": 52
        }
      ]
    },
    {
      "cell_type": "code",
      "source": [
        "orhd_organics_mode = orhd_organics['load_weight'].mode()[0]\n",
        "orhd_organics_mode"
      ],
      "metadata": {
        "colab": {
          "base_uri": "https://localhost:8080/"
        },
        "id": "4k2bm8DbHQIL",
        "outputId": "27f1ec74-f1a0-4d39-a4a3-8cb8f18edef0"
      },
      "execution_count": null,
      "outputs": [
        {
          "output_type": "execute_result",
          "data": {
            "text/plain": [
              "4060.0"
            ]
          },
          "metadata": {},
          "execution_count": 53
        }
      ]
    },
    {
      "cell_type": "markdown",
      "source": [
        "Then we look at the variance and standard deviation."
      ],
      "metadata": {
        "id": "e7eFOtbgmYfR"
      }
    },
    {
      "cell_type": "code",
      "source": [
        "orhd_organics_var = orhd_organics['load_weight'].var()\n",
        "orhd_organics_var"
      ],
      "metadata": {
        "colab": {
          "base_uri": "https://localhost:8080/"
        },
        "id": "ccuX4pPoHP-X",
        "outputId": "b511de8b-c957-41ba-9d83-0699ce64fad9"
      },
      "execution_count": null,
      "outputs": [
        {
          "output_type": "execute_result",
          "data": {
            "text/plain": [
              "25274361.904761907"
            ]
          },
          "metadata": {},
          "execution_count": 54
        }
      ]
    },
    {
      "cell_type": "code",
      "source": [
        "orhd_organics_std = orhd_organics['load_weight'].std()\n",
        "orhd_organics_std"
      ],
      "metadata": {
        "colab": {
          "base_uri": "https://localhost:8080/"
        },
        "id": "5nWhBfErHlSE",
        "outputId": "27e437cb-82e1-4d56-e551-2da7252f39c2"
      },
      "execution_count": null,
      "outputs": [
        {
          "output_type": "execute_result",
          "data": {
            "text/plain": [
              "5027.361326258727"
            ]
          },
          "metadata": {},
          "execution_count": 55
        }
      ]
    },
    {
      "cell_type": "markdown",
      "source": [
        "Then we display it visually with the entire dataframe."
      ],
      "metadata": {
        "id": "DgpSkwoKni4c"
      }
    },
    {
      "cell_type": "code",
      "source": [
        "orhd_organics.plot.hist(title='ORGANICS - ON ROUTE HIGH DUMP Distribution', color='lightblue', bins=25)  \n",
        "plt.axvline(orhd_organics['load_weight'].mean(), color='red', linestyle='dashed', linewidth=2)\n",
        "plt.axvline(orhd_organics['load_weight'].median(), color='green', linestyle='dashed', linewidth=2)\n",
        "plt.show()"
      ],
      "metadata": {
        "colab": {
          "base_uri": "https://localhost:8080/",
          "height": 281
        },
        "id": "gEDeZMItHlFU",
        "outputId": "0abc8697-0190-4541-d9db-69252abe8b1d"
      },
      "execution_count": null,
      "outputs": [
        {
          "output_type": "display_data",
          "data": {
            "text/plain": [
              "<Figure size 432x288 with 1 Axes>"
            ],
            "image/png": "[encoded data removed]"
          },
          "metadata": {
            "needs_background": "light"
          }
        }
      ]
    },
    {
      "cell_type": "markdown",
      "source": [
        "We can see, the distribution of data is abnormal (skew). We'll check through .skew()."
      ],
      "metadata": {
        "id": "J4lG53lQosAh"
      }
    },
    {
      "cell_type": "code",
      "source": [
        "orhd_organics['load_weight'].skew()"
      ],
      "metadata": {
        "colab": {
          "base_uri": "https://localhost:8080/"
        },
        "id": "6TLCDPQhIdzy",
        "outputId": "d3746ee6-33c3-4ee5-debe-97726464a890"
      },
      "execution_count": null,
      "outputs": [
        {
          "output_type": "execute_result",
          "data": {
            "text/plain": [
              "-0.8761440212302224"
            ]
          },
          "metadata": {},
          "execution_count": 57
        }
      ]
    },
    {
      "cell_type": "markdown",
      "source": [
        "And the result is negative, meaning that the data goes to the left skew. Then we enter the boxplot to see if there are data outliers or not."
      ],
      "metadata": {
        "id": "fTbF6i-jo1W8"
      }
    },
    {
      "cell_type": "code",
      "source": [
        "sns.boxplot(data = orhd_organics, y = 'load_weight');"
      ],
      "metadata": {
        "colab": {
          "base_uri": "https://localhost:8080/",
          "height": 252
        },
        "id": "dWSKYapoIdhn",
        "outputId": "b1d40ef6-a454-437f-b256-310ae2470417"
      },
      "execution_count": null,
      "outputs": [
        {
          "output_type": "display_data",
          "data": {
            "text/plain": [
              "<Figure size 432x288 with 1 Axes>"
            ],
            "image/png": "[encoded data removed]"
          },
          "metadata": {
            "needs_background": "light"
          }
        }
      ]
    },
    {
      "cell_type": "markdown",
      "source": [
        "From the boxplot above, we don't see any data outliers, so we can continue to look for standard deviation, variance, and range at both sites."
      ],
      "metadata": {
        "id": "57Msc_ixpEz3"
      }
    },
    {
      "cell_type": "code",
      "source": [
        "#standard deviation of ORGANICS BY GOSH ANOD ON ROUTE HIDH DUMP\n",
        "organics_by_gosh_std = organics_by_gosh['load_weight'].std()\n",
        "print(organics_by_gosh_std, '', orhd_organics_std)"
      ],
      "metadata": {
        "colab": {
          "base_uri": "https://localhost:8080/"
        },
        "id": "0eEuRY5_Ktqo",
        "outputId": "c4fd2747-bf2a-4cde-a706-169a4b6a711f"
      },
      "execution_count": null,
      "outputs": [
        {
          "output_type": "stream",
          "name": "stdout",
          "text": [
            "5064.661721453956  5027.361326258727\n"
          ]
        }
      ]
    },
    {
      "cell_type": "code",
      "source": [
        "#variance of ORGANICS BY GOSH ANOD ON ROUTE HIDH DUMP\n",
        "organics_by_gosh_var = organics_by_gosh['load_weight'].var()\n",
        "print(organics_by_gosh_var, '', orhd_organics_var)"
      ],
      "metadata": {
        "colab": {
          "base_uri": "https://localhost:8080/"
        },
        "id": "QnGITjPTLEf6",
        "outputId": "f16a4dfd-0e38-4da5-b6d0-84337e3ba44d"
      },
      "execution_count": null,
      "outputs": [
        {
          "output_type": "stream",
          "name": "stdout",
          "text": [
            "25650798.35276094  25274361.904761907\n"
          ]
        }
      ]
    },
    {
      "cell_type": "code",
      "source": [
        "#range of ORGANICS BY GOSH ANOD ON ROUTE HIDH DUMP\n",
        "organics_by_gosh_range = organics_by_gosh['load_weight'].max() - organics_by_gosh['load_weight'].min()\n",
        "orhd_organics_range = orhd_organics['load_weight'].max() - orhd_organics['load_weight'].min()\n",
        "print(organics_by_gosh_range, '', orhd_organics_range)\n"
      ],
      "metadata": {
        "colab": {
          "base_uri": "https://localhost:8080/"
        },
        "id": "UrfixPWXLEWR",
        "outputId": "3a302f7d-a08e-4e6c-e9a1-dcc2cbc05896"
      },
      "execution_count": null,
      "outputs": [
        {
          "output_type": "stream",
          "name": "stdout",
          "text": [
            "26400.0  14400.0\n"
          ]
        }
      ]
    },
    {
      "cell_type": "markdown",
      "source": [
        "Then we enter the hypothesis test.\n",
        "\n",
        "We use 2 samples and 2 tails:\n",
        "\n",
        "H0 : μ ORGANICS BY GOSH LOAD WEIGHT = μ ON ROUTE HIGH DUMP LOAD WEIGHT\n",
        "\n",
        "H1 : μ ORGANICS BY GOSH LOAD WEIGHT != μ ON ROUTE HIGH DUMP LOAD WEIGHT\n",
        "\n",
        "In this case, we will see if the site load_weight ORGANICS BY GOSH and site ON ROUTE HIDH DUMP are significantly different or not.\n",
        "\n",
        "After that we do a t-test on both sites."
      ],
      "metadata": {
        "id": "ZDzkHsvqpU3w"
      }
    },
    {
      "cell_type": "code",
      "source": [
        "# t-test\n",
        "t_stat, p_val = stats.ttest_ind(organics_by_gosh['load_weight'], orhd_organics['load_weight'])\n",
        "print('P-value:',p_val)\n",
        "print('t-statistics:',t_stat)"
      ],
      "metadata": {
        "colab": {
          "base_uri": "https://localhost:8080/"
        },
        "id": "feqIOZDPNcXy",
        "outputId": "707d411d-5c00-4bf5-89d1-28f7e3304b3b"
      },
      "execution_count": null,
      "outputs": [
        {
          "output_type": "stream",
          "name": "stdout",
          "text": [
            "P-value: 0.6920209330773515\n",
            "t-statistics: -0.3961339152610035\n"
          ]
        }
      ]
    },
    {
      "cell_type": "markdown",
      "source": [
        "After we get the P-Value, we will display a visual whether H1 reject H0 or H1 fails to reject H0."
      ],
      "metadata": {
        "id": "fJDGrsz6qPmG"
      }
    },
    {
      "cell_type": "code",
      "source": [
        "# simulation\n",
        "organics_by_gosh_pop = np.random.normal(organics_by_gosh['load_weight'].mean(),organics_by_gosh['load_weight'].std(),10000)\n",
        "orhd_pop = np.random.normal(orhd_organics['load_weight'].mean(),orhd_organics['load_weight'].std(),10000)\n",
        "\n",
        "# confidence interval based on ORGANICS BY GOSH\n",
        "confidence_interval = stats.norm.interval(0.95, organics_by_gosh['load_weight'].mean(), organics_by_gosh['load_weight'].std())\n",
        "\n",
        "plt.figure(figsize=(16,5))\n",
        "sns.histplot(organics_by_gosh_pop, label='ORGANICS BY GOSH (POP)',color='blue')\n",
        "sns.histplot(orhd_pop, label='ON ROUTE HIGH DUMP (POP)',color='red')\n",
        "\n",
        "# mean\n",
        "plt.axvline(organics_by_gosh['load_weight'].mean(), color='yellow', linewidth=2, label='ORGANICS BY GOSH load weight mean')\n",
        "plt.axvline(orhd_organics['load_weight'].mean(), color='magenta',  linewidth=2, label='ON ROUTE HIDH DUMP load weight mean')\n",
        "\n",
        "plt.axvline(confidence_interval[1], color='green', linestyle='dashed', linewidth=2, label='confidence threshold of 95%')\n",
        "plt.axvline(confidence_interval[0], color='green', linestyle='dashed', linewidth=2, label='confidence threshold of 95%')\n",
        "\n",
        "# alternative hypotesis\n",
        "plt.axvline(organics_by_gosh_pop.mean()+t_stat*organics_by_gosh_pop.std(), color='black', linestyle='dashed', linewidth=2, label = 'Alternative Hypothesis')\n",
        "plt.axvline(orhd_pop.mean()-t_stat*organics_by_gosh_pop.std(), color='black', linestyle='dashed', linewidth=2)\n",
        "\n",
        "plt.legend()\n",
        "print(confidence_interval[0])\n",
        "print(confidence_interval[1])"
      ],
      "metadata": {
        "colab": {
          "base_uri": "https://localhost:8080/",
          "height": 252
        },
        "id": "Zy0EXXseNcIn",
        "outputId": "be2df5f5-0a3d-43e1-ee75-9ff686a9206a"
      },
      "execution_count": null,
      "outputs": [
        {
          "output_type": "stream",
          "name": "stdout",
          "text": [
            "1840.3996690648291\n",
            "21693.5088049216\n"
          ]
        },
        {
          "output_type": "display_data",
          "data": {
            "text/plain": [
              "<Figure size 1152x360 with 1 Axes>"
            ],
            "image/png": "[encoded data removed]"
          },
          "metadata": {
            "needs_background": "light"
          }
        }
      ]
    },
    {
      "cell_type": "markdown",
      "source": [
        "From the T-Test above, we can see that we failed to reject H0 with the meaning ORGANICS BY GOSH equal to ON ROUTE HIGH DUMP. We can see in the black line being inside of the confidence interval. So for recommendations for creating a new site, it is less applicable using analysis like this."
      ],
      "metadata": {
        "id": "2S-9TjztqpBk"
      }
    },
    {
      "cell_type": "markdown",
      "source": [
        "#### Questions\n",
        "\n",
        "1. We use the z score technique. Because our data is normal distribution so we do z score. However, the ON ROUTE HIGH DUMP site is a left skew data, so we do tukey's test.\n",
        "2. Confidence Interval is used to find accuracy in our data, for example we do on ORGANICS BY GOSH to find the average. The concept is that if our hypothesis lies in the confidence interval then the HO fails to be rejected, on the contrary if our hypothesis is outside of the confidence interval then the HO is rejected.\n",
        "3. I applied the hypothesis test of 2 samples 2 tailed, because we will compare other sites in the sense that there is a significant difference or not, and test with the T-Test. What we take is the ORGANICS BY GOSH and ON ROUTE HIGH DUMP sites because both sites hold the largest ORGANICS waste load when we search for site data with the ORGANICS waste category."
      ],
      "metadata": {
        "id": "FVJIU4FMsTn3"
      }
    },
    {
      "cell_type": "markdown",
      "source": [
        "#### Problem 2 (Math/Calculus)"
      ],
      "metadata": {
        "id": "DPaIhScpj04J"
      }
    },
    {
      "cell_type": "markdown",
      "source": [
        "First we'll group the report_date and load_weight on the dataframe."
      ],
      "metadata": {
        "id": "GoRjcaoyj7ji"
      }
    },
    {
      "cell_type": "code",
      "source": [
        "df1 = df.groupby('report_date')['load_weight'].sum().to_frame()\n",
        "df1"
      ],
      "metadata": {
        "colab": {
          "base_uri": "https://localhost:8080/",
          "height": 450
        },
        "id": "joHrmxlvcyJJ",
        "outputId": "9483361c-6377-4b99-af62-e270fa8cd623"
      },
      "execution_count": null,
      "outputs": [
        {
          "output_type": "execute_result",
          "data": {
            "text/plain": [
              "             load_weight\n",
              "report_date             \n",
              "2021-01-01           0.0\n",
              "2021-01-02     2170130.0\n",
              "2021-01-04     2920260.0\n",
              "2021-01-05     2388540.0\n",
              "2021-01-06     2396550.0\n",
              "...                  ...\n",
              "2021-07-05     1897290.0\n",
              "2021-07-06     1921640.0\n",
              "2021-07-07     1553080.0\n",
              "2021-07-08     1417650.0\n",
              "2021-07-09      120340.0\n",
              "\n",
              "[166 rows x 1 columns]"
            ],
            "text/html": [
              "\n",
              "  <div id=\"df-22105f55-9d39-4b35-9dfa-4d87b5d2c53e\">\n",
              "    <div class=\"colab-df-container\">\n",
              "      <div>\n",
              "<style scoped>\n",
              "    .dataframe tbody tr th:only-of-type {\n",
              "        vertical-align: middle;\n",
              "    }\n",
              "\n",
              "    .dataframe tbody tr th {\n",
              "        vertical-align: top;\n",
              "    }\n",
              "\n",
              "    .dataframe thead th {\n",
              "        text-align: right;\n",
              "    }\n",
              "</style>\n",
              "<table border=\"1\" class=\"dataframe\">\n",
              "  <thead>\n",
              "    <tr style=\"text-align: right;\">\n",
              "      <th></th>\n",
              "      <th>load_weight</th>\n",
              "    </tr>\n",
              "    <tr>\n",
              "      <th>report_date</th>\n",
              "      <th></th>\n",
              "    </tr>\n",
              "  </thead>\n",
              "  <tbody>\n",
              "    <tr>\n",
              "      <th>2021-01-01</th>\n",
              "      <td>0.0</td>\n",
              "    </tr>\n",
              "    <tr>\n",
              "      <th>2021-01-02</th>\n",
              "      <td>2170130.0</td>\n",
              "    </tr>\n",
              "    <tr>\n",
              "      <th>2021-01-04</th>\n",
              "      <td>2920260.0</td>\n",
              "    </tr>\n",
              "    <tr>\n",
              "      <th>2021-01-05</th>\n",
              "      <td>2388540.0</td>\n",
              "    </tr>\n",
              "    <tr>\n",
              "      <th>2021-01-06</th>\n",
              "      <td>2396550.0</td>\n",
              "    </tr>\n",
              "    <tr>\n",
              "      <th>...</th>\n",
              "      <td>...</td>\n",
              "    </tr>\n",
              "    <tr>\n",
              "      <th>2021-07-05</th>\n",
              "      <td>1897290.0</td>\n",
              "    </tr>\n",
              "    <tr>\n",
              "      <th>2021-07-06</th>\n",
              "      <td>1921640.0</td>\n",
              "    </tr>\n",
              "    <tr>\n",
              "      <th>2021-07-07</th>\n",
              "      <td>1553080.0</td>\n",
              "    </tr>\n",
              "    <tr>\n",
              "      <th>2021-07-08</th>\n",
              "      <td>1417650.0</td>\n",
              "    </tr>\n",
              "    <tr>\n",
              "      <th>2021-07-09</th>\n",
              "      <td>120340.0</td>\n",
              "    </tr>\n",
              "  </tbody>\n",
              "</table>\n",
              "<p>166 rows × 1 columns</p>\n",
              "</div>\n",
              "      <button class=\"colab-df-convert\" onclick=\"convertToInteractive('df-22105f55-9d39-4b35-9dfa-4d87b5d2c53e')\"\n",
              "              title=\"Convert this dataframe to an interactive table.\"\n",
              "              style=\"display:none;\">\n",
              "        \n",
              "  <svg xmlns=\"http://www.w3.org/2000/svg\" height=\"24px\"viewBox=\"0 0 24 24\"\n",
              "       width=\"24px\">\n",
              "    <path d=\"M0 0h24v24H0V0z\" fill=\"none\"/>\n",
              "    <path d=\"M18.56 5.44l.94 2.06.94-2.06 2.06-.94-2.06-.94-.94-2.06-.94 2.06-2.06.94zm-11 1L8.5 8.5l.94-2.06 2.06-.94-2.06-.94L8.5 2.5l-.94 2.06-2.06.94zm10 10l.94 2.06.94-2.06 2.06-.94-2.06-.94-.94-2.06-.94 2.06-2.06.94z\"/><path d=\"M17.41 7.96l-1.37-1.37c-.4-.4-.92-.59-1.43-.59-.52 0-1.04.2-1.43.59L10.3 9.45l-7.72 7.72c-.78.78-.78 2.05 0 2.83L4 21.41c.39.39.9.59 1.41.59.51 0 1.02-.2 1.41-.59l7.78-7.78 2.81-2.81c.8-.78.8-2.07 0-2.86zM5.41 20L4 18.59l7.72-7.72 1.47 1.35L5.41 20z\"/>\n",
              "  </svg>\n",
              "      </button>\n",
              "      \n",
              "  <style>\n",
              "    .colab-df-container {\n",
              "      display:flex;\n",
              "      flex-wrap:wrap;\n",
              "      gap: 12px;\n",
              "    }\n",
              "\n",
              "    .colab-df-convert {\n",
              "      background-color: #E8F0FE;\n",
              "      border: none;\n",
              "      border-radius: 50%;\n",
              "      cursor: pointer;\n",
              "      display: none;\n",
              "      fill: #1967D2;\n",
              "      height: 32px;\n",
              "      padding: 0 0 0 0;\n",
              "      width: 32px;\n",
              "    }\n",
              "\n",
              "    .colab-df-convert:hover {\n",
              "      background-color: #E2EBFA;\n",
              "      box-shadow: 0px 1px 2px rgba(60, 64, 67, 0.3), 0px 1px 3px 1px rgba(60, 64, 67, 0.15);\n",
              "      fill: #174EA6;\n",
              "    }\n",
              "\n",
              "    [theme=dark] .colab-df-convert {\n",
              "      background-color: #3B4455;\n",
              "      fill: #D2E3FC;\n",
              "    }\n",
              "\n",
              "    [theme=dark] .colab-df-convert:hover {\n",
              "      background-color: #434B5C;\n",
              "      box-shadow: 0px 1px 3px 1px rgba(0, 0, 0, 0.15);\n",
              "      filter: drop-shadow(0px 1px 2px rgba(0, 0, 0, 0.3));\n",
              "      fill: #FFFFFF;\n",
              "    }\n",
              "  </style>\n",
              "\n",
              "      <script>\n",
              "        const buttonEl =\n",
              "          document.querySelector('#df-22105f55-9d39-4b35-9dfa-4d87b5d2c53e button.colab-df-convert');\n",
              "        buttonEl.style.display =\n",
              "          google.colab.kernel.accessAllowed ? 'block' : 'none';\n",
              "\n",
              "        async function convertToInteractive(key) {\n",
              "          const element = document.querySelector('#df-22105f55-9d39-4b35-9dfa-4d87b5d2c53e');\n",
              "          const dataTable =\n",
              "            await google.colab.kernel.invokeFunction('convertToInteractive',\n",
              "                                                     [key], {});\n",
              "          if (!dataTable) return;\n",
              "\n",
              "          const docLinkHtml = 'Like what you see? Visit the ' +\n",
              "            '<a target=\"_blank\" href=https://colab.research.google.com/notebooks/data_table.ipynb>data table notebook</a>'\n",
              "            + ' to learn more about interactive tables.';\n",
              "          element.innerHTML = '';\n",
              "          dataTable['output_type'] = 'display_data';\n",
              "          await google.colab.output.renderOutput(dataTable, element);\n",
              "          const docLink = document.createElement('div');\n",
              "          docLink.innerHTML = docLinkHtml;\n",
              "          element.appendChild(docLink);\n",
              "        }\n",
              "      </script>\n",
              "    </div>\n",
              "  </div>\n",
              "  "
            ]
          },
          "metadata": {},
          "execution_count": 41
        }
      ]
    },
    {
      "cell_type": "markdown",
      "source": [
        "Then we will define the variable, from that variable we will calculate the data differential we then multiply it with the data range differential."
      ],
      "metadata": {
        "id": "g4QYqu2Bkn8x"
      }
    },
    {
      "cell_type": "code",
      "source": [
        "v = np.diff(df1['load_weight'])/np.diff(range(166))"
      ],
      "metadata": {
        "id": "nohDZcHBkNHr"
      },
      "execution_count": null,
      "outputs": []
    },
    {
      "cell_type": "markdown",
      "source": [
        "Then we calculate the estimated weight of tomorrow with the formula below:"
      ],
      "metadata": {
        "id": "QRz3KrZ7lIDk"
      }
    },
    {
      "cell_type": "code",
      "source": [
        "load_weight_tommorow = df1['load_weight'][-1] + v[-1]*1\n",
        "abs(load_weight_tommorow)"
      ],
      "metadata": {
        "colab": {
          "base_uri": "https://localhost:8080/"
        },
        "id": "YdK7rLypktKQ",
        "outputId": "3db17039-0356-4f56-a5a5-868878eccc9e"
      },
      "execution_count": null,
      "outputs": [
        {
          "output_type": "execute_result",
          "data": {
            "text/plain": [
              "1176970.0"
            ]
          },
          "metadata": {},
          "execution_count": 46
        }
      ]
    },
    {
      "cell_type": "markdown",
      "source": [
        "With the above results, we can predict the load weight for July 10, 2021 with a weight of 1176970.0 kg"
      ],
      "metadata": {
        "id": "oA6nbO3MlXxf"
      }
    },
    {
      "cell_type": "markdown",
      "source": [
        "#### Questions\n",
        "\n",
        "1. I use the numeric method in the numpy library by using the .diff() function\n",
        "2. Yes, we need mathematical functions. With the given formula we can calculate by inputting the data value from us. That way we can calculate the differential in the data so that we can use it to predict the weight of tomorrow's waste load.\n",
        "3. The estimated weight tomorrow (July 10, 2021) is 1176970.0 kg"
      ],
      "metadata": {
        "id": "95T5FlzjlrMw"
      }
    },
    {
      "cell_type": "markdown",
      "source": [
        "## Conclusion\n",
        "\n",
        "We can know that the waste distribution in the city of Austin is not well distributed, because we can see a lot of missing data with the meaning that the distribution to the site is uneven. Because it is uneven, there is a buildup of garbage at certain sites which can cause problems in the future. Therefore, we must equalize the distribution of waste so that waste can be managed properly and there are no problems in the future."
      ],
      "metadata": {
        "id": "pBNgOfKxmwu9"
      }
    }
  ]
}
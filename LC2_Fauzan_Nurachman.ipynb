{
  "nbformat": 4,
  "nbformat_minor": 0,
  "metadata": {
    "colab": {
      "provenance": []
    },
    "kernelspec": {
      "name": "python3",
      "display_name": "Python 3"
    },
    "language_info": {
      "name": "python"
    }
  },
  "cells": [
    {
      "cell_type": "markdown",
      "source": [
        "# 1. Perkenalan\n",
        "\n",
        "Halo, nama saya Fauzan Nurachman atau bisa dipanggil Ojan dari batch FTDS 003"
      ],
      "metadata": {
        "id": "TIvfdJCmKqVK"
      }
    },
    {
      "cell_type": "markdown",
      "source": [
        "# Problems\n",
        "\n",
        "### Problem 1\n",
        "\n",
        "a. Apakah kedua kalimat memiliki konteks yang serupa? jika iya, mengapa dan jika tidak, mengapa (jawab berdasarkan hasil perhitungan cosine similaritynya)?\n",
        "\n",
        "b. Jika meninjau dua buah vektor dan dihitung cosine similaritynya (cos theta), jelaskan secara singkat, jelas, padat apa makna cosine similarity yang bernilai 0 dan 1 (tinjau dari posisi dua vektor di koordinat kartesian)?\n",
        "\n",
        "c. Mengapa cosine similarity harus melibatkan vektor bukan matriks?\n",
        "\n",
        "### Problem 2\n",
        "\n",
        "1. Berapa rata-rata, median, dan modus dari data tersebut sebelum dihilangkan outliernya? Bagaimana kecerendungan pemusatan datanya? jelaskan jawabanmu!\n",
        "2. Sebelum melakukan extreme value analysis, kamu harus melakukan pengecekan skewness dari distribusi datanya. Apakah datanya skew atau normal? jelaskan jawabanmu!\n",
        "3. Ada dua teknik untuk melakukan extreme value analysis, teknik yang mana yang kamu pakai? berikan alasanmu berdasarkan data!"
      ],
      "metadata": {
        "id": "WGmWTK-OK3Af"
      }
    },
    {
      "cell_type": "markdown",
      "source": [
        "# 3. Import pustaka yang dibutuhkan\n",
        "\n",
        "Kita akan menggunakan import file numpy, pandas, matplotlib, scipy, dan seaborn."
      ],
      "metadata": {
        "id": "Mc4x_VARLMKc"
      }
    },
    {
      "cell_type": "code",
      "execution_count": 42,
      "metadata": {
        "id": "P8Kew8DRJriW"
      },
      "outputs": [],
      "source": [
        "import pandas as pd\n",
        "import matplotlib.pyplot as plt\n",
        "import scipy.stats as stats\n",
        "import seaborn as sns\n",
        "import numpy as np"
      ]
    },
    {
      "cell_type": "markdown",
      "source": [
        "# 4. Data Loading"
      ],
      "metadata": {
        "id": "50QjekvyLlZJ"
      }
    },
    {
      "cell_type": "markdown",
      "source": [
        "### Problem 1\n",
        "\n",
        "Kita akan buat terlebih dahulu vektor yang nantinya kita olah menjadi data."
      ],
      "metadata": {
        "id": "3jUsThuhLr-a"
      }
    },
    {
      "cell_type": "code",
      "source": [
        "# Kalimat 1: Julie loves me more than Linda loves me\n",
        "# Kalimat 2: Jane likes me more than Julie loves me\n",
        "\n",
        "kalimat_1 = np.array([2, 0, 1, 1, 0, 2, 1, 1])\n",
        "kalimat_2 = np.array([2, 1, 1, 0, 1, 1, 1, 1])\n",
        "\n",
        "dot_product = kalimat_1 @ kalimat_2\n",
        "cosine_sim = dot_product/(np.linalg.norm(kalimat_1) * np.linalg.norm(kalimat_2))\n",
        "\n",
        "print('Dot Product:',dot_product)\n",
        "print('Cosine Similarity:',cosine_sim)"
      ],
      "metadata": {
        "colab": {
          "base_uri": "https://localhost:8080/"
        },
        "id": "qvPaKj6cLlCs",
        "outputId": "5cb97aa5-fd4b-4119-97df-b3741b48f494"
      },
      "execution_count": 43,
      "outputs": [
        {
          "output_type": "stream",
          "name": "stdout",
          "text": [
            "Dot Product: 9\n",
            "Cosine Similarity: 0.8215838362577491\n"
          ]
        }
      ]
    },
    {
      "cell_type": "markdown",
      "source": [
        "### 5. Mathematical Calculation"
      ],
      "metadata": {
        "id": "1axq_3HWhjgO"
      }
    },
    {
      "cell_type": "markdown",
      "source": [
        "a. Apakah kedua kalimat memiliki konteks yang serupa? jika iya, mengapa dan jika tidak, mengapa (jawab berdasarkan hasil perhitungan cosine similaritynya)?\n",
        "\n",
        "iya, karena kita dapat lihat hasil cosine similarity mencapai 82% yang berarti kalimat 1 dengan kalimat 2 hampir memiliki kesamaan / kemiripan sebanyak 82%. Semakin mendekati 1 / 100%, semakin mirip antar kalimat tersebut."
      ],
      "metadata": {
        "id": "xZOx17T_Nkim"
      }
    },
    {
      "cell_type": "markdown",
      "source": [
        "b. Jika meninjau dua buah vektor dan dihitung cosine similaritynya (cos theta), jelaskan secara singkat, jelas, padat apa makna cosine similarity yang bernilai 0 dan 1 (tinjau dari posisi dua vektor di koordinat kartesian)?"
      ],
      "metadata": {
        "id": "3LTH7TSqOrwI"
      }
    },
    {
      "cell_type": "code",
      "source": [
        "def plot_vector2d(vector2d, origin=[0, 0], **options):\n",
        "    return plt.arrow(origin[0], origin[1], vector2d[0], vector2d[1],\n",
        "              head_width=0.2, head_length=0.3, length_includes_head=True,\n",
        "              **options)"
      ],
      "metadata": {
        "id": "FDhx4V12PObw"
      },
      "execution_count": 44,
      "outputs": []
    },
    {
      "cell_type": "code",
      "source": [
        "cos_theta = kalimat_1 @ kalimat_2 / (np.linalg.norm(kalimat_1) * np.linalg.norm(kalimat_2))\n",
        "cos_theta"
      ],
      "metadata": {
        "colab": {
          "base_uri": "https://localhost:8080/"
        },
        "id": "ofHRmWXJPV-F",
        "outputId": "59c5c76a-ac48-414d-acc1-af70f9da0887"
      },
      "execution_count": 45,
      "outputs": [
        {
          "output_type": "execute_result",
          "data": {
            "text/plain": [
              "0.8215838362577491"
            ]
          },
          "metadata": {},
          "execution_count": 45
        }
      ]
    },
    {
      "cell_type": "code",
      "source": [
        "kalimat_1 = np.array([2, 0, 1, 1, 0, 2, 1, 1])\n",
        "kalimat_2 = np.array([2, 1, 1, 0, 1, 1, 1, 1])\n",
        "\n",
        "plot_vector2d(kalimat_1, color='r')\n",
        "plot_vector2d(kalimat_2, color='g')\n",
        "\n",
        "plt.axis([0, 10, 0, 10])  # rentang axis x dan y\n",
        "plt.axvline(0)              # garis y = 0\n",
        "plt.axhline(0)              # garis x = 0\n",
        "plt.grid()\n",
        "plt.show()"
      ],
      "metadata": {
        "colab": {
          "base_uri": "https://localhost:8080/",
          "height": 269
        },
        "id": "VULmvgWyNNXE",
        "outputId": "d4c3fb40-813c-45b1-9443-3201e0bd6406"
      },
      "execution_count": 46,
      "outputs": [
        {
          "output_type": "display_data",
          "data": {
            "text/plain": [
              "<Figure size 432x288 with 1 Axes>"
            ],
            "image/png": "[encoded data removed]"
          },
          "metadata": {
            "needs_background": "light"
          }
        }
      ]
    },
    {
      "cell_type": "markdown",
      "source": [
        "Jika kita lihat dari koordinat kartesian, yang dikatakan cosine similarity 0 yaitu garis antar vektor itu saling berjauhan (dengan sudut 90 derajat), kemudian dikatakan cosine similarity 1 yaitu garis antar vektor itu saling bersamaan sehinggu membentuk garis titik koordinat yang sama. Pada gambar tersebut kalimat 1 berada pada garis lurus horizontal berwarna merah, kemudian kalimat 2 berada mendekati kalimat 1 sehingga dapat dikatakan bahwa kalimat 1 dengan kalimat 2 hampir memiliki persamaan."
      ],
      "metadata": {
        "id": "Vp1dWCPyP6IT"
      }
    },
    {
      "cell_type": "markdown",
      "source": [
        "c. Mengapa cosine similarity harus melibatkan vektor bukan matriks?\n",
        "\n",
        "Karena vektor berbentuk 1 dimensi yang dimana untuk mendapatkan koordinat harus menggunakan vector, jika matrix berbentuk 2 dimensi yang dimana koordinat tidak menerima matrix."
      ],
      "metadata": {
        "id": "RScHe0zdQlb8"
      }
    },
    {
      "cell_type": "markdown",
      "source": [
        "### Problem 2"
      ],
      "metadata": {
        "id": "jb_3VriKRZod"
      }
    },
    {
      "cell_type": "markdown",
      "source": [
        "Setelah kami mengimpor library, kami mencari data yang kami butuhkan di Big Query Google Cloud Platform. Kemudian kita mencari himpunan data dari database yang tersedia di bigquery-public-data.austin_waste.waste_and_diversion. Setelah itu kita mengambil dataset yang kita butuhkan dengan query seperti ini:\n",
        "\n",
        "SELECT sale_dollars\n",
        "FROM `bigquery-public-data.iowa_liquor_sales.sales` \n",
        "LIMIT 5000\n",
        "\n",
        "Dari data ini, kita akan mengambil sale_dollars.\n",
        "Setelah itu, kami mengimpor data ke file .csv mengunduh di Google Cloud Platform ke notebook ini. Setelah itu kita menetapkan variabel ke DataFrame atau df untuk terus memproses data."
      ],
      "metadata": {
        "id": "y_DA2-RQRegr"
      }
    },
    {
      "cell_type": "code",
      "source": [
        "df=pd.read_csv('/content/h8dsft_P0LC2_Fauzan_Nurachman.csv')\n",
        "df"
      ],
      "metadata": {
        "colab": {
          "base_uri": "https://localhost:8080/",
          "height": 419
        },
        "id": "4Xw0ybVZO8s-",
        "outputId": "17c466f5-1a8c-4c3b-d7d3-560ae697fb44"
      },
      "execution_count": 47,
      "outputs": [
        {
          "output_type": "execute_result",
          "data": {
            "text/plain": [
              "      sale_dollars\n",
              "0             7.40\n",
              "1             7.40\n",
              "2             7.40\n",
              "3             7.40\n",
              "4             7.40\n",
              "...            ...\n",
              "4995         98.88\n",
              "4996         99.00\n",
              "4997         98.88\n",
              "4998         92.40\n",
              "4999         98.88\n",
              "\n",
              "[5000 rows x 1 columns]"
            ],
            "text/html": [
              "\n",
              "  <div id=\"df-bb346d2e-47f9-4b67-a929-ab8d2e7ffc6a\">\n",
              "    <div class=\"colab-df-container\">\n",
              "      <div>\n",
              "<style scoped>\n",
              "    .dataframe tbody tr th:only-of-type {\n",
              "        vertical-align: middle;\n",
              "    }\n",
              "\n",
              "    .dataframe tbody tr th {\n",
              "        vertical-align: top;\n",
              "    }\n",
              "\n",
              "    .dataframe thead th {\n",
              "        text-align: right;\n",
              "    }\n",
              "</style>\n",
              "<table border=\"1\" class=\"dataframe\">\n",
              "  <thead>\n",
              "    <tr style=\"text-align: right;\">\n",
              "      <th></th>\n",
              "      <th>sale_dollars</th>\n",
              "    </tr>\n",
              "  </thead>\n",
              "  <tbody>\n",
              "    <tr>\n",
              "      <th>0</th>\n",
              "      <td>7.40</td>\n",
              "    </tr>\n",
              "    <tr>\n",
              "      <th>1</th>\n",
              "      <td>7.40</td>\n",
              "    </tr>\n",
              "    <tr>\n",
              "      <th>2</th>\n",
              "      <td>7.40</td>\n",
              "    </tr>\n",
              "    <tr>\n",
              "      <th>3</th>\n",
              "      <td>7.40</td>\n",
              "    </tr>\n",
              "    <tr>\n",
              "      <th>4</th>\n",
              "      <td>7.40</td>\n",
              "    </tr>\n",
              "    <tr>\n",
              "      <th>...</th>\n",
              "      <td>...</td>\n",
              "    </tr>\n",
              "    <tr>\n",
              "      <th>4995</th>\n",
              "      <td>98.88</td>\n",
              "    </tr>\n",
              "    <tr>\n",
              "      <th>4996</th>\n",
              "      <td>99.00</td>\n",
              "    </tr>\n",
              "    <tr>\n",
              "      <th>4997</th>\n",
              "      <td>98.88</td>\n",
              "    </tr>\n",
              "    <tr>\n",
              "      <th>4998</th>\n",
              "      <td>92.40</td>\n",
              "    </tr>\n",
              "    <tr>\n",
              "      <th>4999</th>\n",
              "      <td>98.88</td>\n",
              "    </tr>\n",
              "  </tbody>\n",
              "</table>\n",
              "<p>5000 rows × 1 columns</p>\n",
              "</div>\n",
              "      <button class=\"colab-df-convert\" onclick=\"convertToInteractive('df-bb346d2e-47f9-4b67-a929-ab8d2e7ffc6a')\"\n",
              "              title=\"Convert this dataframe to an interactive table.\"\n",
              "              style=\"display:none;\">\n",
              "        \n",
              "  <svg xmlns=\"http://www.w3.org/2000/svg\" height=\"24px\"viewBox=\"0 0 24 24\"\n",
              "       width=\"24px\">\n",
              "    <path d=\"M0 0h24v24H0V0z\" fill=\"none\"/>\n",
              "    <path d=\"M18.56 5.44l.94 2.06.94-2.06 2.06-.94-2.06-.94-.94-2.06-.94 2.06-2.06.94zm-11 1L8.5 8.5l.94-2.06 2.06-.94-2.06-.94L8.5 2.5l-.94 2.06-2.06.94zm10 10l.94 2.06.94-2.06 2.06-.94-2.06-.94-.94-2.06-.94 2.06-2.06.94z\"/><path d=\"M17.41 7.96l-1.37-1.37c-.4-.4-.92-.59-1.43-.59-.52 0-1.04.2-1.43.59L10.3 9.45l-7.72 7.72c-.78.78-.78 2.05 0 2.83L4 21.41c.39.39.9.59 1.41.59.51 0 1.02-.2 1.41-.59l7.78-7.78 2.81-2.81c.8-.78.8-2.07 0-2.86zM5.41 20L4 18.59l7.72-7.72 1.47 1.35L5.41 20z\"/>\n",
              "  </svg>\n",
              "      </button>\n",
              "      \n",
              "  <style>\n",
              "    .colab-df-container {\n",
              "      display:flex;\n",
              "      flex-wrap:wrap;\n",
              "      gap: 12px;\n",
              "    }\n",
              "\n",
              "    .colab-df-convert {\n",
              "      background-color: #E8F0FE;\n",
              "      border: none;\n",
              "      border-radius: 50%;\n",
              "      cursor: pointer;\n",
              "      display: none;\n",
              "      fill: #1967D2;\n",
              "      height: 32px;\n",
              "      padding: 0 0 0 0;\n",
              "      width: 32px;\n",
              "    }\n",
              "\n",
              "    .colab-df-convert:hover {\n",
              "      background-color: #E2EBFA;\n",
              "      box-shadow: 0px 1px 2px rgba(60, 64, 67, 0.3), 0px 1px 3px 1px rgba(60, 64, 67, 0.15);\n",
              "      fill: #174EA6;\n",
              "    }\n",
              "\n",
              "    [theme=dark] .colab-df-convert {\n",
              "      background-color: #3B4455;\n",
              "      fill: #D2E3FC;\n",
              "    }\n",
              "\n",
              "    [theme=dark] .colab-df-convert:hover {\n",
              "      background-color: #434B5C;\n",
              "      box-shadow: 0px 1px 3px 1px rgba(0, 0, 0, 0.15);\n",
              "      filter: drop-shadow(0px 1px 2px rgba(0, 0, 0, 0.3));\n",
              "      fill: #FFFFFF;\n",
              "    }\n",
              "  </style>\n",
              "\n",
              "      <script>\n",
              "        const buttonEl =\n",
              "          document.querySelector('#df-bb346d2e-47f9-4b67-a929-ab8d2e7ffc6a button.colab-df-convert');\n",
              "        buttonEl.style.display =\n",
              "          google.colab.kernel.accessAllowed ? 'block' : 'none';\n",
              "\n",
              "        async function convertToInteractive(key) {\n",
              "          const element = document.querySelector('#df-bb346d2e-47f9-4b67-a929-ab8d2e7ffc6a');\n",
              "          const dataTable =\n",
              "            await google.colab.kernel.invokeFunction('convertToInteractive',\n",
              "                                                     [key], {});\n",
              "          if (!dataTable) return;\n",
              "\n",
              "          const docLinkHtml = 'Like what you see? Visit the ' +\n",
              "            '<a target=\"_blank\" href=https://colab.research.google.com/notebooks/data_table.ipynb>data table notebook</a>'\n",
              "            + ' to learn more about interactive tables.';\n",
              "          element.innerHTML = '';\n",
              "          dataTable['output_type'] = 'display_data';\n",
              "          await google.colab.output.renderOutput(dataTable, element);\n",
              "          const docLink = document.createElement('div');\n",
              "          docLink.innerHTML = docLinkHtml;\n",
              "          element.appendChild(docLink);\n",
              "        }\n",
              "      </script>\n",
              "    </div>\n",
              "  </div>\n",
              "  "
            ]
          },
          "metadata": {},
          "execution_count": 47
        }
      ]
    },
    {
      "cell_type": "markdown",
      "source": [
        "### 5. Mathematical Calculation\n",
        "\n",
        "1. Berapa rata-rata, median, dan modus dari data tersebut sebelum dihilangkan outliernya? Bagaimana kecerendungan pemusatan datanya? jelaskan jawabanmu!"
      ],
      "metadata": {
        "id": "2h-LitBqTYsg"
      }
    },
    {
      "cell_type": "markdown",
      "source": [
        "Sebelum kita lakukan pengecekan Central Tencency, kita lakukan pengecekan data tersebut, mulai dari ada berapa bari dan kolom, kemudian tipe datanya dan apakah ada missing value atau tidak."
      ],
      "metadata": {
        "id": "sZiwpcN6UAEv"
      }
    },
    {
      "cell_type": "code",
      "source": [
        "df.shape"
      ],
      "metadata": {
        "colab": {
          "base_uri": "https://localhost:8080/"
        },
        "id": "pHZCFIFKTBqR",
        "outputId": "6521f28c-3108-4bad-c723-1673d28dcb7c"
      },
      "execution_count": 48,
      "outputs": [
        {
          "output_type": "execute_result",
          "data": {
            "text/plain": [
              "(5000, 1)"
            ]
          },
          "metadata": {},
          "execution_count": 48
        }
      ]
    },
    {
      "cell_type": "code",
      "source": [
        "df.info()"
      ],
      "metadata": {
        "colab": {
          "base_uri": "https://localhost:8080/"
        },
        "id": "OJWT9MaRTon_",
        "outputId": "1a295be5-8cd6-461d-fb93-9e2abc1e671a"
      },
      "execution_count": 49,
      "outputs": [
        {
          "output_type": "stream",
          "name": "stdout",
          "text": [
            "<class 'pandas.core.frame.DataFrame'>\n",
            "RangeIndex: 5000 entries, 0 to 4999\n",
            "Data columns (total 1 columns):\n",
            " #   Column        Non-Null Count  Dtype  \n",
            "---  ------        --------------  -----  \n",
            " 0   sale_dollars  5000 non-null   float64\n",
            "dtypes: float64(1)\n",
            "memory usage: 39.2 KB\n"
          ]
        }
      ]
    },
    {
      "cell_type": "code",
      "source": [
        "df.isna().sum()"
      ],
      "metadata": {
        "colab": {
          "base_uri": "https://localhost:8080/"
        },
        "id": "nyBIqoQjTsYn",
        "outputId": "a423c2f0-4355-4033-afad-893fc35674ed"
      },
      "execution_count": 50,
      "outputs": [
        {
          "output_type": "execute_result",
          "data": {
            "text/plain": [
              "sale_dollars    0\n",
              "dtype: int64"
            ]
          },
          "metadata": {},
          "execution_count": 50
        }
      ]
    },
    {
      "cell_type": "markdown",
      "source": [
        "Kita dapat lihat bahwa dataset ini memiliki 5000 baris dan 1 kolom, kemudian tipe datanya float, dan tidak ada missing value.\n",
        "\n",
        "Sesudah itu kita lanjutkan dengan mencari mean, median, dan mode sebelum dihilangkan data outliers."
      ],
      "metadata": {
        "id": "AVVTTTSnUTrQ"
      }
    },
    {
      "cell_type": "code",
      "source": [
        "sale_dollars_mean = df['sale_dollars'].mean()\n",
        "sale_dollars_mean"
      ],
      "metadata": {
        "colab": {
          "base_uri": "https://localhost:8080/"
        },
        "id": "wKeU68zoTu8f",
        "outputId": "1f6728f7-2270-4366-985e-9851b3e276c2"
      },
      "execution_count": 51,
      "outputs": [
        {
          "output_type": "execute_result",
          "data": {
            "text/plain": [
              "347.98057800000004"
            ]
          },
          "metadata": {},
          "execution_count": 51
        }
      ]
    },
    {
      "cell_type": "code",
      "source": [
        "sale_dollars_median = df['sale_dollars'].median()\n",
        "sale_dollars_median"
      ],
      "metadata": {
        "colab": {
          "base_uri": "https://localhost:8080/"
        },
        "id": "P1jfuz05UyxS",
        "outputId": "282b79b8-0e3e-4374-b1b8-777cecea1942"
      },
      "execution_count": 52,
      "outputs": [
        {
          "output_type": "execute_result",
          "data": {
            "text/plain": [
              "230.88"
            ]
          },
          "metadata": {},
          "execution_count": 52
        }
      ]
    },
    {
      "cell_type": "code",
      "source": [
        "sale_dollars_mode = df['sale_dollars'].mode()\n",
        "sale_dollars_mode"
      ],
      "metadata": {
        "colab": {
          "base_uri": "https://localhost:8080/"
        },
        "id": "yR2dJzwHU5tX",
        "outputId": "b1580a5f-9ffe-44ad-e5a9-38b317e0a0d1"
      },
      "execution_count": 53,
      "outputs": [
        {
          "output_type": "execute_result",
          "data": {
            "text/plain": [
              "0    129.6\n",
              "dtype: float64"
            ]
          },
          "metadata": {},
          "execution_count": 53
        }
      ]
    },
    {
      "cell_type": "code",
      "source": [
        "df.plot.hist(title='Sale Dollars', color='lightblue', bins=25)  \n",
        "plt.axvline(df['sale_dollars'].mean(), color='red', linestyle='dashed', linewidth=2)\n",
        "plt.axvline(df['sale_dollars'].median(), color='green', linestyle='dashed', linewidth=2)\n",
        "plt.show()"
      ],
      "metadata": {
        "colab": {
          "base_uri": "https://localhost:8080/",
          "height": 281
        },
        "id": "3xlrgKrAU8OD",
        "outputId": "e140f45b-2cb9-44e2-ebd1-17aa518fa2b4"
      },
      "execution_count": 54,
      "outputs": [
        {
          "output_type": "display_data",
          "data": {
            "text/plain": [
              "<Figure size 432x288 with 1 Axes>"
            ],
            "image/png": "[encoded data removed]"
          },
          "metadata": {
            "needs_background": "light"
          }
        }
      ]
    },
    {
      "cell_type": "markdown",
      "source": [
        "Dari code dan tampilan visual diatas, kita dapat lihat bahwa nilai mean sale_dollars yaitu 347.98, kemudian nilai median yaitu 230.88 dan nilai mode yaitu 129.6 . Kemudian nilai mean dan median tidak terlalu jauh. Pemusatan data terletak pada range 0 - 800 dengan frekuensi hampir 4000."
      ],
      "metadata": {
        "id": "JvDzxnp_WoCv"
      }
    },
    {
      "cell_type": "markdown",
      "source": [
        "2. Sebelum melakukan extreme value analysis, kamu harus melakukan pengecekan skewness dari distribusi datanya. Apakah datanya skew atau normal? jelaskan jawabanmu!"
      ],
      "metadata": {
        "id": "Q7wWLessYMHD"
      }
    },
    {
      "cell_type": "markdown",
      "source": [
        "Kita akan lakukan pengecekan data apakah skew atau normal. Kita masukan fungsi .skew() ."
      ],
      "metadata": {
        "id": "zbeVqacQYQej"
      }
    },
    {
      "cell_type": "code",
      "source": [
        "df['sale_dollars'].skew()"
      ],
      "metadata": {
        "colab": {
          "base_uri": "https://localhost:8080/"
        },
        "id": "8b4cVET9VPu6",
        "outputId": "7458d0aa-9b55-43b9-a354-ee6fc4b1a777"
      },
      "execution_count": 55,
      "outputs": [
        {
          "output_type": "execute_result",
          "data": {
            "text/plain": [
              "12.177189970386195"
            ]
          },
          "metadata": {},
          "execution_count": 55
        }
      ]
    },
    {
      "cell_type": "markdown",
      "source": [
        "Dapat kita ketahui bahwa data yang kita punya yaitu skew, kemudian data itu right skew karena hasil dari menggunakan fungsi .skew() yaitu 12.17 yang dimana semakin besar nilai skew akan mengarah ke right skew, jika nilai skew itu minus akan mengarah ke left skew. Setelah itu kita akan lakukan uji lanjutan dengan menggunakan extreme value analisis."
      ],
      "metadata": {
        "id": "Sk2tHEokY6uS"
      }
    },
    {
      "cell_type": "markdown",
      "source": [
        "3. Ada dua teknik untuk melakukan extreme value analysis, teknik yang mana yang kamu pakai? berikan alasanmu berdasarkan data!"
      ],
      "metadata": {
        "id": "jaSv-Z4DZrVf"
      }
    },
    {
      "cell_type": "markdown",
      "source": [
        "Saya akan menggunakan teknik Tukey's rule for Outlier Detection dikarenakan data ini merupakan data skew lebih tepatnya right skew, jadi kita lakukan teknik Tukey's rule untuk mendapatkan outliers."
      ],
      "metadata": {
        "id": "M3-ZJzYyZ81z"
      }
    },
    {
      "cell_type": "code",
      "source": [
        "sale_dollars = df['sale_dollars']\n",
        "density = stats.gaussian_kde(sale_dollars)\n",
        "n, x, _ = plt.hist(sale_dollars, histtype='step', bins=25)  \n",
        "plt.plot(x, density(x)*10**5)\n",
        "plt.axvline(sale_dollars.mean(), color='magenta', linestyle='dashed', linewidth=2)\n",
        "plt.axvline(sale_dollars.median(), color='green', linestyle='dashed', linewidth=2)\n",
        "plt.show()"
      ],
      "metadata": {
        "colab": {
          "base_uri": "https://localhost:8080/",
          "height": 268
        },
        "id": "LKBoQ5r2W2we",
        "outputId": "759abbf2-72cd-421b-c178-26a4a6fee242"
      },
      "execution_count": 56,
      "outputs": [
        {
          "output_type": "display_data",
          "data": {
            "text/plain": [
              "<Figure size 432x288 with 1 Axes>"
            ],
            "image/png": "[encoded data removed]"
          },
          "metadata": {
            "needs_background": "light"
          }
        }
      ]
    },
    {
      "cell_type": "code",
      "source": [
        "sns.boxplot(data=df, y = 'sale_dollars');"
      ],
      "metadata": {
        "colab": {
          "base_uri": "https://localhost:8080/",
          "height": 252
        },
        "id": "bYtYXTOdVvUf",
        "outputId": "44a8fa52-ec0b-4164-b5d6-6f24feafc47c"
      },
      "execution_count": 57,
      "outputs": [
        {
          "output_type": "display_data",
          "data": {
            "text/plain": [
              "<Figure size 432x288 with 1 Axes>"
            ],
            "image/png": "[encoded data removed]"
          },
          "metadata": {
            "needs_background": "light"
          }
        }
      ]
    },
    {
      "cell_type": "markdown",
      "source": [
        "Kita dapat lihat bahwa banyak sekali nilai outliers dengan kita menggunakan teknik Tukey's rule. Dengan arti data tersebut distribusinya tidak normal. Kita akan menghilangkan data outliers dan kemudian kita coba kembali apakah data outliers sudah hilang atau belum.\n",
        "\n",
        "Pertama kita cari varian dan standar deviasi sebelum mencari batas atas dan batas bawah untuk mengetahui outliers yang paling atas dan paling bawah."
      ],
      "metadata": {
        "id": "puFVTWl_bJ3s"
      }
    },
    {
      "cell_type": "code",
      "source": [
        "df['sale_dollars'].var()"
      ],
      "metadata": {
        "colab": {
          "base_uri": "https://localhost:8080/"
        },
        "id": "633v-Q_lb_MM",
        "outputId": "3bc17cd3-2867-407a-a865-9c32f5a00a9b"
      },
      "execution_count": 58,
      "outputs": [
        {
          "output_type": "execute_result",
          "data": {
            "text/plain": [
              "775871.689074941"
            ]
          },
          "metadata": {},
          "execution_count": 58
        }
      ]
    },
    {
      "cell_type": "code",
      "source": [
        "sale_dollars_std = df['sale_dollars'].std()\n",
        "sale_dollars_std"
      ],
      "metadata": {
        "colab": {
          "base_uri": "https://localhost:8080/"
        },
        "id": "YpEjEpbYb-29",
        "outputId": "b6fcfd67-3940-47ae-8249-5f809926b542"
      },
      "execution_count": 59,
      "outputs": [
        {
          "output_type": "execute_result",
          "data": {
            "text/plain": [
              "880.8357900738031"
            ]
          },
          "metadata": {},
          "execution_count": 59
        }
      ]
    },
    {
      "cell_type": "code",
      "source": [
        "outliers_plus = sale_dollars_mean + 3*sale_dollars_std\n",
        "outliers_plus"
      ],
      "metadata": {
        "colab": {
          "base_uri": "https://localhost:8080/"
        },
        "id": "MHIDMFlibfio",
        "outputId": "3c7498ee-93ac-4328-cc17-d2a5668fd45d"
      },
      "execution_count": 60,
      "outputs": [
        {
          "output_type": "execute_result",
          "data": {
            "text/plain": [
              "2990.4879482214096"
            ]
          },
          "metadata": {},
          "execution_count": 60
        }
      ]
    },
    {
      "cell_type": "code",
      "source": [
        "outliers_minus = sale_dollars_mean - 3*sale_dollars_std\n",
        "outliers_minus"
      ],
      "metadata": {
        "colab": {
          "base_uri": "https://localhost:8080/"
        },
        "id": "l2c43nSUcYM6",
        "outputId": "a70b6c90-97a9-4cf4-d813-2e2a35faa8ff"
      },
      "execution_count": 61,
      "outputs": [
        {
          "output_type": "execute_result",
          "data": {
            "text/plain": [
              "-2294.5267922214093"
            ]
          },
          "metadata": {},
          "execution_count": 61
        }
      ]
    },
    {
      "cell_type": "markdown",
      "source": [
        "Setelah kita dapat standar deviasi, kemudian kita cari batas atas dan batas bawah, kemudian kita lakukan pencarian ada berapa baris outliers dengan menggunakan formula ini:"
      ],
      "metadata": {
        "id": "7-Tb7hM8ceXG"
      }
    },
    {
      "cell_type": "code",
      "source": [
        "df1 = df.loc[df['sale_dollars'] > 2990.48]\n",
        "df1"
      ],
      "metadata": {
        "colab": {
          "base_uri": "https://localhost:8080/",
          "height": 1000
        },
        "id": "WRm_vIeuccXU",
        "outputId": "69d68d4d-d598-40d2-ceda-60105a208ea2"
      },
      "execution_count": 62,
      "outputs": [
        {
          "output_type": "execute_result",
          "data": {
            "text/plain": [
              "      sale_dollars\n",
              "4127       6546.96\n",
              "4138       5364.00\n",
              "4139      17352.00\n",
              "4140      16308.00\n",
              "4142       4368.00\n",
              "4143       7995.00\n",
              "4144       7830.00\n",
              "4145       8541.00\n",
              "4146       8766.00\n",
              "4148       8502.00\n",
              "4149       8502.00\n",
              "4150       7836.00\n",
              "4151       9900.00\n",
              "4163       5364.00\n",
              "4164       5478.00\n",
              "4165       5364.00\n",
              "4166       5928.00\n",
              "4167       5364.00\n",
              "4168       5928.00\n",
              "4169       5364.00\n",
              "4170       5364.00\n",
              "4171       5364.00\n",
              "4172       5478.00\n",
              "4173       3375.00\n",
              "4174       5289.00\n",
              "4175       5286.00\n",
              "4176       5622.00\n",
              "4178       5103.00\n",
              "4179       4950.00\n",
              "4185       9123.00\n",
              "4186       5616.00\n",
              "4187       5850.00\n",
              "4188       5625.00\n",
              "4190       3159.00\n",
              "4191       3159.00\n",
              "4192       3159.00\n",
              "4193       3159.00\n",
              "4195      15990.00\n",
              "4196      17004.00\n",
              "4197      17004.00\n",
              "4198       3576.00\n",
              "4199       3576.00\n",
              "4200       3852.00\n",
              "4201       3864.00\n",
              "4202       8484.00\n",
              "4203       8484.00\n",
              "4204      10572.00\n",
              "4205      10572.00\n",
              "4206      16200.00\n",
              "4207      14992.00\n",
              "4208       6612.00\n",
              "4209       7080.00\n",
              "4210       6781.32"
            ],
            "text/html": [
              "\n",
              "  <div id=\"df-39f58021-5cc7-4cf5-82a7-7e381539e93b\">\n",
              "    <div class=\"colab-df-container\">\n",
              "      <div>\n",
              "<style scoped>\n",
              "    .dataframe tbody tr th:only-of-type {\n",
              "        vertical-align: middle;\n",
              "    }\n",
              "\n",
              "    .dataframe tbody tr th {\n",
              "        vertical-align: top;\n",
              "    }\n",
              "\n",
              "    .dataframe thead th {\n",
              "        text-align: right;\n",
              "    }\n",
              "</style>\n",
              "<table border=\"1\" class=\"dataframe\">\n",
              "  <thead>\n",
              "    <tr style=\"text-align: right;\">\n",
              "      <th></th>\n",
              "      <th>sale_dollars</th>\n",
              "    </tr>\n",
              "  </thead>\n",
              "  <tbody>\n",
              "    <tr>\n",
              "      <th>4127</th>\n",
              "      <td>6546.96</td>\n",
              "    </tr>\n",
              "    <tr>\n",
              "      <th>4138</th>\n",
              "      <td>5364.00</td>\n",
              "    </tr>\n",
              "    <tr>\n",
              "      <th>4139</th>\n",
              "      <td>17352.00</td>\n",
              "    </tr>\n",
              "    <tr>\n",
              "      <th>4140</th>\n",
              "      <td>16308.00</td>\n",
              "    </tr>\n",
              "    <tr>\n",
              "      <th>4142</th>\n",
              "      <td>4368.00</td>\n",
              "    </tr>\n",
              "    <tr>\n",
              "      <th>4143</th>\n",
              "      <td>7995.00</td>\n",
              "    </tr>\n",
              "    <tr>\n",
              "      <th>4144</th>\n",
              "      <td>7830.00</td>\n",
              "    </tr>\n",
              "    <tr>\n",
              "      <th>4145</th>\n",
              "      <td>8541.00</td>\n",
              "    </tr>\n",
              "    <tr>\n",
              "      <th>4146</th>\n",
              "      <td>8766.00</td>\n",
              "    </tr>\n",
              "    <tr>\n",
              "      <th>4148</th>\n",
              "      <td>8502.00</td>\n",
              "    </tr>\n",
              "    <tr>\n",
              "      <th>4149</th>\n",
              "      <td>8502.00</td>\n",
              "    </tr>\n",
              "    <tr>\n",
              "      <th>4150</th>\n",
              "      <td>7836.00</td>\n",
              "    </tr>\n",
              "    <tr>\n",
              "      <th>4151</th>\n",
              "      <td>9900.00</td>\n",
              "    </tr>\n",
              "    <tr>\n",
              "      <th>4163</th>\n",
              "      <td>5364.00</td>\n",
              "    </tr>\n",
              "    <tr>\n",
              "      <th>4164</th>\n",
              "      <td>5478.00</td>\n",
              "    </tr>\n",
              "    <tr>\n",
              "      <th>4165</th>\n",
              "      <td>5364.00</td>\n",
              "    </tr>\n",
              "    <tr>\n",
              "      <th>4166</th>\n",
              "      <td>5928.00</td>\n",
              "    </tr>\n",
              "    <tr>\n",
              "      <th>4167</th>\n",
              "      <td>5364.00</td>\n",
              "    </tr>\n",
              "    <tr>\n",
              "      <th>4168</th>\n",
              "      <td>5928.00</td>\n",
              "    </tr>\n",
              "    <tr>\n",
              "      <th>4169</th>\n",
              "      <td>5364.00</td>\n",
              "    </tr>\n",
              "    <tr>\n",
              "      <th>4170</th>\n",
              "      <td>5364.00</td>\n",
              "    </tr>\n",
              "    <tr>\n",
              "      <th>4171</th>\n",
              "      <td>5364.00</td>\n",
              "    </tr>\n",
              "    <tr>\n",
              "      <th>4172</th>\n",
              "      <td>5478.00</td>\n",
              "    </tr>\n",
              "    <tr>\n",
              "      <th>4173</th>\n",
              "      <td>3375.00</td>\n",
              "    </tr>\n",
              "    <tr>\n",
              "      <th>4174</th>\n",
              "      <td>5289.00</td>\n",
              "    </tr>\n",
              "    <tr>\n",
              "      <th>4175</th>\n",
              "      <td>5286.00</td>\n",
              "    </tr>\n",
              "    <tr>\n",
              "      <th>4176</th>\n",
              "      <td>5622.00</td>\n",
              "    </tr>\n",
              "    <tr>\n",
              "      <th>4178</th>\n",
              "      <td>5103.00</td>\n",
              "    </tr>\n",
              "    <tr>\n",
              "      <th>4179</th>\n",
              "      <td>4950.00</td>\n",
              "    </tr>\n",
              "    <tr>\n",
              "      <th>4185</th>\n",
              "      <td>9123.00</td>\n",
              "    </tr>\n",
              "    <tr>\n",
              "      <th>4186</th>\n",
              "      <td>5616.00</td>\n",
              "    </tr>\n",
              "    <tr>\n",
              "      <th>4187</th>\n",
              "      <td>5850.00</td>\n",
              "    </tr>\n",
              "    <tr>\n",
              "      <th>4188</th>\n",
              "      <td>5625.00</td>\n",
              "    </tr>\n",
              "    <tr>\n",
              "      <th>4190</th>\n",
              "      <td>3159.00</td>\n",
              "    </tr>\n",
              "    <tr>\n",
              "      <th>4191</th>\n",
              "      <td>3159.00</td>\n",
              "    </tr>\n",
              "    <tr>\n",
              "      <th>4192</th>\n",
              "      <td>3159.00</td>\n",
              "    </tr>\n",
              "    <tr>\n",
              "      <th>4193</th>\n",
              "      <td>3159.00</td>\n",
              "    </tr>\n",
              "    <tr>\n",
              "      <th>4195</th>\n",
              "      <td>15990.00</td>\n",
              "    </tr>\n",
              "    <tr>\n",
              "      <th>4196</th>\n",
              "      <td>17004.00</td>\n",
              "    </tr>\n",
              "    <tr>\n",
              "      <th>4197</th>\n",
              "      <td>17004.00</td>\n",
              "    </tr>\n",
              "    <tr>\n",
              "      <th>4198</th>\n",
              "      <td>3576.00</td>\n",
              "    </tr>\n",
              "    <tr>\n",
              "      <th>4199</th>\n",
              "      <td>3576.00</td>\n",
              "    </tr>\n",
              "    <tr>\n",
              "      <th>4200</th>\n",
              "      <td>3852.00</td>\n",
              "    </tr>\n",
              "    <tr>\n",
              "      <th>4201</th>\n",
              "      <td>3864.00</td>\n",
              "    </tr>\n",
              "    <tr>\n",
              "      <th>4202</th>\n",
              "      <td>8484.00</td>\n",
              "    </tr>\n",
              "    <tr>\n",
              "      <th>4203</th>\n",
              "      <td>8484.00</td>\n",
              "    </tr>\n",
              "    <tr>\n",
              "      <th>4204</th>\n",
              "      <td>10572.00</td>\n",
              "    </tr>\n",
              "    <tr>\n",
              "      <th>4205</th>\n",
              "      <td>10572.00</td>\n",
              "    </tr>\n",
              "    <tr>\n",
              "      <th>4206</th>\n",
              "      <td>16200.00</td>\n",
              "    </tr>\n",
              "    <tr>\n",
              "      <th>4207</th>\n",
              "      <td>14992.00</td>\n",
              "    </tr>\n",
              "    <tr>\n",
              "      <th>4208</th>\n",
              "      <td>6612.00</td>\n",
              "    </tr>\n",
              "    <tr>\n",
              "      <th>4209</th>\n",
              "      <td>7080.00</td>\n",
              "    </tr>\n",
              "    <tr>\n",
              "      <th>4210</th>\n",
              "      <td>6781.32</td>\n",
              "    </tr>\n",
              "  </tbody>\n",
              "</table>\n",
              "</div>\n",
              "      <button class=\"colab-df-convert\" onclick=\"convertToInteractive('df-39f58021-5cc7-4cf5-82a7-7e381539e93b')\"\n",
              "              title=\"Convert this dataframe to an interactive table.\"\n",
              "              style=\"display:none;\">\n",
              "        \n",
              "  <svg xmlns=\"http://www.w3.org/2000/svg\" height=\"24px\"viewBox=\"0 0 24 24\"\n",
              "       width=\"24px\">\n",
              "    <path d=\"M0 0h24v24H0V0z\" fill=\"none\"/>\n",
              "    <path d=\"M18.56 5.44l.94 2.06.94-2.06 2.06-.94-2.06-.94-.94-2.06-.94 2.06-2.06.94zm-11 1L8.5 8.5l.94-2.06 2.06-.94-2.06-.94L8.5 2.5l-.94 2.06-2.06.94zm10 10l.94 2.06.94-2.06 2.06-.94-2.06-.94-.94-2.06-.94 2.06-2.06.94z\"/><path d=\"M17.41 7.96l-1.37-1.37c-.4-.4-.92-.59-1.43-.59-.52 0-1.04.2-1.43.59L10.3 9.45l-7.72 7.72c-.78.78-.78 2.05 0 2.83L4 21.41c.39.39.9.59 1.41.59.51 0 1.02-.2 1.41-.59l7.78-7.78 2.81-2.81c.8-.78.8-2.07 0-2.86zM5.41 20L4 18.59l7.72-7.72 1.47 1.35L5.41 20z\"/>\n",
              "  </svg>\n",
              "      </button>\n",
              "      \n",
              "  <style>\n",
              "    .colab-df-container {\n",
              "      display:flex;\n",
              "      flex-wrap:wrap;\n",
              "      gap: 12px;\n",
              "    }\n",
              "\n",
              "    .colab-df-convert {\n",
              "      background-color: #E8F0FE;\n",
              "      border: none;\n",
              "      border-radius: 50%;\n",
              "      cursor: pointer;\n",
              "      display: none;\n",
              "      fill: #1967D2;\n",
              "      height: 32px;\n",
              "      padding: 0 0 0 0;\n",
              "      width: 32px;\n",
              "    }\n",
              "\n",
              "    .colab-df-convert:hover {\n",
              "      background-color: #E2EBFA;\n",
              "      box-shadow: 0px 1px 2px rgba(60, 64, 67, 0.3), 0px 1px 3px 1px rgba(60, 64, 67, 0.15);\n",
              "      fill: #174EA6;\n",
              "    }\n",
              "\n",
              "    [theme=dark] .colab-df-convert {\n",
              "      background-color: #3B4455;\n",
              "      fill: #D2E3FC;\n",
              "    }\n",
              "\n",
              "    [theme=dark] .colab-df-convert:hover {\n",
              "      background-color: #434B5C;\n",
              "      box-shadow: 0px 1px 3px 1px rgba(0, 0, 0, 0.15);\n",
              "      filter: drop-shadow(0px 1px 2px rgba(0, 0, 0, 0.3));\n",
              "      fill: #FFFFFF;\n",
              "    }\n",
              "  </style>\n",
              "\n",
              "      <script>\n",
              "        const buttonEl =\n",
              "          document.querySelector('#df-39f58021-5cc7-4cf5-82a7-7e381539e93b button.colab-df-convert');\n",
              "        buttonEl.style.display =\n",
              "          google.colab.kernel.accessAllowed ? 'block' : 'none';\n",
              "\n",
              "        async function convertToInteractive(key) {\n",
              "          const element = document.querySelector('#df-39f58021-5cc7-4cf5-82a7-7e381539e93b');\n",
              "          const dataTable =\n",
              "            await google.colab.kernel.invokeFunction('convertToInteractive',\n",
              "                                                     [key], {});\n",
              "          if (!dataTable) return;\n",
              "\n",
              "          const docLinkHtml = 'Like what you see? Visit the ' +\n",
              "            '<a target=\"_blank\" href=https://colab.research.google.com/notebooks/data_table.ipynb>data table notebook</a>'\n",
              "            + ' to learn more about interactive tables.';\n",
              "          element.innerHTML = '';\n",
              "          dataTable['output_type'] = 'display_data';\n",
              "          await google.colab.output.renderOutput(dataTable, element);\n",
              "          const docLink = document.createElement('div');\n",
              "          docLink.innerHTML = docLinkHtml;\n",
              "          element.appendChild(docLink);\n",
              "        }\n",
              "      </script>\n",
              "    </div>\n",
              "  </div>\n",
              "  "
            ]
          },
          "metadata": {},
          "execution_count": 62
        }
      ]
    },
    {
      "cell_type": "code",
      "source": [
        "df1.value_counts().sum()"
      ],
      "metadata": {
        "colab": {
          "base_uri": "https://localhost:8080/"
        },
        "id": "EKLkWV5qdkcA",
        "outputId": "cea72baa-77c7-47a0-fe51-ea10be8016f8"
      },
      "execution_count": 63,
      "outputs": [
        {
          "output_type": "execute_result",
          "data": {
            "text/plain": [
              "53"
            ]
          },
          "metadata": {},
          "execution_count": 63
        }
      ]
    },
    {
      "cell_type": "code",
      "source": [
        "df.loc[df['sale_dollars'] < -2294.52]"
      ],
      "metadata": {
        "colab": {
          "base_uri": "https://localhost:8080/",
          "height": 49
        },
        "id": "yR3O4mWIc3LX",
        "outputId": "3379f342-abed-424b-af79-933286d9813c"
      },
      "execution_count": 65,
      "outputs": [
        {
          "output_type": "execute_result",
          "data": {
            "text/plain": [
              "Empty DataFrame\n",
              "Columns: [sale_dollars]\n",
              "Index: []"
            ],
            "text/html": [
              "\n",
              "  <div id=\"df-3ab0aca8-dc6b-4eab-88ae-286e09507768\">\n",
              "    <div class=\"colab-df-container\">\n",
              "      <div>\n",
              "<style scoped>\n",
              "    .dataframe tbody tr th:only-of-type {\n",
              "        vertical-align: middle;\n",
              "    }\n",
              "\n",
              "    .dataframe tbody tr th {\n",
              "        vertical-align: top;\n",
              "    }\n",
              "\n",
              "    .dataframe thead th {\n",
              "        text-align: right;\n",
              "    }\n",
              "</style>\n",
              "<table border=\"1\" class=\"dataframe\">\n",
              "  <thead>\n",
              "    <tr style=\"text-align: right;\">\n",
              "      <th></th>\n",
              "      <th>sale_dollars</th>\n",
              "    </tr>\n",
              "  </thead>\n",
              "  <tbody>\n",
              "  </tbody>\n",
              "</table>\n",
              "</div>\n",
              "      <button class=\"colab-df-convert\" onclick=\"convertToInteractive('df-3ab0aca8-dc6b-4eab-88ae-286e09507768')\"\n",
              "              title=\"Convert this dataframe to an interactive table.\"\n",
              "              style=\"display:none;\">\n",
              "        \n",
              "  <svg xmlns=\"http://www.w3.org/2000/svg\" height=\"24px\"viewBox=\"0 0 24 24\"\n",
              "       width=\"24px\">\n",
              "    <path d=\"M0 0h24v24H0V0z\" fill=\"none\"/>\n",
              "    <path d=\"M18.56 5.44l.94 2.06.94-2.06 2.06-.94-2.06-.94-.94-2.06-.94 2.06-2.06.94zm-11 1L8.5 8.5l.94-2.06 2.06-.94-2.06-.94L8.5 2.5l-.94 2.06-2.06.94zm10 10l.94 2.06.94-2.06 2.06-.94-2.06-.94-.94-2.06-.94 2.06-2.06.94z\"/><path d=\"M17.41 7.96l-1.37-1.37c-.4-.4-.92-.59-1.43-.59-.52 0-1.04.2-1.43.59L10.3 9.45l-7.72 7.72c-.78.78-.78 2.05 0 2.83L4 21.41c.39.39.9.59 1.41.59.51 0 1.02-.2 1.41-.59l7.78-7.78 2.81-2.81c.8-.78.8-2.07 0-2.86zM5.41 20L4 18.59l7.72-7.72 1.47 1.35L5.41 20z\"/>\n",
              "  </svg>\n",
              "      </button>\n",
              "      \n",
              "  <style>\n",
              "    .colab-df-container {\n",
              "      display:flex;\n",
              "      flex-wrap:wrap;\n",
              "      gap: 12px;\n",
              "    }\n",
              "\n",
              "    .colab-df-convert {\n",
              "      background-color: #E8F0FE;\n",
              "      border: none;\n",
              "      border-radius: 50%;\n",
              "      cursor: pointer;\n",
              "      display: none;\n",
              "      fill: #1967D2;\n",
              "      height: 32px;\n",
              "      padding: 0 0 0 0;\n",
              "      width: 32px;\n",
              "    }\n",
              "\n",
              "    .colab-df-convert:hover {\n",
              "      background-color: #E2EBFA;\n",
              "      box-shadow: 0px 1px 2px rgba(60, 64, 67, 0.3), 0px 1px 3px 1px rgba(60, 64, 67, 0.15);\n",
              "      fill: #174EA6;\n",
              "    }\n",
              "\n",
              "    [theme=dark] .colab-df-convert {\n",
              "      background-color: #3B4455;\n",
              "      fill: #D2E3FC;\n",
              "    }\n",
              "\n",
              "    [theme=dark] .colab-df-convert:hover {\n",
              "      background-color: #434B5C;\n",
              "      box-shadow: 0px 1px 3px 1px rgba(0, 0, 0, 0.15);\n",
              "      filter: drop-shadow(0px 1px 2px rgba(0, 0, 0, 0.3));\n",
              "      fill: #FFFFFF;\n",
              "    }\n",
              "  </style>\n",
              "\n",
              "      <script>\n",
              "        const buttonEl =\n",
              "          document.querySelector('#df-3ab0aca8-dc6b-4eab-88ae-286e09507768 button.colab-df-convert');\n",
              "        buttonEl.style.display =\n",
              "          google.colab.kernel.accessAllowed ? 'block' : 'none';\n",
              "\n",
              "        async function convertToInteractive(key) {\n",
              "          const element = document.querySelector('#df-3ab0aca8-dc6b-4eab-88ae-286e09507768');\n",
              "          const dataTable =\n",
              "            await google.colab.kernel.invokeFunction('convertToInteractive',\n",
              "                                                     [key], {});\n",
              "          if (!dataTable) return;\n",
              "\n",
              "          const docLinkHtml = 'Like what you see? Visit the ' +\n",
              "            '<a target=\"_blank\" href=https://colab.research.google.com/notebooks/data_table.ipynb>data table notebook</a>'\n",
              "            + ' to learn more about interactive tables.';\n",
              "          element.innerHTML = '';\n",
              "          dataTable['output_type'] = 'display_data';\n",
              "          await google.colab.output.renderOutput(dataTable, element);\n",
              "          const docLink = document.createElement('div');\n",
              "          docLink.innerHTML = docLinkHtml;\n",
              "          element.appendChild(docLink);\n",
              "        }\n",
              "      </script>\n",
              "    </div>\n",
              "  </div>\n",
              "  "
            ]
          },
          "metadata": {},
          "execution_count": 65
        }
      ]
    },
    {
      "cell_type": "markdown",
      "source": [
        "Dapat kita ketahui pada batas atas terdapat 53 baris data outliers, sedangkan untuk data bawah tidak ada data outliers.\n",
        "\n",
        "Kemudian kita akan drop baris sesuai index untuk mendapatkan data yang sudah tidak ada outliers."
      ],
      "metadata": {
        "id": "AgmQqvgmdnKP"
      }
    },
    {
      "cell_type": "code",
      "source": [
        "df.drop(index = [4127,4138,4139,4140,4142,4143,4144,4145,4146,4148,\n",
        "                 4149,4150,4151,4163,4164,4165,4166,4167,4168,4169,\n",
        "                 4170,4171,4172,4173,4174,4175,4176,4178,4179,4185,\n",
        "                 4186,4187,4188,4190,4191,4192,4193,4195,4196,4197,\n",
        "                 4198,4199,4200,4201,4202,4203,4204,4205,4206,4207,4208,4209,4210], inplace=True)"
      ],
      "metadata": {
        "id": "X9QgMXt3dCMr"
      },
      "execution_count": 66,
      "outputs": []
    },
    {
      "cell_type": "markdown",
      "source": [
        "Sesudah kita drop, kita coba lihat lagi apakah sudah tidak ada outliers atau belum."
      ],
      "metadata": {
        "id": "YWvrl-cofYq6"
      }
    },
    {
      "cell_type": "code",
      "source": [
        "sns.boxplot(data=df, y = 'sale_dollars');"
      ],
      "metadata": {
        "colab": {
          "base_uri": "https://localhost:8080/",
          "height": 252
        },
        "id": "Bfl0wqTmfeDg",
        "outputId": "11ebd536-8298-43ad-81c1-03c80f343293"
      },
      "execution_count": 67,
      "outputs": [
        {
          "output_type": "display_data",
          "data": {
            "text/plain": [
              "<Figure size 432x288 with 1 Axes>"
            ],
            "image/png": "[encoded data removed]"
          },
          "metadata": {
            "needs_background": "light"
          }
        }
      ]
    },
    {
      "cell_type": "markdown",
      "source": [
        "Ternyata masih banyak outliers disana, kita bisa kecilkan lagi nilai pembaginya pada batas bawah dan batas atas, namun ini sudah mewakili bahwa kita dapat mengurangi nilai outliers."
      ],
      "metadata": {
        "id": "QFqw-hxqhIij"
      }
    },
    {
      "cell_type": "markdown",
      "source": [
        "### 6. Hasil\n",
        "\n",
        "Problem 1 : \n",
        "\n",
        "a. Apakah kedua kalimat memiliki konteks yang serupa? jika iya, mengapa dan jika tidak, mengapa (jawab berdasarkan hasil perhitungan cosine similaritynya)?\n",
        "\n",
        "Iya, karena kita dapat lihat hasil cosine similarity mencapai 82% yang berarti kalimat 1 dengan kalimat 2 hampir memiliki kesamaan / kemiripan sebanyak 82%. Semakin mendekati 1 / 100%, semakin mirip antar kalimat tersebut.\n",
        "\n",
        "b. Jika meninjau dua buah vektor dan dihitung cosine similaritynya (cos theta), jelaskan secara singkat, jelas, padat apa makna cosine similarity yang bernilai 0 dan 1 (tinjau dari posisi dua vektor di koordinat kartesian)?\n",
        "\n",
        "Jika kita lihat dari koordinat kartesian, yang dikatakan cosine similarity 0 yaitu garis antar vektor itu saling berjauhan (dengan sudut 90 derajat), kemudian dikatakan cosine similarity 1 yaitu garis antar vektor itu saling bersamaan sehinggu membentuk garis titik koordinat yang sama. Pada gambar tersebut kalimat 1 berada pada garis lurus horizontal berwarna merah, kemudian kalimat 2 berada mendekati kalimat 1 sehingga dapat dikatakan bahwa kalimat 1 dengan kalimat 2 hampir memiliki persamaan.\n",
        "\n",
        "c. Mengapa cosine similarity harus melibatkan vektor bukan matriks?\n",
        "\n",
        "Karena vektor berbentuk 1 dimensi yang dimana untuk mendapatkan koordinat harus menggunakan vector, jika matrix berbentuk 2 dimensi yang dimana koordinat tidak menerima matrix.\n",
        "\n",
        "Problem 2 ;\n",
        "\n",
        "1. Berapa rata-rata, median, dan modus dari data tersebut sebelum dihilangkan outliernya? Bagaimana kecerendungan pemusatan datanya? jelaskan jawabanmu!\n",
        "\n",
        "Dari code dan tampilan visual diatas, kita dapat lihat bahwa nilai mean sale_dollars yaitu 347.98, kemudian nilai median yaitu 230.88 dan nilai mode yaitu 129.6 . Kemudian nilai mean dan median tidak terlalu jauh. Pemusatan data terletak pada range 0 - 800 dengan frekuensi hampir 4000.\n",
        "\n",
        "2. Sebelum melakukan extreme value analysis, kamu harus melakukan pengecekan skewness dari distribusi datanya.\n",
        "\n",
        "Dapat kita ketahui bahwa data yang kita punya yaitu skew, kemudian data itu right skew karena hasil dari menggunakan fungsi .skew() yaitu 12.17 yang dimana semakin besar nilai skew akan mengarah ke right skew, jika nilai skew itu minus akan mengarah ke left skew. Setelah itu kita akan lakukan uji lanjutan dengan menggunakan extreme value analisis.\n",
        "\n",
        "3. Apakah datanya skew atau normal? jelaskan jawabanmu!\n",
        "Ada dua teknik untuk melakukan extreme value analysis, teknik yang mana yang kamu pakai? berikan alasanmu berdasarkan data!\n",
        "\n",
        "Kita dapat lihat bahwa banyak sekali nilai outliers dengan kita menggunakan teknik Tukey's rule. Dengan arti data tersebut distribusinya tidak normal. Kemudian kita lakukan penghilangan outliers dan hasilnya baik. Mungkin perlu penggantian nilai 3 menjadi 1.5 pada rumus pencarian batas atas dan batas bawah agar hasilnya lebih banyak nilai outliers yang keluar."
      ],
      "metadata": {
        "id": "SsZ7zF1Khxy5"
      }
    },
    {
      "cell_type": "markdown",
      "source": [
        "# Terima kasih"
      ],
      "metadata": {
        "id": "zRFCZvQji6BI"
      }
    }
  ]
}